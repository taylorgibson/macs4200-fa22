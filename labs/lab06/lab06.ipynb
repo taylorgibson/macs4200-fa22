{
 "cells": [
  {
   "cell_type": "code",
   "execution_count": null,
   "id": "1dbc3888",
   "metadata": {
    "deletable": false,
    "editable": false
   },
   "outputs": [],
   "source": [
    "# Initialize Otter\n",
    "import otter\n",
    "grader = otter.Notebook(\"lab06.ipynb\")"
   ]
  },
  {
   "cell_type": "markdown",
   "id": "e1036f90",
   "metadata": {},
   "source": [
    "# Lab 06: Writing and Cracking the LFSR with a Plaintext Attack \n",
    "In this week’s lab, you’ll learn how to crack the LFSR cipher using a plaintext attack.\n",
    "\n",
    "Let’s get started!"
   ]
  },
  {
   "cell_type": "markdown",
   "id": "0a37cd39",
   "metadata": {},
   "source": [
    "# Part I: Dictionaries\n",
    "\n",
    "In Python, we can use a data structure called a dictionary to convert one string into another. Run the cell below to load a dictionary that converts upper case Roman characters into 5-bit binary strings. This may look familiar from the story of the Princess and the Rats.\n",
    "\n",
    "You may recall that there was a problem with this code. A 5-bit binary code requires a 32 character alphabet. We need an additional 6 characters. In this case, we will use: a comma, a period, a question mark, an exclamation point, an @ symbol (because it resembles a rat viewed from above), and finally a hashtag (because it looks like a cage for keeping rats)."
   ]
  },
  {
   "cell_type": "code",
   "execution_count": null,
   "id": "00e55f90",
   "metadata": {},
   "outputs": [],
   "source": [
    "binary = {\"A\":\"00000\",\"B\":\"00001\", \"C\":\"00010\", \"D\":\"00011\", \"E\":\"00100\", \"F\":\"00101\", \"G\":\"00110\", \"H\":\"00111\", \"I\":\"01000\", \"J\":\"01001\", \"K\":\"01010\", \"L\":\"01011\", \"M\":\"01100\", \"N\":\"01101\", \"O\":\"01110\",\"P\":\"01111\", \"Q\":\"10000\", \"R\":\"10001\", \"S\":\"10010\", \"T\":\"10011\", \"U\":\"10100\", \"V\":\"10101\", \"W\":\"10110\", \"X\":\"10111\", \"Y\":\"11000\",\"Z\":\"11001\", \",\":\"11010\",\".\":\"11011\",\"?\":\"11100\",\"!\":\"11101\",\"@\":\"11110\",\"#\":\"11111\"}\n"
   ]
  },
  {
   "cell_type": "markdown",
   "id": "126f957f",
   "metadata": {},
   "source": [
    "To use this dictionary, all we need to do is use the name of the dictionary and square brackets around the string we would like to \"translate\".  "
   ]
  },
  {
   "cell_type": "code",
   "execution_count": null,
   "id": "83514a33",
   "metadata": {},
   "outputs": [],
   "source": [
    "print(binary[\"A\"])"
   ]
  },
  {
   "cell_type": "markdown",
   "id": "af90ac1f",
   "metadata": {},
   "source": [
    "You might think that there is some clever and efficient way to \"reverse\" this dictionary so that you don't have to enter in a long stream of string equivalencies. If so, you are correct!\n",
    "\n",
    "All we need to do is define a new dictionary, this time called \"roman_char\" that will be the reverse of our dictionary, binary, above."
   ]
  },
  {
   "cell_type": "code",
   "execution_count": null,
   "id": "fa21fcf8",
   "metadata": {},
   "outputs": [],
   "source": [
    "roman_char = dict([[c,b] for b,c in binary.items()])\n",
    "\n",
    "#this command will print the roman character that we have equated to 30 \n",
    "\n",
    "print(roman_char[\"11110\"])"
   ]
  },
  {
   "cell_type": "markdown",
   "id": "efe420fa",
   "metadata": {},
   "source": [
    "Use the dictionary to write a function that will translate a short message such as \"Flee Rat\" into binary. But first, run the cell below."
   ]
  },
  {
   "cell_type": "code",
   "execution_count": null,
   "id": "31de7081",
   "metadata": {},
   "outputs": [],
   "source": [
    "def text_clean( text, LETTERS = 'ABCDEFGHIJKLMNOPQRSTUVWXYZ,.?!@#'):\n",
    "    \"\"\"\n",
    "    Arguments:\n",
    "        text (str): a piece of text for cleaning\n",
    "        LETTERS (str, optional): defines the alphabet of allowable characters\n",
    "    Returns:\n",
    "        (str): text with only the characters also found in LETTERS\n",
    "               lower-case letters in text will be made upper-case  \n",
    "    \"\"\"\n",
    "    cleaned_text = '' \n",
    "    \n",
    "    for character in text: \n",
    "        if character.upper() in LETTERS:\n",
    "            cleaned_text += character.upper()\n",
    "    \n",
    "    return cleaned_text\n"
   ]
  },
  {
   "cell_type": "code",
   "execution_count": null,
   "id": "85051fe7",
   "metadata": {
    "tags": []
   },
   "outputs": [],
   "source": [
    "def binary_convert(text, LETTERS = \"ABCDEFGHIJKLMNOPQRSTUVWXYZ,.?!@#\"):\n",
    "    message = ...\n",
    "    ..."
   ]
  },
  {
   "cell_type": "code",
   "execution_count": null,
   "id": "df37ffb2",
   "metadata": {
    "deletable": false,
    "editable": false
   },
   "outputs": [],
   "source": [
    "grader.check(\"q1_1\")"
   ]
  },
  {
   "cell_type": "markdown",
   "id": "f4ec4082",
   "metadata": {},
   "source": [
    "# Part II: Recovering our plaintext message\n",
    "\n",
    "Now that we can put a message into binary, we can also put a binary message back into Roman characters. But this time, there is one little wrinkle. We will have to break our binary message into short strings of 5 1s and 0s before feeding it into the dictionary.\n",
    "\n",
    "In the cell below, write a function to break a binary message into chunks of 5 and translate each one.\n",
    "\n",
    "If you do this correctly, you will be able to read this message, the opening lines of one of the oldest national anthems in the world, recently updated: \"001100111000011100100000010101001000011010001001000000010011000100011100000100 0101011001001001001110101001000101010010000110100110110100101101110011010011001 0110100010101001000111010100100010110101110000010101100100010100100001101001101 1010\"\n"
   ]
  },
  {
   "cell_type": "code",
   "execution_count": null,
   "id": "d33b0926",
   "metadata": {
    "tags": []
   },
   "outputs": [],
   "source": [
    "def roman_convert(text, LETTERS = \"ABCDEFGHIJKLMNOPQRSTUVWXYZ,.?!@#\"):\n",
    "    message = ...\n",
    "    output = ...\n",
    "    ...\n",
    "        p = ...\n",
    "        ...\n",
    "    output = ...\n",
    "    ...\n"
   ]
  },
  {
   "cell_type": "code",
   "execution_count": null,
   "id": "b3f01788",
   "metadata": {
    "deletable": false,
    "editable": false
   },
   "outputs": [],
   "source": [
    "grader.check(\"q2_1\")"
   ]
  },
  {
   "cell_type": "markdown",
   "id": "55ef89ee",
   "metadata": {},
   "source": [
    "<!-- BEGIN QUESTION -->\n",
    "\n",
    "Type your translation of the binary stream above into the cell below as a string named \"solution\"."
   ]
  },
  {
   "cell_type": "code",
   "execution_count": null,
   "id": "cda56627",
   "metadata": {
    "tags": []
   },
   "outputs": [],
   "source": []
  },
  {
   "cell_type": "markdown",
   "id": "ee35813e",
   "metadata": {},
   "source": [
    "<!-- END QUESTION -->\n",
    "\n",
    "# Part III: XORing two binary streams together\n",
    "\n",
    "Unfortunately, simply writing a message in binary characters is not a very good way to send a secret message. First of all, the resulting message is very long. Secondly, it is not hard to guess that A = 00000 or that B = 00001, etc. We could scramble the binary equivalencies, but then we would have something that was no different from a Caesar cipher with all it's attendant vulnerabilities. So, to get around this problem, we can XOR our binary stream with some other binary stream to encipher it. Let's use the key 01001.\n",
    "\n",
    "Try running the cell below to see how this works."
   ]
  },
  {
   "cell_type": "code",
   "execution_count": null,
   "id": "a7139b2a",
   "metadata": {},
   "outputs": [],
   "source": [
    "a = 10100\n",
    "b = 10010\n",
    "\n",
    "print(a^b)"
   ]
  },
  {
   "cell_type": "markdown",
   "id": "ba04e07a",
   "metadata": {},
   "source": [
    "Immediately, you see that the result should have been 00110, but the leading zeros were cut off. Even worse, remove the hashtags to see the error message that appears when you run the cell below."
   ]
  },
  {
   "cell_type": "code",
   "execution_count": null,
   "id": "8d24e07d",
   "metadata": {},
   "outputs": [],
   "source": [
    "#a = \"10100\"\n",
    "#b = \"10010\"\n",
    "\n",
    "#print(a^b)"
   ]
  },
  {
   "cell_type": "markdown",
   "id": "e1b66f17",
   "metadata": {},
   "source": [
    "Finally, sometimes you can get <i>very</i> strange results. Try running the cell below. "
   ]
  },
  {
   "cell_type": "code",
   "execution_count": null,
   "id": "eca6727c",
   "metadata": {},
   "outputs": [],
   "source": [
    "a = 11010\n",
    "b = 10011\n",
    "\n",
    "print (a^b)"
   ]
  },
  {
   "cell_type": "markdown",
   "id": "a97682ed",
   "metadata": {},
   "source": [
    "Instead, try this: the two binary streams start off as strings. Then their integer forms are XOR'd together. The \"comma 2\" indicates that the strings are binary representations. However, notice that the leading 0 zeros are still missing. In your function, you will have to make certain that the length of the resulting string is the same as the lengths of the string that you are enciphering.\n",
    "\n",
    "You will also have to repeat the keystring until it is as long as the message."
   ]
  },
  {
   "cell_type": "code",
   "execution_count": null,
   "id": "c403ca90",
   "metadata": {},
   "outputs": [],
   "source": [
    "a=\"11011111101100110110011001011101000\"\n",
    "b=\"11001011101100111000011100001100001\"\n",
    "y=int(a,2) ^ int(b,2)\n",
    "print('{0:b}'.format(y))"
   ]
  },
  {
   "cell_type": "code",
   "execution_count": null,
   "id": "c21279bb",
   "metadata": {
    "tags": []
   },
   "outputs": [],
   "source": [
    "def xor_function(messagestring, keystring):\n",
    "    ...\n",
    "                          "
   ]
  },
  {
   "cell_type": "code",
   "execution_count": null,
   "id": "5fdaaac6",
   "metadata": {
    "deletable": false,
    "editable": false
   },
   "outputs": [],
   "source": [
    "grader.check(\"q4_1\")"
   ]
  },
  {
   "cell_type": "markdown",
   "id": "1d31e71b",
   "metadata": {},
   "source": [
    "# Part IV: Putting it All Together and Encrypting Our First Message.\n",
    "\n",
    "Having a short and simple key is useful because it would be easy to securely share that key with your allies. Let's use the key \"01000\" to encrypt the message \"Lancashire\". If it works correctly, you will get <b>DIFKI,PAZM</b>.\n",
    "\n",
    "Write a function that converts the message into binary, XOR's it with the key, and then puts it into Roman characters again for ease of transmission. Since the XOR function can encipher as well as decipher, you can also make the function work backwards. Remember our convention that ciphertext is in upper case and plaintext is in lower case. Make sure that you repeat the key enough times that it \"covers\" the message.\n",
    "\n",
    "If you do this correctly, then you will be able to decipher and read this message: \",HJOJ#YH@NP.?LCS!YWBH,UBSEMXB#YH@NEE!COWBH,UMSKY??OPOOWBH,U\". It is the opening lines of one of the oldest national anthems in the world, recently updated. \n"
   ]
  },
  {
   "cell_type": "code",
   "execution_count": null,
   "id": "1b4f9633",
   "metadata": {
    "tags": []
   },
   "outputs": [],
   "source": [
    "def xor_encrypt(message, key, encrypt = True, LETTERS = \"ABCDEFGHIJKLMNOPQRSTUVWXYZ,.?!@#\"):\n",
    "    ...\n"
   ]
  },
  {
   "cell_type": "code",
   "execution_count": null,
   "id": "a72cbf0e",
   "metadata": {
    "deletable": false,
    "editable": false
   },
   "outputs": [],
   "source": [
    "grader.check(\"q4_2\")"
   ]
  },
  {
   "cell_type": "markdown",
   "id": "ce25873b",
   "metadata": {},
   "source": [
    "Interestingly, a message encrypted this way with a short key will resemble our caesar cipher quite closely and have some of the same vulnerabilities. Use the function below to experiment with several short messages and 5-bit keys. In particular, try a 5-bit key and then use the Caesar cipher key that corresponds to that same number. For example, try \"01100\" and 12."
   ]
  },
  {
   "cell_type": "code",
   "execution_count": null,
   "id": "c7e2cf9a",
   "metadata": {},
   "outputs": [],
   "source": [
    "def caesar(message, key, LETTERS = \"ABCDEFGHIJKLMNOPQRSTUVWXYZ,.?!@#\"):\n",
    "    message = text_clean(message)\n",
    "    output = \"\"\n",
    "\n",
    "    for char in message:\n",
    "      index = LETTERS.find(char)\n",
    "      newindex = (index + key) % len(LETTERS)\n",
    "      output = output + (LETTERS[newindex])\n",
    "    return(output)"
   ]
  },
  {
   "cell_type": "markdown",
   "id": "d3e457ab",
   "metadata": {},
   "source": [
    "What do you notice? Write a few sentences in the cell below."
   ]
  },
  {
   "cell_type": "markdown",
   "id": "c7c278ac",
   "metadata": {},
   "source": [
    "<!-- BEGIN QUESTION -->\n",
    "\n"
   ]
  },
  {
   "cell_type": "code",
   "execution_count": null,
   "id": "01c9020a",
   "metadata": {
    "tags": []
   },
   "outputs": [],
   "source": []
  },
  {
   "cell_type": "markdown",
   "id": "7726f981",
   "metadata": {},
   "source": [
    "<!-- END QUESTION -->\n",
    "\n",
    "# Part VI: Creating an LFSR keystream\n",
    "\n",
    "The LFSR function lets us have a short and simple key and yet, generate a keystream that is much more complex than that short key would initally allow.\n",
    "\n",
    "In this example, we will start with a 5-bit seed. The \"rule\" we use will be that the left most bit in the table will be the XOR sum of the first, second, and fourth bits when the seed is read from right to left. As usual, the keystream will be the outputs of the right most column. However, an LFSR can have many more digit in its seed and can have any rule.\n",
    "\n",
    "Using a seed of 11001 (as a string), the first 10 digits of the keystream should be 1001101110. Create a function that takes in the 5-bit seed and outputs a keystream of any integer length."
   ]
  },
  {
   "cell_type": "code",
   "execution_count": null,
   "id": "c7eb37bd",
   "metadata": {
    "tags": []
   },
   "outputs": [],
   "source": [
    "def LFSR_gen(seed, length):\n",
    "    ..."
   ]
  },
  {
   "cell_type": "code",
   "execution_count": null,
   "id": "f2c938eb",
   "metadata": {
    "deletable": false,
    "editable": false
   },
   "outputs": [],
   "source": [
    "grader.check(\"q6\")"
   ]
  },
  {
   "cell_type": "markdown",
   "id": "9fda530e",
   "metadata": {},
   "source": [
    "# Putting it All Together: The Reboot\n",
    "\n",
    "Now we can use our new and improved pseudorandom keystream to encipher our message. Because the XOR function is exactly the same deciphering and enciphering, we can write a function with encryption set to the default value of true that will encrypt if not otherwise specified. Then we can create a function that will take in a message and a 5-bit seed and return plaintext to us if ciphertext is provided, and also do the reverse. As you write your function, recall our convention of putting plaintext in lower case and ciphertext in upper case.\n",
    "\n",
    "If you succeed, \"Whenever You Need Somebody\", the title of a popular pop song, should become FJG@KXX#,!,PXKBBAOXPMQW. Also, if you input FJG@KXX#,!,PXKBBAOXPMQW, then your output should be wheneveryouneedsomebody. Notice that we lost the capitals in the title and also the spaces, but the message is easy to understand regardless. \n"
   ]
  },
  {
   "cell_type": "code",
   "execution_count": null,
   "id": "ff60dd98",
   "metadata": {
    "tags": []
   },
   "outputs": [],
   "source": [
    "def LFSR_encipher(message, seed, encipher = True, LETTERS = \"ABCDEFGHIJKLMNOPQRSTUVWXYZ,.?!@#\"):\n",
    "    ...\n"
   ]
  },
  {
   "cell_type": "code",
   "execution_count": null,
   "id": "6bad5a9e",
   "metadata": {
    "deletable": false,
    "editable": false
   },
   "outputs": [],
   "source": [
    "grader.check(\"q7\")"
   ]
  },
  {
   "cell_type": "markdown",
   "id": "a4421240",
   "metadata": {},
   "source": [
    "<!-- BEGIN QUESTION -->\n",
    "\n",
    "# Your Agents Have Intercepted a Secret Message From A Powerful Global Organization\n",
    "\n",
    "This is the message:\n",
    "    \n",
    "@KXX#E!DPTIKGK,!,W?DGGKTVAP@OJX!,!,B!YP@KXX#E!DPT#W@OT!,PQOPQNGBKTAWMHDGGKTVAP@OOTEGLAWR#,@KXX#E!DPT?CLIM!NDLKPX.GCIM@DCAKJYOJ.KC@NFH#RLAW\n",
    "\n",
    "Your agents also believe that the message was enciphered with the same LFSR keystream our program can generate and a seed of \"11001\". What a lucky coincidence! Decipher the message. What horrible thing have your enemies done to you? Answer in the cell below."
   ]
  },
  {
   "cell_type": "code",
   "execution_count": null,
   "id": "68175a8d",
   "metadata": {
    "tags": []
   },
   "outputs": [],
   "source": []
  },
  {
   "cell_type": "markdown",
   "id": "e6f5b514",
   "metadata": {},
   "source": [
    "<!-- END QUESTION -->\n",
    "\n",
    "Submitting your work \n",
    "You’re done with this Lab! All assignments in the course will be distributed as notebooks like this one, and you will submit your work by doing the following:\n",
    "\n",
    "Save your notebook\n",
    "Restart the kernel and run up to this cell.\n",
    "Run all the tests by running the cell containing grader.check_all(). Make sure they pass the way you expect them to.\n",
    "Run the cell below with the code grader.export(...).\n",
    "Download the file named labXX.zip, found in the explorer pane on the left side of the screen.\n",
    "Upload labXX-<date-time stamp>.zip to the corresponding lab assignment on Canvas."
   ]
  },
  {
   "cell_type": "markdown",
   "id": "438e1aa4",
   "metadata": {
    "deletable": false,
    "editable": false
   },
   "source": [
    "## Submission\n",
    "\n",
    "Make sure you have run all cells in your notebook in order before running the cell below, so that all images/graphs appear in the output. The cell below will generate a zip file for you to submit.\n",
    "\n",
    "When done exporting, find the `.zip` file in the left side of the screen in the file browser, right-click, and select **Download**. You'll submit this `.zip` file for the assignment Gradescope for grading."
   ]
  },
  {
   "cell_type": "code",
   "execution_count": null,
   "id": "73a897ae",
   "metadata": {
    "deletable": false,
    "editable": false
   },
   "outputs": [],
   "source": [
    "grader.export(pdf=False, force_save=True)"
   ]
  },
  {
   "cell_type": "markdown",
   "id": "19ae72a6",
   "metadata": {},
   "source": [
    " "
   ]
  }
 ],
 "metadata": {
  "kernelspec": {
   "display_name": "Python 3 (ipykernel)",
   "language": "python",
   "name": "python3"
  },
  "language_info": {
   "codemirror_mode": {
    "name": "ipython",
    "version": 3
   },
   "file_extension": ".py",
   "mimetype": "text/x-python",
   "name": "python",
   "nbconvert_exporter": "python",
   "pygments_lexer": "ipython3",
   "version": "3.10.5"
  },
  "otter": {
   "tests": {
    "q1_1": {
     "name": "q1_1",
     "points": null,
     "suites": [
      {
       "cases": [
        {
         "code": ">>> binary_convert(\"b\") != None\nTrue",
         "failure_message": "Check that you are returning the ciphertext, not printing it",
         "hidden": false,
         "locked": false,
         "points": 1
        },
        {
         "code": ">>> binary_convert(\"binary\")\n'000010100001101000001000111000'",
         "hidden": false,
         "locked": false,
         "points": 1
        }
       ],
       "scored": true,
       "setup": "",
       "teardown": "",
       "type": "doctest"
      }
     ]
    },
    "q2_1": {
     "name": "q2_1",
     "points": null,
     "suites": [
      {
       "cases": [
        {
         "code": ">>> roman_convert(\"10000\") != None\nTrue",
         "failure_message": "Check that you are returning the ciphertext, not printing it",
         "hidden": false,
         "locked": false,
         "points": 1
        },
        {
         "code": ">>> roman_convert(\"10001\")\n'r'",
         "failure_message": "Check that you are returning the ciphertext, not printing it",
         "hidden": false,
         "locked": false,
         "points": 1
        },
        {
         "code": ">>> roman_convert(\"11111\")\n'#'",
         "failure_message": "Check that you are using our expanded alphabet correctly and that you are returning plaintext in lower case.",
         "hidden": false,
         "locked": false,
         "points": 1
        }
       ],
       "scored": true,
       "setup": "",
       "teardown": "",
       "type": "doctest"
      }
     ]
    },
    "q4_1": {
     "name": "q4_1",
     "points": null,
     "suites": [
      {
       "cases": [
        {
         "code": ">>> xor_function(\"1000101001010100101001\", \"10010\") != None\n'0001111011110001100011'",
         "failure_message": "Check that you are returning and not printing",
         "hidden": false,
         "locked": false,
         "points": 0
        },
        {
         "code": ">>> xor_function(\"1000101001010100101001\", \"10010\")\n'0001111011110001100011'",
         "failure_message": "Check that you are inputting two strings",
         "hidden": false,
         "locked": false,
         "points": 1
        }
       ],
       "scored": true,
       "setup": "",
       "teardown": "",
       "type": "doctest"
      }
     ]
    },
    "q4_2": {
     "name": "q4_2",
     "points": null,
     "suites": [
      {
       "cases": [
        {
         "code": ">>> xor_encrypt(\"1000101001010100101001\", \"10010\") != None\n",
         "failure_message": "Check that you are returning and not printing",
         "hidden": false,
         "locked": false,
         "points": 0
        },
        {
         "code": ">>> xor_encrypt(\"helloworld\", \"10010\")\n'VWZZ?E?DZR'",
         "failure_message": "Check that you are xor'ing with a keystream that is long enough",
         "hidden": false,
         "locked": false,
         "points": 1
        }
       ],
       "scored": true,
       "setup": "",
       "teardown": "",
       "type": "doctest"
      }
     ]
    },
    "q6": {
     "name": "q6",
     "points": null,
     "suites": [
      {
       "cases": [
        {
         "code": ">>> LFSR_gen(\"11100\", 10) != None\nTrue",
         "failure_message": "Check that you are returning and not printing",
         "hidden": false,
         "locked": false,
         "points": 0
        },
        {
         "code": ">>> LFSR_gen(\"11100\", 15)\n'001111010110010'",
         "failure_message": "Temporarily print each row to make sure it is doing what you think it should be doing.",
         "hidden": false,
         "locked": false,
         "points": 2
        }
       ],
       "scored": true,
       "setup": "",
       "teardown": "",
       "type": "doctest"
      }
     ]
    },
    "q7": {
     "name": "q7",
     "points": null,
     "suites": [
      {
       "cases": [
        {
         "code": ">>> LFSR_encipher(\"Hello World\",\"00011\") != None\nTrue",
         "failure_message": "Check that are returning and not printing.",
         "hidden": false,
         "locked": false,
         "points": 0
        },
        {
         "code": ">>> LFSR_encipher(\"HelloWorld\",\"00011\")\n'#OGTE.W.G.'",
         "failure_message": "Check that are feeding two strings into your function.",
         "hidden": false,
         "locked": false,
         "points": 1
        },
        {
         "code": ">>> LFSR_encipher(\"Hell0W0rld\",\"00011\")\n'#OGT??TJ'",
         "failure_message": "Check that you are using text_clean to clean your function.",
         "hidden": false,
         "locked": false,
         "points": 1
        },
        {
         "code": ">>> LFSR_encipher(\"#OGTE.W.G.\",\"00011\", False)\n'helloworld'",
         "failure_message": "Check that your function can decipher as well as encipher and returns plaintext in lower case.",
         "hidden": false,
         "locked": false,
         "points": 1
        }
       ],
       "scored": true,
       "setup": "",
       "teardown": "",
       "type": "doctest"
      }
     ]
    }
   }
  }
 },
 "nbformat": 4,
 "nbformat_minor": 5
}

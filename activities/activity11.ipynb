{
 "cells": [
  {
   "cell_type": "markdown",
   "id": "526c7350-a40a-47f9-8938-a3e0ce429a19",
   "metadata": {},
   "source": [
    "# Activity 11: Encrypt the Classics"
   ]
  },
  {
   "cell_type": "markdown",
   "id": "2010a3c0-6309-40cb-baff-db20cfe60bc0",
   "metadata": {},
   "source": [
    "Project Gutenberg (https://www.gutenberg.org) is a website that hosts the world’s great literature, with focus on older works for which U.S. copyright has expired. As such, it provides legal access to thousands of books, many of which are stored in a .txt file that can be imported into your Python workflow."
   ]
  },
  {
   "cell_type": "markdown",
   "id": "88136f84-624d-4a5c-83a2-4c4de418a83b",
   "metadata": {},
   "source": [
    "## Directions:"
   ]
  },
  {
   "cell_type": "markdown",
   "id": "7649eb25-42d5-4388-bf2d-baed99a6cce2",
   "metadata": {},
   "source": [
    "1. **Choose a book to work with**. Navigate to the Top 100 downloaded books section (https://www.gutenberg.org/browse/scores/top) and find a book that calls to you. Click on the list for the book to load the information page for that specific book.,\n",
    "2. **Download a copy of the book** You'll see that each book is available in a few different formats. You could view in HTML (for your web browser), EPUB (for your eBook reader), or Plain Text UTF-8 (a .txt file for your Python notebook). You should right click on the link for the Plain Text UTF-8 .txt file and save it to your local computer. You can open it on your computer to verify it downloaded correctly, it should open in Notepad (Windows) or TextEdit (Mac).\n",
    "3. **Upload the text file to the activities folder** in your course folder on Datahub (where this file is)\n",
    "4. **Load the text in the file as a string** (refer back to Lab 02 to see how to do this)."
   ]
  },
  {
   "cell_type": "code",
   "execution_count": null,
   "id": "c7ef5225-dfda-461d-8e2a-ac9cca470801",
   "metadata": {},
   "outputs": [],
   "source": []
  },
  {
   "cell_type": "markdown",
   "id": "6e67cb21-c84c-4fb4-a3a1-f8d7178812f6",
   "metadata": {},
   "source": [
    "\n",
    "5. **Clean the text using the `text_clean` function from Activity 10**. Save the cleaned version for use in this activity. When complete the string should only contain the 26 uppercase English letters, without spaces or punctuation.\""
   ]
  },
  {
   "cell_type": "code",
   "execution_count": null,
   "id": "4f6d5af6-b361-4426-a77e-3cc410e0c41c",
   "metadata": {},
   "outputs": [],
   "source": []
  },
  {
   "cell_type": "markdown",
   "id": "a8a3c347-d1c4-4430-8d1f-a480c608d052",
   "metadata": {},
   "source": [
    "6. **Use `Matplotlib` to create a bar chart**. Compare how the frequencies of the 26 letters are similar/different to what is expected with the English language. You'll probably see something similar, but don't be surprised that if the English translation from the ancient Greek version of *The Republic* by Plato doesn't quite follow the same letter distribution as a book from a more modern era!\"\n"
   ]
  },
  {
   "cell_type": "code",
   "execution_count": null,
   "id": "3a2b44fa-7a57-4ebf-b396-2b311e21a252",
   "metadata": {},
   "outputs": [],
   "source": []
  },
  {
   "cell_type": "markdown",
   "id": "3e06b459-4a95-4ed0-b952-c35882e9c1a8",
   "metadata": {},
   "source": [
    "\n",
    "7. **Encrypt your message using the Affine cipher.** You should already have a function written to do this for the Caesar cipher you wrote back in Activity 08 (didn't do that? Now's a good time to catch up!). Modifying your Caesar function to encrypt a message for the Affine cipher should only involve taking in another parameter (for the multiplicative key) and then using that key with some multiplication inside the encryption loop. You don't need to have the function decipher messages for this activity, but you *could* think about how you'd do that. I'd try to use the `mult_inverse` function you wrote in Activity 10 to help out!\n",
    "  "
   ]
  },
  {
   "cell_type": "code",
   "execution_count": null,
   "id": "c074c176-229f-4cea-a7e8-1e9c3f636853",
   "metadata": {},
   "outputs": [],
   "source": []
  },
  {
   "cell_type": "markdown",
   "id": "95bd5638-8d47-4d55-bd72-86e462a85851",
   "metadata": {},
   "source": [
    "8. **Use `Matplotlib` to create a bar chart (again)**. Create a bar chart of your ciphertext. I wouldn't expect this one to follow the patterns of the English language!\n"
   ]
  },
  {
   "cell_type": "code",
   "execution_count": null,
   "id": "593a4c1e-38e3-4350-ade4-4370376cf3c6",
   "metadata": {},
   "outputs": [],
   "source": []
  },
  {
   "cell_type": "markdown",
   "id": "13689c9f-2c00-4704-882e-8ef5ab50ccd5",
   "metadata": {},
   "source": [
    "9. **Post the bar chart to EdSTEM**.\n",
    "Create a new response to the post your instructor created in the Activities section of EdSTEM for Activity 11, and which includes the image of your bar chart for your encrypted text. To create the image you can either take a screen shot of your bar chart OR if you right click on the bar chart, you should have an option to \\\"Create a New View for Output\\\". This will put the image into a new window. If you right click on the image in the new window, you should have an option to save it to your computer. Either way, once you have an image file on your computer, you can post that to the EdSTEM discussion board.\"\n",
    "  "
   ]
  },
  {
   "cell_type": "markdown",
   "id": "662cff74-a480-4180-9776-3ff327cca783",
   "metadata": {},
   "source": [
    "10. **Guess someone elses keys!** Here's the fun part. See if you can use someone else's bar chart to determine the keys that they used to encrypt their message. You'll need to set up a system of congruences and solve for the keys! Be careful, since if you don't guess the correct plaintext to ciphertext mappings, you may not be able to solve the system you create. Once you think you've determined the keys, reply to the poster's message so they can confirm that you're correct (or let you know you've got some more work to do!)\"\n"
   ]
  }
 ],
 "metadata": {
  "kernelspec": {
   "display_name": "Python 3 (ipykernel)",
   "language": "python",
   "name": "python3"
  },
  "language_info": {
   "codemirror_mode": {
    "name": "ipython",
    "version": 3
   },
   "file_extension": ".py",
   "mimetype": "text/x-python",
   "name": "python",
   "nbconvert_exporter": "python",
   "pygments_lexer": "ipython3",
   "version": "3.10.5"
  }
 },
 "nbformat": 4,
 "nbformat_minor": 5
}

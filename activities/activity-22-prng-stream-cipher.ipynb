{
 "cells": [
  {
   "cell_type": "code",
   "execution_count": null,
   "id": "9d8ff35f",
   "metadata": {
    "deletable": false,
    "editable": false
   },
   "outputs": [],
   "source": [
    "# Initialize Otter\n",
    "import otter\n",
    "grader = otter.Notebook(\"activity-22-prng-stream-cipher.ipynb\")"
   ]
  },
  {
   "cell_type": "markdown",
   "id": "f857ada3",
   "metadata": {
    "id": "9de8be63-f316-4c48-989d-9d963e069311"
   },
   "source": [
    "# Activity 22: Creating a Pseudorandom Number Generator Stream Cipher"
   ]
  },
  {
   "cell_type": "markdown",
   "id": "7f6e2202",
   "metadata": {
    "id": "9aee35af-ee66-4eec-8e9e-bab3f47cc22d"
   },
   "source": [
    "In **Activity 22: Introduction to Stream Ciphers**, you saw how you could use ASCII to convert a keyword and plaintext into a stream of binary that could be XOR'd to produce binary ciphertext. In an ideal environment, the keystream would not be based on a word that could be guessed, but rather contain a truly random sequence of 1's and 0's. Since true randomness is essentially impossible to capture, and even if it was, it would be actually impossible to ensure that both the sending and receiving parties had access to the same stream to encrypt and decrypt the message. After all, if you had a way to securely send over the random stream of 1's and 0's that was unique to each message so the receiver could use it, then why bother with encryption in the first place? Just send the message in the same fashion that you are sending the keystream! \n",
    "\n",
    "We can attempt to mimic a true One-time Pad (OTP) Cipher using the pseudorandom number generator that Python has built-in and is found in the `random` library."
   ]
  },
  {
   "cell_type": "markdown",
   "id": "41029216",
   "metadata": {
    "id": "e3a7fd2e-74b0-492b-8327-f793ca01a79a"
   },
   "source": [
    "## Question 1.1: Choose a message\n",
    "\n",
    "Store an ASCII compliant message as a string to the variable `ascii_plaintext` below."
   ]
  },
  {
   "cell_type": "code",
   "execution_count": null,
   "id": "90ed3f87",
   "metadata": {
    "id": "246d36a6-2945-412f-97cd-7a400cfa6295",
    "tags": []
   },
   "outputs": [],
   "source": [
    "ascii_plaintext = ..."
   ]
  },
  {
   "cell_type": "code",
   "execution_count": null,
   "id": "d5386a58",
   "metadata": {
    "deletable": false,
    "editable": false
   },
   "outputs": [],
   "source": [
    "grader.check(\"q1_1\")"
   ]
  },
  {
   "cell_type": "markdown",
   "id": "51b7a3bb",
   "metadata": {
    "id": "3417ee0c-aab8-46ad-b44e-7c546589ba04"
   },
   "source": [
    "## Question 1.2: Convert plaintext to binary\n",
    "\n",
    "Write a `for` loop that iterates over `ascii_plaintext` one character at a time and uses `ord` to convert the character to it's ASCII/UTF-8 decimal value. Then, use the `format` function to convert this into an 8-bit string. Finally, append these 8 bits (1 byte) to the end of the string named `binary_plaintext`."
   ]
  },
  {
   "cell_type": "code",
   "execution_count": null,
   "id": "548c95aa",
   "metadata": {
    "id": "46bf1634-b065-4eb8-90cc-42bcbc932bd5",
    "outputId": "7bef1d23-261a-445d-9033-d083e30e2753",
    "tags": []
   },
   "outputs": [],
   "source": [
    "binary_plaintext = ''\n",
    "...\n",
    "    ...\n",
    "\n",
    "print(binary_plaintext)"
   ]
  },
  {
   "cell_type": "code",
   "execution_count": null,
   "id": "bb1bbe60",
   "metadata": {
    "deletable": false,
    "editable": false
   },
   "outputs": [],
   "source": [
    "grader.check(\"q1_2\")"
   ]
  },
  {
   "cell_type": "markdown",
   "id": "614d7a06",
   "metadata": {
    "id": "e5d1ce0c-8bec-4120-bede-2b8912b461bc"
   },
   "source": [
    "## Question 1.3: Generate a keystream\n",
    "You'll need to generate a keystream that has the same number of bits that your binary plaintext uses. \n",
    "\n",
    "You can do this by:\n",
    "* set a seed of your choosing to initialize the random number generator. The notebook starts with a seed value of 4200 (the course number) but you can change it to anything you want. This value should be kept secret from prying eyes!\n",
    "* using the `random.getrandbits()` function. Remember this function takes in an argument that specifies how many random bits you want. **Hint:** the length of the `binary_plaintext` string could be helpful here!\n",
    "  * Remember, `.getrandbits()` will return an integer in decimal form by default. **That's okay**. We can use it to XOR in this form, even though we think about XOR using binary number. Python can convert for us behind the scenes as needed."
   ]
  },
  {
   "cell_type": "code",
   "execution_count": null,
   "id": "6df86e84",
   "metadata": {
    "id": "8b7abf9c-a256-428c-8c7d-f0a56afb02f1",
    "outputId": "503363f9-a9e4-4a1c-ad33-8544ae1c7914",
    "tags": []
   },
   "outputs": [],
   "source": [
    "import random\n",
    "random.seed(4200)\n",
    "keystream = ...\n",
    "print(keystream)"
   ]
  },
  {
   "cell_type": "code",
   "execution_count": null,
   "id": "ac43889c",
   "metadata": {
    "deletable": false,
    "editable": false
   },
   "outputs": [],
   "source": [
    "grader.check(\"q1_3\")"
   ]
  },
  {
   "cell_type": "markdown",
   "id": "3ca61d43",
   "metadata": {
    "id": "0a7daf64-fc76-4422-8a56-0f3a74eb2628",
    "tags": []
   },
   "source": [
    "### Question 1.4: XOR the plaintext and keystream\n",
    "Now that you have plaintext as a binary string and the keystream as a decimal, you are just about ready to encrypt your message. First, convert `binary_plaintext` to it's decimal representation using the `int` function. Store the result to `numerical_plaintext`. Then use the XOR operation (`^`) in Python to XOR `numerical_plaintext` and `keystream` and save this result as `numerical_ciphertext`."
   ]
  },
  {
   "cell_type": "code",
   "execution_count": null,
   "id": "6173bdba",
   "metadata": {
    "id": "0a9e5905-b0f0-4b6b-b568-2e90aa0e29c8",
    "outputId": "73059bd9-27cb-4b59-978a-8aa51012b27d",
    "tags": []
   },
   "outputs": [],
   "source": [
    "numerical_plaintext = ...\n",
    "numerical_ciphertext = ...\n",
    "print(numerical_ciphertext)"
   ]
  },
  {
   "cell_type": "code",
   "execution_count": null,
   "id": "30d44d07",
   "metadata": {
    "deletable": false,
    "editable": false
   },
   "outputs": [],
   "source": [
    "grader.check(\"q1_4\")"
   ]
  },
  {
   "cell_type": "markdown",
   "id": "4ef9f7df",
   "metadata": {
    "id": "c8899c9d-838e-4f97-b62a-512282289e88"
   },
   "source": [
    "### Question 1.5: Convert ciphertext to ASCII\n",
    "Now that you have your ciphertext in decimal format, it's time to work it back to binary and then to ASCII so we can visually inspect it as a string.\n",
    "\n",
    "Below is code that will convert your decimal to a binary representation of equal length as the original message. It does this by constructing the second argument of the `format` function using 3 concatenated strings: \n",
    "* `0`: the leading 0 indicates to pad this binary number using 0's\n",
    "* `str(len(binary_plaintext))`: this computes the length of the plaintext (in binary) and then converts that number to a string\n",
    "* `b`: the trailing `b` indicates to format the number in binary.\n",
    "\n",
    "So if your original message was 40 binary digits, the second argument in the code below would be essentially the string `'040b'`\n",
    "\n",
    "If you didn't include these specifics, and just included `'b'` as the second argument, you run the risk that the decimal representation of the ciphertext doesn't need as many bits as the plaintext did (maybe it had a few leading 0's) and therefore doesn't have a quantity of bits that is divisible by 8. This way, we can collect groups of 8 bits to convert to characters without worrying that we are \"missing\" some bits at the front of the binary representation."
   ]
  },
  {
   "cell_type": "code",
   "execution_count": null,
   "id": "9dc34c81",
   "metadata": {
    "id": "96caf76b-1cb6-4417-afde-5000bbc9e7e4",
    "outputId": "591bb109-c86e-42bf-9ec9-a4645f275bea"
   },
   "outputs": [],
   "source": [
    "binary_ciphertext = format( numerical_ciphertext, '0'+str(len(binary_plaintext))+'b')\n",
    "print(binary_ciphertext)"
   ]
  },
  {
   "cell_type": "markdown",
   "id": "dfeea9a8",
   "metadata": {
    "id": "907baf89-9a14-464a-98dd-2e44eb41bf4a"
   },
   "source": [
    "In the cell below, use a `loop` to iterate over 8 bits of `binary_ciphertext` at a time, each time converting those 8 bits to a decimal using `int`, and then using `chr` to convert the numerical value to the corresponding ASCII character. This character should be appended to the end of the string named `ascii_ciphertext`.\n",
    "\n",
    "After conversion, look at how `print(ascii_ciphertext)` and `print(ascii(ascii_ciphertext))` differ. If there are any 8-bit numbers that correspond to a decimal value outside of the standard printable ASCII range of 32-127 then the hexadecimal code will be displayed instead. So characters that only appear in extended-ASCII or UTF-8, for example `Û`, will display like `\\xdb` and other non-printable ASCII characters like `\u0011` will display as `\\x11`. \n",
    "\n",
    "**Remember:** All the information is correctly stored in the string `ascii_ciphertext`, using the `ascii` function just decides how to display that information when printing it out. "
   ]
  },
  {
   "cell_type": "code",
   "execution_count": null,
   "id": "1146d37f",
   "metadata": {
    "id": "ae373234-97b5-4306-9157-4025329cfe2f",
    "outputId": "a8b4a20b-4b59-4be5-9117-fc3652714933",
    "tags": []
   },
   "outputs": [],
   "source": [
    "ascii_ciphertext = ''\n",
    "\n",
    "...\n",
    "    ...\n",
    "\n",
    "print(ascii_ciphertext)\n",
    "print(ascii(ascii_ciphertext))"
   ]
  },
  {
   "cell_type": "code",
   "execution_count": null,
   "id": "8507baf2",
   "metadata": {
    "deletable": false,
    "editable": false
   },
   "outputs": [],
   "source": [
    "grader.check(\"q1_5\")"
   ]
  },
  {
   "cell_type": "markdown",
   "id": "f2781a8c",
   "metadata": {
    "id": "f6910bd8-c14f-40f6-86ed-e2b053ee1457"
   },
   "source": [
    "### Question 1.6: Deciphering the message\n",
    "\n",
    "Run the cell below to  confirm that when you XOR the ciphertext with the keystream, the result is the original plaintext message. In this example it's sufficient to verify that their numerical representations are identical since we know that the numerical representations determine the text."
   ]
  },
  {
   "cell_type": "code",
   "execution_count": null,
   "id": "5b0f84b3",
   "metadata": {
    "id": "e4fb87ac-67e1-449d-9d48-256efa29a5cb",
    "outputId": "a80fc6e8-ce74-4af2-e6c5-b23bdf175ad3"
   },
   "outputs": [],
   "source": [
    "verify_plaintext = numerical_ciphertext ^ keystream\n",
    "print('             plaintext (decimal): ', numerical_plaintext)\n",
    "print('ciphertext ^ keystream (decimal): ', verify_plaintext)"
   ]
  },
  {
   "cell_type": "markdown",
   "id": "3535cdfe",
   "metadata": {
    "id": "e9df94d9-f36d-4712-af04-cca291f721c1"
   },
   "source": [
    "## Wrapping Up\n",
    "\n",
    "That's it! You've found a way to generate a pseudorandom stream of bits that can be used with the XOR operation to implement a stream cipher in Python. As long as the person you send your message to knows the `seed` value you used to prepare the random number generator, they can decipher any message you send them. You should *of course* never reuse the same seed however, as reuse of the key can allow for an attacker to collect ciphertexts that were encrypted used the same keystream and eventually determine the keystream."
   ]
  },
  {
   "cell_type": "markdown",
   "id": "7f4fb739",
   "metadata": {
    "deletable": false,
    "editable": false
   },
   "source": [
    "---\n",
    "\n",
    "To double-check your work, the cell below will rerun all of the autograder tests."
   ]
  },
  {
   "cell_type": "code",
   "execution_count": null,
   "id": "bcc293bd",
   "metadata": {
    "deletable": false,
    "editable": false
   },
   "outputs": [],
   "source": [
    "grader.check_all()"
   ]
  }
 ],
 "metadata": {
  "colab": {
   "provenance": []
  },
  "kernelspec": {
   "display_name": "Python 3 (ipykernel)",
   "language": "python",
   "name": "python3"
  },
  "language_info": {
   "codemirror_mode": {
    "name": "ipython",
    "version": 3
   },
   "file_extension": ".py",
   "mimetype": "text/x-python",
   "name": "python",
   "nbconvert_exporter": "python",
   "pygments_lexer": "ipython3",
   "version": "3.9.6"
  },
  "otter": {
   "tests": {
    "q1_1": {
     "name": "q1_1",
     "points": 1,
     "suites": [
      {
       "cases": [
        {
         "code": ">>> ascii_plaintext.isascii()\nTrue",
         "hidden": false,
         "locked": false
        }
       ],
       "scored": true,
       "setup": "",
       "teardown": "",
       "type": "doctest"
      }
     ]
    },
    "q1_2": {
     "name": "q1_2",
     "points": 1,
     "suites": [
      {
       "cases": [
        {
         "code": ">>> len(binary_plaintext) == len(ascii_plaintext) * 8\nTrue",
         "hidden": false,
         "locked": false
        }
       ],
       "scored": true,
       "setup": "",
       "teardown": "",
       "type": "doctest"
      }
     ]
    },
    "q1_3": {
     "name": "q1_3",
     "points": 1,
     "suites": [
      {
       "cases": [
        {
         "code": ">>> random.seed(4200)\n>>> keystream == random.getrandbits(len(binary_plaintext))\nTrue",
         "hidden": false,
         "locked": false
        }
       ],
       "scored": true,
       "setup": "",
       "teardown": "",
       "type": "doctest"
      }
     ]
    },
    "q1_4": {
     "name": "q1_4",
     "points": 1,
     "suites": [
      {
       "cases": [
        {
         "code": ">>> numerical_ciphertext == numerical_plaintext ^ keystream\nTrue",
         "hidden": false,
         "locked": false
        }
       ],
       "scored": true,
       "setup": "",
       "teardown": "",
       "type": "doctest"
      }
     ]
    },
    "q1_5": {
     "name": "q1_5",
     "points": 1,
     "suites": [
      {
       "cases": [
        {
         "code": ">>> len(ascii_ciphertext) == len(ascii_plaintext)\nTrue",
         "hidden": false,
         "locked": false
        }
       ],
       "scored": true,
       "setup": "",
       "teardown": "",
       "type": "doctest"
      }
     ]
    }
   }
  }
 },
 "nbformat": 4,
 "nbformat_minor": 5
}

{
 "cells": [
  {
   "cell_type": "code",
   "execution_count": null,
   "id": "8a3846af",
   "metadata": {
    "deletable": false,
    "editable": false
   },
   "outputs": [],
   "source": [
    "# Initialize Otter\n",
    "import otter\n",
    "grader = otter.Notebook(\"lab04A.ipynb\")"
   ]
  },
  {
   "cell_type": "markdown",
   "id": "8c38df83",
   "metadata": {},
   "source": [
    "# Lab 04\n",
    "## The Affine Cipher"
   ]
  },
  {
   "cell_type": "markdown",
   "id": "98dce7aa",
   "metadata": {},
   "source": [
    "### Question 1\n",
    "Complete the Affine Cipher key that we began in Webinar on August 31st"
   ]
  },
  {
   "cell_type": "code",
   "execution_count": null,
   "id": "dd1c7b27",
   "metadata": {
    "tags": []
   },
   "outputs": [],
   "source": [
    "def affine_encipher(m,a,message, LETTERS = \"ABCDEFGHIJKLMNOPQRSTUVWXYZ\"):\n",
    "    message_cleaned = ...\n",
    "    ciphertext = \"\"\n",
    "    for char in message_cleaned:\n",
    "        num = LETTERS.find(char)\n",
    "        ...\n",
    "        \n",
    "    return ciphertext"
   ]
  },
  {
   "cell_type": "code",
   "execution_count": null,
   "id": "1a236880",
   "metadata": {
    "deletable": false,
    "editable": false
   },
   "outputs": [],
   "source": [
    "grader.check(\"q1_1\")"
   ]
  },
  {
   "cell_type": "markdown",
   "id": "12e4eff6",
   "metadata": {},
   "source": [
    "## Question 2 ##\n",
    "Modify your code sot that it uses an alphabet with both capital and lowercase letters. Use a string called BIG_LETTERS = \"ABCDEFGHIJKLMNOPQRSTUVWXYZabcdefghijklmnopqrstuvwxyz\""
   ]
  },
  {
   "cell_type": "code",
   "execution_count": null,
   "id": "f26e126d",
   "metadata": {
    "tags": []
   },
   "outputs": [],
   "source": [
    "def affine_encipher_big(m, a, message, BIG_LETTERS = \"ABCDEFGHIJKLMNOPQRSTUVWXYZabcdefghijklmnopqrstuvwxyz\"):\n",
    "    ciphertext = \"\"\n",
    "..."
   ]
  },
  {
   "cell_type": "code",
   "execution_count": null,
   "id": "bc42a399",
   "metadata": {
    "deletable": false,
    "editable": false
   },
   "outputs": [],
   "source": [
    "grader.check(\"q2_1\")"
   ]
  },
  {
   "cell_type": "markdown",
   "id": "8d7d8324",
   "metadata": {},
   "source": [
    "# Question 3\n",
    "Use your code to encrypt the message \"A secret's worth depends on the people from whom it must be kept.\" Use BIG_LETTERS and a key of 11,7.\n",
    "\n",
    "(This is from a book called <i>The Shadow of the Wind</i> by Carlos Ruiz Zafón)\n",
    "\n",
    "Once you have finished with the encryption, save your message to a string called: zafon"
   ]
  },
  {
   "cell_type": "code",
   "execution_count": null,
   "id": "47865e3a",
   "metadata": {
    "tags": []
   },
   "outputs": [],
   "source": [
    "zafon = ..."
   ]
  },
  {
   "cell_type": "code",
   "execution_count": null,
   "id": "17026ac7",
   "metadata": {
    "deletable": false,
    "editable": false
   },
   "outputs": [],
   "source": [
    "grader.check(\"q3_1\")"
   ]
  },
  {
   "cell_type": "markdown",
   "id": "96799d83",
   "metadata": {},
   "source": [
    "# Question 4: Part I\n",
    "Write a function called decipher_affine that takes in the inputs m, a, and an enciphered message string and deciphers the message. The values for m and a should be the values that were originally used to encipher the message. Keep in mind that your alphabet now has <b>52 letters</b>\n",
    "\n",
    "How many valid values for m will it have? (Include m = 1, which makes Affine identical to Caesar, and the \"stupid key\": m = 1, a = 0.) Type your answer into the cell below: "
   ]
  },
  {
   "cell_type": "code",
   "execution_count": null,
   "id": "16fab83d",
   "metadata": {
    "tags": []
   },
   "outputs": [],
   "source": [
    "number_of_valid_values = ..."
   ]
  },
  {
   "cell_type": "code",
   "execution_count": null,
   "id": "13820449",
   "metadata": {
    "deletable": false,
    "editable": false
   },
   "outputs": [],
   "source": [
    "grader.check(\"q4_1\")"
   ]
  },
  {
   "cell_type": "markdown",
   "id": "45b12821",
   "metadata": {},
   "source": [
    "In Activity 10, you will write or have written some \"Helper Functions\". One finds the greatest common divisor of two numbers and one uses that one to find the multiplicative inverse of a number. In the cells below,copy those functions. You will need to find the multiplicative inverse of the key you and your ally have agreed upon in order to decipher their message to you."
   ]
  },
  {
   "cell_type": "code",
   "execution_count": null,
   "id": "e26c5d21",
   "metadata": {
    "tags": []
   },
   "outputs": [],
   "source": [
    "def egcd(a, b):\n",
    "    ..."
   ]
  },
  {
   "cell_type": "code",
   "execution_count": null,
   "id": "d7947d85",
   "metadata": {
    "tags": []
   },
   "outputs": [],
   "source": [
    "def mult_inverse(n, m = 26):\n",
    "..."
   ]
  },
  {
   "cell_type": "code",
   "execution_count": null,
   "id": "a2e10a60",
   "metadata": {
    "deletable": false,
    "editable": false
   },
   "outputs": [],
   "source": [
    "grader.check(\"q4_2\")"
   ]
  },
  {
   "cell_type": "markdown",
   "id": "a60042ce",
   "metadata": {},
   "source": [
    "# Question 4: Part II\n",
    "Using the functions you wrote above, you now have all that you need to easily decipher a message from an ally. Suppose you now <i>recieve</i> the message \"HXZDMZiXPfMiGOZqZUOXfUiGZqZfqyZkMfJPGfJRiJtXisZnZqi\" from your friend. Write a function that takes in the message and the key (which you know is [11, 7] by prior arrangement with your ally) and returns the plaintext, in other words, it can decipher this message."
   ]
  },
  {
   "cell_type": "code",
   "execution_count": null,
   "id": "1768caa2",
   "metadata": {
    "tags": []
   },
   "outputs": [],
   "source": [
    "def big(message, m, a, BIG_LETTERS = \"ABCDEFGHIJKLMNOPQRSTUVWXYZabcdefghijklmnopqrstuvwxyz\"):\n",
    "    plaintext = \"\"\n"
   ]
  },
  {
   "cell_type": "code",
   "execution_count": null,
   "id": "169da224",
   "metadata": {
    "deletable": false,
    "editable": false
   },
   "outputs": [],
   "source": [
    "grader.check(\"q4_3\")"
   ]
  },
  {
   "cell_type": "markdown",
   "id": "f01afdb0",
   "metadata": {},
   "source": [
    "# Submitting your work\n",
    "You're done with this Lab! All assignments in the course will be distributed as notebooks like this one, and you will submit your work by doing the following:\n",
    "* Save your notebook\n",
    "* Restart the kernel and run up to this cell.\n",
    "* Run all the tests by running the cell containing `grader.check_all()`. Make sure they pass the way you expect them to.\n",
    "* Run the cell below with the code `grader.export(...)`.\n",
    "* Download the file named `labXX.zip`, found in the explorer pane on the left side of the screen.\n",
    "* Upload `labXX-<date-time stamp>.zip` to the corresponding lab assignment on Canvas."
   ]
  },
  {
   "cell_type": "code",
   "execution_count": null,
   "id": "fd5a31c6",
   "metadata": {},
   "outputs": [],
   "source": []
  },
  {
   "cell_type": "markdown",
   "id": "55f62126",
   "metadata": {
    "deletable": false,
    "editable": false
   },
   "source": [
    "## Submission\n",
    "\n",
    "Make sure you have run all cells in your notebook in order before running the cell below, so that all images/graphs appear in the output. The cell below will generate a zip file for you to submit.\n",
    "\n",
    "When done exporting, find the `.zip` file in the left side of the screen in the file browser, right-click, and select **Download**. You'll submit this `.zip` file for the assignment Gradescope for grading."
   ]
  },
  {
   "cell_type": "code",
   "execution_count": null,
   "id": "5b21a59f",
   "metadata": {
    "deletable": false,
    "editable": false
   },
   "outputs": [],
   "source": [
    "grader.export(pdf=False, force_save=True)"
   ]
  },
  {
   "cell_type": "markdown",
   "id": "f3f8923f",
   "metadata": {},
   "source": [
    " "
   ]
  }
 ],
 "metadata": {
  "kernelspec": {
   "display_name": "Python 3 (ipykernel)",
   "language": "python",
   "name": "python3"
  },
  "language_info": {
   "codemirror_mode": {
    "name": "ipython",
    "version": 3
   },
   "file_extension": ".py",
   "mimetype": "text/x-python",
   "name": "python",
   "nbconvert_exporter": "python",
   "pygments_lexer": "ipython3",
   "version": "3.10.5"
  },
  "otter": {
   "tests": {
    "q1_1": {
     "name": "q1_1",
     "points": null,
     "suites": [
      {
       "cases": [
        {
         "code": ">>> affine_encipher(3,1,\"b\") != None\nTrue",
         "failure_message": "Check that you are returning the ciphertext, not printing it",
         "hidden": false,
         "locked": false,
         "points": 0
        },
        {
         "code": ">>> affine_encipher(3,1,\"b\")\n'E'",
         "failure_message": "Check that your cleaned plaintext is uppercase before encrypting",
         "hidden": false,
         "locked": false,
         "points": 1
        },
        {
         "code": ">>> affine_encipher(3,1,\"b!., \")\n'E'",
         "failure_message": "Check that you cleaning your message free of periods, exclamation points, commas, and spaces.",
         "hidden": false,
         "locked": false,
         "points": 1
        },
        {
         "code": ">>> affine_encipher(19,5,\"Z\")\n'M'",
         "failure_message": "Check that you're modding by the length of the alphabet (26)",
         "hidden": false,
         "locked": false,
         "points": 1
        }
       ],
       "scored": true,
       "setup": "",
       "teardown": "",
       "type": "doctest"
      }
     ]
    },
    "q2_1": {
     "name": "q2_1",
     "points": null,
     "suites": [
      {
       "cases": [
        {
         "code": ">>> affine_encipher_big(3,1,\"b\") != None\nTrue",
         "failure_message": "Check that you are returning the ciphertext, not printing it",
         "hidden": false,
         "locked": false,
         "points": 0
        },
        {
         "code": ">>> affine_encipher_big(3,11,\"Z\")\n'i'",
         "failure_message": "Check that you moding by the length of the larger alphabet",
         "hidden": false,
         "locked": false,
         "points": 2
        },
        {
         "code": ">>> affine_encipher_big(3,11,\".' F\")\n'a'",
         "failure_message": "Check that you are \"cleaning\" the message of apostrophe's, spaces, and extra punctuation",
         "hidden": false,
         "locked": false,
         "points": 2
        }
       ],
       "scored": true,
       "setup": "",
       "teardown": "",
       "type": "doctest"
      }
     ]
    },
    "q3_1": {
     "name": "q3_1",
     "points": null,
     "suites": [
      {
       "cases": [
        {
         "code": ">>> zafon[6]\n'i'",
         "failure_message": "Check that you are using the correct key.",
         "hidden": false,
         "locked": false,
         "points": 1
        }
       ],
       "scored": true,
       "setup": "",
       "teardown": "",
       "type": "doctest"
      }
     ]
    },
    "q4_1": {
     "name": "q4_1",
     "points": null,
     "suites": [
      {
       "cases": [
        {
         "code": ">>> number_of_valid_values == 624\nTrue",
         "failure_message": "Check that you are returning and not printing.",
         "hidden": false,
         "locked": false,
         "points": 0
        }
       ],
       "scored": true,
       "setup": "",
       "teardown": "",
       "type": "doctest"
      }
     ]
    },
    "q4_2": {
     "name": "q4_2",
     "points": null,
     "suites": [
      {
       "cases": [
        {
         "code": ">>> mult_inverse(17)\n23",
         "failure_message": "Check that you are using the egcd function correctly in your function.",
         "hidden": false,
         "locked": false,
         "points": 1
        }
       ],
       "scored": true,
       "setup": "",
       "teardown": "",
       "type": "doctest"
      }
     ]
    },
    "q4_3": {
     "name": "q4_3",
     "points": null,
     "suites": [
      {
       "cases": [
        {
         "code": ">>> big(\"A\",17,1)\n'd'",
         "failure_message": "Check that you are using the egcd function correctly in your function.",
         "hidden": false,
         "locked": false,
         "points": 1
        },
        {
         "code": ">>> big(\"HXZDMZiXP\",17,1)\n'imgutgfmK'",
         "failure_message": "Check that you are subtracting the additive key first. Then check that you are moding by the length of the big alphabet.",
         "hidden": false,
         "locked": false,
         "points": 2
        }
       ],
       "scored": true,
       "setup": "",
       "teardown": "",
       "type": "doctest"
      }
     ]
    }
   }
  }
 },
 "nbformat": 4,
 "nbformat_minor": 5
}

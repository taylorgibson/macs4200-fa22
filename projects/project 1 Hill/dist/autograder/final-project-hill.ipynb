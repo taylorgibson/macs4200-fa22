{
 "cells": [
  {
   "cell_type": "code",
   "execution_count": null,
   "id": "7be85739",
   "metadata": {
    "deletable": false,
    "editable": false
   },
   "outputs": [],
   "source": [
    "# Initialize Otter\n",
    "import otter\n",
    "grader = otter.Notebook(\"final-project-hill.ipynb\")"
   ]
  },
  {
   "cell_type": "markdown",
   "id": "ec81b4fb",
   "metadata": {
    "id": "59942f50-e654-4c22-97c1-2fcc3bce2731"
   },
   "source": [
    "# Final Project: Hill cipher\n",
    "\n",
    "This choice for the final project will focus on the [Hill cipher](https://en.wikipedia.org/wiki/Hill_cipher).\n",
    "\n",
    "From Wikipedia:\n",
    ">In classical cryptography, the Hill cipher is a polygraphic substitution cipher based on linear algebra. Invented by Lester S. Hill in 1929, it was the first polygraphic cipher in which it was practical (though barely) to operate on more than three symbols at once.\n",
    "\n",
    "You will investigate how to create the key and implement the encryption / decryption algorithms in Python."
   ]
  },
  {
   "cell_type": "markdown",
   "id": "e6057e51",
   "metadata": {
    "id": "6a061529-fac8-4af4-a8ac-50c0c8c1e14c"
   },
   "source": [
    "## Import your toolkit\n",
    "\n",
    "You are provided the following functions to help complete this assignment:\n",
    "* `text_clean(<string>, <LETTERS>)`\n",
    "* `text_block(<string>, <blocksize>)`\n",
    "* `multiplicative_inverse(<integer>, <modulus>)` which returns `False` if no inverse exists\n",
    "\n",
    "Run the cell below to import these assignments"
   ]
  },
  {
   "cell_type": "code",
   "execution_count": null,
   "id": "3a5bccdd",
   "metadata": {
    "id": "0ac13037-2609-4788-9c29-ee64f7383ee7"
   },
   "outputs": [],
   "source": [
    "from finaltoolkit import text_clean, text_block, multiplicative_inverse"
   ]
  },
  {
   "cell_type": "markdown",
   "id": "2959a2c7",
   "metadata": {
    "id": "2f4c8394-1784-4de3-bf29-85ea6cce4da2"
   },
   "source": [
    "## The Encryption key\n",
    "\n",
    "The Hill cipher uses a square [matrix](https://en.wikipedia.org/wiki/Matrix_(mathematics) as the key, typically with dimensions of either 2x2 or 3x3, but the process can be generalized to an $n$x$n$ matrix.\n",
    "\n",
    "There is a package, `numpy` which allows you to use Python to perform many common matrix operations. Run the cell below to load `numpy`. You will soon learn how to use this package to perform matrix operations."
   ]
  },
  {
   "cell_type": "code",
   "execution_count": null,
   "id": "fa168d14",
   "metadata": {
    "id": "9e37ac92-b3cd-4452-9a04-2cdf68bc41c3"
   },
   "outputs": [],
   "source": [
    "import numpy as np"
   ]
  },
  {
   "cell_type": "markdown",
   "id": "6949fe0c",
   "metadata": {
    "id": "1999bfb2-16eb-4ce7-88e3-8508ac59b1b3"
   },
   "source": [
    "### Question 1: Creating a square matrix using `numpy`\n",
    "\n",
    "`numpy` uses a new data type called an `array` to work with matrices. There are a few different ways you can create an array object.\n",
    "\n",
    "Each of the following code examples will create the array that represents the matrix $A$ shown below:\n",
    "\n",
    "$$A = \\begin{bmatrix}\n",
    "   1 & 2 & 3 \\\\\n",
    "   4 & 5 & 6 \\\\\n",
    "   7 & 8 & 9\n",
    "\\end{bmatrix}\n",
    "$$\n",
    "\n",
    "The first way is to pass a list of lists to `np.array()` where each of the sublists represents a row of the matrix."
   ]
  },
  {
   "cell_type": "code",
   "execution_count": null,
   "id": "dd14a4fb",
   "metadata": {
    "id": "b82c8938-0534-411a-a950-f488571fca84",
    "outputId": "243d1fe0-63f9-4ab7-fda6-bb01f777ac70"
   },
   "outputs": [
    {
     "data": {
      "text/plain": [
       "array([[1, 2, 3],\n",
       "       [4, 5, 6],\n",
       "       [7, 8, 9]])"
      ]
     },
     "execution_count": 3,
     "metadata": {},
     "output_type": "execute_result"
    }
   ],
   "source": [
    "np.array([[1,2,3],[4,5,6],[7,8,9]])"
   ]
  },
  {
   "cell_type": "markdown",
   "id": "70dafe12",
   "metadata": {
    "id": "6bf8529c-278b-47f2-b3a8-cf4802e809da"
   },
   "source": [
    "The second way is to create a single row of the values in order you want the values to appear from left to right, top to bottom. Then, use the `reshape(<row>, <column>)` method to resize those values into the correct dimensions."
   ]
  },
  {
   "cell_type": "code",
   "execution_count": null,
   "id": "355cc89e",
   "metadata": {
    "id": "17f60bd1-3e6a-4528-84ab-e7dee1169013",
    "outputId": "b6ddadf2-415e-4ba9-8018-a229a9826219"
   },
   "outputs": [
    {
     "data": {
      "text/plain": [
       "array([[1, 2, 3],\n",
       "       [4, 5, 6],\n",
       "       [7, 8, 9]])"
      ]
     },
     "execution_count": 4,
     "metadata": {},
     "output_type": "execute_result"
    }
   ],
   "source": [
    "np.array([1,2,3,4,5,6,7,8,9]).reshape((3,3))"
   ]
  },
  {
   "cell_type": "markdown",
   "id": "875409ab",
   "metadata": {
    "id": "1362774b-32c9-429e-9b81-e311dad96509"
   },
   "source": [
    "Assign the following variables as `numpy` arrays that match their mathematical definitions:\n",
    "\n",
    "$$A = \\begin{bmatrix}\n",
    "   6 & 0 \\\\\n",
    "   14 & 22 \n",
    "\\end{bmatrix}\n",
    "$$\n",
    "\n",
    "$$B = \\begin{bmatrix}\n",
    "   2 & 5 & 7 & 1 & 2 \\\\\n",
    "   4 & 2 & 8 & 6 & 3 \n",
    "\\end{bmatrix}\n",
    "$$"
   ]
  },
  {
   "cell_type": "code",
   "execution_count": null,
   "id": "ea6e19be",
   "metadata": {
    "id": "588dd326-da2e-4f3a-817f-3a285ac9e9b2",
    "outputId": "f10799e3-6123-4827-edf3-a984f4c41c46",
    "tags": [
     "otter_assign_solution_cell"
    ]
   },
   "outputs": [
    {
     "data": {
      "text/plain": [
       "array([[ 6,  0],\n",
       "       [14, 22]])"
      ]
     },
     "execution_count": 5,
     "metadata": {},
     "output_type": "execute_result"
    }
   ],
   "source": [
    "A = np.array([[6, 0], [14, 22]])\n",
    "A"
   ]
  },
  {
   "cell_type": "code",
   "execution_count": null,
   "id": "0f789856",
   "metadata": {
    "id": "c5da8b31-6f10-45eb-b01b-5ee70b01d680",
    "outputId": "63e50a7b-0536-4890-a44f-d017c6fa34d0",
    "tags": [
     "otter_assign_solution_cell"
    ]
   },
   "outputs": [
    {
     "data": {
      "text/plain": [
       "array([[2, 5, 7, 1, 2],\n",
       "       [4, 2, 8, 6, 3]])"
      ]
     },
     "execution_count": 6,
     "metadata": {},
     "output_type": "execute_result"
    }
   ],
   "source": [
    "B = np.array([2, 5, 7, 1, 2, 4, 2, 8, 6, 3]).reshape(2,5)\n",
    "B"
   ]
  },
  {
   "cell_type": "code",
   "execution_count": null,
   "id": "a81fceac",
   "metadata": {
    "deletable": false,
    "editable": false
   },
   "outputs": [],
   "source": [
    "grader.check(\"q1\")"
   ]
  },
  {
   "cell_type": "markdown",
   "id": "2427c8a6",
   "metadata": {
    "id": "db50461e-744a-4350-b6a1-219dc8db4cd9"
   },
   "source": [
    "### Question 2: Validating keys\n",
    "\n",
    "Matrices are only valid for use as a key in the Hill cipher if they meet the following criteria:\n",
    "* They are square (they have the same number of rows and columns)\n",
    "  * You can ask `numpy` to tell you the shape of a matrix by calling `A.shape`. It will return a tuple/list that contains the row and column size. You can access them seperately by using an index (e.g. `A.shape[0]` is the row size, `A.shape[1]` is the column size.)\n",
    "* They have a [determinant](https://en.wikipedia.org/wiki/Determinant) that is non-zero \n",
    "  * The determinant can be found using `numpy` with the `np.linalg.det(A)` function\n",
    "* They have a determinant that has a multiplicative inverse in the given modulus (length of alphabet)\n",
    "  * The multiplicative inverse can be found using the `multiplicative_inverse` function provided in the toolkit\n",
    "\n",
    "Write a function `valid_key` that accepts a matrix (numpy array) and returns a boolean value `True` if the key is value and `False` if the key is invalid.\n",
    "\n",
    "**Note:** Determinants of matrices that only contain integers should always be an integer value. However, sometimes `numpy` will have strange calculation errors that result in a float."
   ]
  },
  {
   "cell_type": "code",
   "execution_count": null,
   "id": "ff493747",
   "metadata": {
    "id": "f2098632-e347-4a49-a28c-2edb3f5d49ca",
    "outputId": "254e360a-6334-4757-ac91-430acaae58d6"
   },
   "outputs": [
    {
     "data": {
      "text/plain": [
       "131.99999999999997"
      ]
     },
     "execution_count": 12,
     "metadata": {},
     "output_type": "execute_result"
    }
   ],
   "source": [
    "np.linalg.det(A)"
   ]
  },
  {
   "cell_type": "markdown",
   "id": "5d4cbf53",
   "metadata": {
    "id": "d490492d-6f64-4291-94ac-b2d159bc84b7"
   },
   "source": [
    "Use the `round` function to ensure that any weird computation artifacts are handled by rounding the float to an integer."
   ]
  },
  {
   "cell_type": "code",
   "execution_count": null,
   "id": "c34400da",
   "metadata": {
    "id": "be2b847a-8b89-4de5-a6f8-e18cc3d719a3",
    "outputId": "3c3504c8-ae3d-4634-97a1-70b2d32fa5fd"
   },
   "outputs": [
    {
     "data": {
      "text/plain": [
       "132"
      ]
     },
     "execution_count": 13,
     "metadata": {},
     "output_type": "execute_result"
    }
   ],
   "source": [
    "round(np.linalg.det(A))"
   ]
  },
  {
   "cell_type": "markdown",
   "id": "1b9a9d35",
   "metadata": {
    "id": "068cf2f2-fc37-46f5-bd9a-4c16e510236c"
   },
   "source": [
    "And then reduce to the appropriate modulo:"
   ]
  },
  {
   "cell_type": "code",
   "execution_count": null,
   "id": "a9ece335",
   "metadata": {
    "id": "f1025a24-1853-4e41-9b7c-3fbba55af767",
    "outputId": "94bdb6eb-4b7e-4dd8-df7a-eaf0d865612d"
   },
   "outputs": [
    {
     "data": {
      "text/plain": [
       "2"
      ]
     },
     "execution_count": 14,
     "metadata": {},
     "output_type": "execute_result"
    }
   ],
   "source": [
    "round(np.linalg.det(A)) % 26"
   ]
  },
  {
   "cell_type": "code",
   "execution_count": null,
   "id": "8242fbd0",
   "metadata": {
    "id": "b2d37bfb-c77e-4b3b-bb40-6398303b1581",
    "tags": [
     "otter_assign_solution_cell"
    ]
   },
   "outputs": [],
   "source": [
    "def valid_key(A, LETTERS='ABCDEFGHIJKLMNOPQRSTUVWXYZ'):\n",
    "    if A.shape[0] != A.shape[1]:\n",
    "        return False\n",
    "    \n",
    "    if round(np.linalg.det(A)) == 0:\n",
    "        return False\n",
    "    \n",
    "    if multiplicative_inverse(round(np.linalg.det(A)) % len(LETTERS), len(LETTERS)) == False:\n",
    "        return False\n",
    "    \n",
    "    return True"
   ]
  },
  {
   "cell_type": "code",
   "execution_count": null,
   "id": "bf588dc8",
   "metadata": {
    "deletable": false,
    "editable": false
   },
   "outputs": [],
   "source": [
    "grader.check(\"q2\")"
   ]
  },
  {
   "cell_type": "markdown",
   "id": "1bbd94a4",
   "metadata": {
    "id": "8cbf08e7-5a7b-40a4-ba7e-ccf3c0575fae"
   },
   "source": [
    "### Question 3: Creating a key\n",
    "\n",
    "Typically a key is created by first choosing a keyword or phrase that is turned into numerical values and stored into the matrix.\n",
    "\n",
    "Write the function `keygen` which takes in a keyword, cleans it, and then uses its length to determine the size of the matrix that should be used with the Hill cipher. That means that if the string `keyword` has length `n**2`, the square array should have the dimensions `n` by `n`. You may assume that the length of `keyword` is a perfect square and do not need to check for this.\n",
    "\n",
    "**Hint**: Try creating a \"flat\" version of the key (essentially a single row array with all the correct numbers in order) and then use the `reshape` method to turn it into the correct square array."
   ]
  },
  {
   "cell_type": "code",
   "execution_count": null,
   "id": "3731bc68",
   "metadata": {
    "id": "da349ed5-a8f8-4b65-87fd-d16f940ebef4",
    "tags": [
     "otter_assign_solution_cell"
    ]
   },
   "outputs": [],
   "source": [
    "def keygen(keyword, LETTERS='ABCDEFGHIJKLMNOPQRSTUVWXYZ'):\n",
    "    cleaned_keyword = text_clean(keyword, LETTERS) # SOLUTION\n",
    "    keyword_length = len(cleaned_keyword) # SOLUTION\n",
    "    matrix_dimension = int(keyword_length ** 0.5) # SOLUTION\n",
    "    \n",
    "    # BEGIN SOLUTION NO PROMPT\n",
    "    flat_key = []\n",
    "    for char in cleaned_keyword:\n",
    "        flat_key.append(LETTERS.find(char))\n",
    "    \n",
    "    key = np.array(flat_key).reshape((matrix_dimension, matrix_dimension))\n",
    "    \n",
    "    return key\n",
    "    # END SOLUTION"
   ]
  },
  {
   "cell_type": "code",
   "execution_count": null,
   "id": "2d87a393",
   "metadata": {
    "deletable": false,
    "editable": false
   },
   "outputs": [],
   "source": [
    "grader.check(\"q3\")"
   ]
  },
  {
   "cell_type": "markdown",
   "id": "688b64f6",
   "metadata": {
    "id": "4cc54b8a-87b0-4b47-b578-d9a586e3ec5e"
   },
   "source": [
    "## The Hill Cipher\n",
    "\n",
    "To encrypt a message with the Hill cipher, break the message into blocks of each containing `n` characters, where `n` is also the size of your square key matrix. Write each block of characters as a single column matrix with `n` entries. Then, multiply this matrix by your key, and reduce modulo 26. The result will be a 1 x `n` matrix that represents the ciphertext version of the block. Repeat until the entire message is encrypted. If your last block doesn't have enough characters to create a full 1 x `n` matrix, pad the message with the character `X` until it's long enough to create a full block.\n",
    "\n",
    "\n",
    "**Example:**\n",
    "\n",
    "Create a 2 x 2 key:\n",
    "\n",
    "$$K = \\begin{bmatrix}\n",
    "   3 & 6 \\\\\n",
    "   1 & 3 \n",
    "\\end{bmatrix}\n",
    "$$"
   ]
  },
  {
   "cell_type": "markdown",
   "id": "a0da70ec",
   "metadata": {
    "id": "84b27be6-c7f8-4140-bea2-563cdc79283d"
   },
   "source": [
    "Using the plaintext message, `ET PHONE HOME`, create 1 x 2 matrices that numerical represent the message:\n",
    "\n",
    "$$\\begin{bmatrix}\n",
    "   E  \\\\\n",
    "   T \n",
    "\\end{bmatrix}, \\begin{bmatrix}\n",
    "   P  \\\\\n",
    "   H \n",
    "\\end{bmatrix}, \\begin{bmatrix}\n",
    "   O  \\\\\n",
    "   N \n",
    "\\end{bmatrix}, \\begin{bmatrix}\n",
    "   E  \\\\\n",
    "   H \n",
    "\\end{bmatrix}, \\begin{bmatrix}\n",
    "   O  \\\\\n",
    "   M \n",
    "\\end{bmatrix}, \\begin{bmatrix}\n",
    "   E  \\\\\n",
    "   X \n",
    "\\end{bmatrix}\n",
    "$$\n",
    "\n",
    "$$\\begin{bmatrix}\n",
    "   4  \\\\\n",
    "   19 \n",
    "\\end{bmatrix}, \\begin{bmatrix}\n",
    "   15  \\\\\n",
    "   7 \n",
    "\\end{bmatrix}, \\begin{bmatrix}\n",
    "   14  \\\\\n",
    "   13\n",
    "\\end{bmatrix}, \\begin{bmatrix}\n",
    "   4  \\\\\n",
    "   7 \n",
    "\\end{bmatrix}, \\begin{bmatrix}\n",
    "   14  \\\\\n",
    "   12 \n",
    "\\end{bmatrix}, \\begin{bmatrix}\n",
    "   4  \\\\\n",
    "   23 \n",
    "\\end{bmatrix}\n",
    "$$"
   ]
  },
  {
   "cell_type": "markdown",
   "id": "17b5b7c1",
   "metadata": {
    "id": "8de84536-a8e8-496d-853e-62ff04dbf9fc"
   },
   "source": [
    "Then, multiply the key by each plaintext matrix to create the ciphertext. The first result is shown below:\n",
    "\n",
    "$$\\begin{bmatrix}\n",
    "   3 & 6 \\\\\n",
    "   1 & 3 \n",
    "\\end{bmatrix} \\begin{bmatrix}\n",
    "   4  \\\\\n",
    "   19 \n",
    "\\end{bmatrix}= \\begin{bmatrix}\n",
    "   3 \\cdot 4 + 6 \\cdot 19 \\\\\n",
    "   1 \\cdot 4 + 3 \\cdot 19\n",
    "\\end{bmatrix} = \\begin{bmatrix}\n",
    "   126 \\\\\n",
    "   61 \n",
    "\\end{bmatrix} = \\begin{bmatrix}\n",
    "   22 \\\\\n",
    "   9 \n",
    "\\end{bmatrix} = \\begin{bmatrix}\n",
    "   W \\\\\n",
    "   J \n",
    "\\end{bmatrix}\n",
    "$$\n",
    "\n",
    "The full ciphertext would be: `WJ JK QB CZ KY UV`"
   ]
  },
  {
   "cell_type": "markdown",
   "id": "fa8539ed",
   "metadata": {
    "id": "56932e03-3217-4bdb-90b1-66db5094d353"
   },
   "source": [
    "To decrypt the message, repeat the process using the inverse of the key matrix."
   ]
  },
  {
   "cell_type": "markdown",
   "id": "5a30e7bc",
   "metadata": {
    "id": "26eff73d-e73e-4fc3-bb41-50da8b69c910"
   },
   "source": [
    "### Using `numpy` to perform multiplication\n",
    "\n",
    "The process of multiplying two matrices together is also known as the **dot product** between two matrices. You can learn more about matrix multiplication by hand by watching [this video](https://www.youtube.com/watch?v=sYlOjyPyX3g&t=496s). Fortunately, `numpy` can perform the operation very quickly using the `np.dot()` function. You can then use the mod operation, `%` to perform the mod operation on each element in the matrix."
   ]
  },
  {
   "cell_type": "code",
   "execution_count": null,
   "id": "5df448ee",
   "metadata": {
    "id": "6cd68e77-3a08-451c-8861-3c0023f700d4",
    "outputId": "084c0ed4-ae1d-4182-e05d-c376677de22e"
   },
   "outputs": [
    {
     "data": {
      "text/plain": [
       "array([[22],\n",
       "       [ 9]])"
      ]
     },
     "execution_count": 29,
     "metadata": {},
     "output_type": "execute_result"
    }
   ],
   "source": [
    "K = np.array([[3, 6], [1,3]])\n",
    "block = np.array([[4,19]]).reshape(2,1)\n",
    "\n",
    "ciphertext_numerical = np.dot(K,block) % 26\n",
    "ciphertext_numerical"
   ]
  },
  {
   "cell_type": "markdown",
   "id": "3d5581a0",
   "metadata": {
    "id": "17f60e98-c43d-4b91-8ab2-cc5e564a6594"
   },
   "source": [
    "To access each element in the array individual, you can use indexing (just like with lists of lists) to specify exactly which element to retrieve. For example, to access `22` you should specify the location of row 0, column 0:"
   ]
  },
  {
   "cell_type": "code",
   "execution_count": null,
   "id": "b8ab6147",
   "metadata": {
    "id": "4921769c-28e3-48b2-a94b-1d53b4b567e0",
    "outputId": "1ce9443a-a271-46ef-8a42-d7e1aad22ad6"
   },
   "outputs": [
    {
     "data": {
      "text/plain": [
       "22"
      ]
     },
     "execution_count": 30,
     "metadata": {},
     "output_type": "execute_result"
    }
   ],
   "source": [
    "ciphertext_numerical[0][0]"
   ]
  },
  {
   "cell_type": "markdown",
   "id": "098066e7",
   "metadata": {
    "id": "189f9e0b-6b91-4dd9-995a-e4eb2cd6ef8d"
   },
   "source": [
    "And to retrieve 9, you should specify row 1, column 0:"
   ]
  },
  {
   "cell_type": "code",
   "execution_count": null,
   "id": "30127d5b",
   "metadata": {
    "id": "9d243fb9-d890-4526-8585-bde7445e9d69",
    "outputId": "ff244184-f3f0-441f-bc33-9af94f809f9d"
   },
   "outputs": [
    {
     "data": {
      "text/plain": [
       "9"
      ]
     },
     "execution_count": 31,
     "metadata": {},
     "output_type": "execute_result"
    }
   ],
   "source": [
    "ciphertext_numerical[1][0]"
   ]
  },
  {
   "cell_type": "markdown",
   "id": "b4d83176",
   "metadata": {
    "id": "743a1874-3854-4cc5-85b2-cd357515710e"
   },
   "source": [
    "### Question 4: Cleaning the message\n",
    "\n",
    "When encrypting a message, the Hill Cipher requires that each block of characters fill the 1 x `n` matrix. Write a function `hill_textclean` that checks if a provided `message` would have a final block that is \"full\". If the message would not have a full final block, add the correct number of `X`s to the end of the message so it would.\n"
   ]
  },
  {
   "cell_type": "code",
   "execution_count": null,
   "id": "1c1c68e2",
   "metadata": {
    "id": "ef75962c-1b67-42e7-974a-1f25ed05813c",
    "tags": [
     "otter_assign_solution_cell"
    ]
   },
   "outputs": [],
   "source": [
    "def hill_textclean(message, block_size, LETTERS='ABCDEFGHIJKLMNOPQRSTUVWXYZ'):\n",
    "    \n",
    "    cleaned_message = text_clean(message, LETTERS)\n",
    "    \n",
    "    # BEGIN SOLUTION NO PROMPT\n",
    "    while len(cleaned_message) % block_size != 0:\n",
    "        cleaned_message += 'X'\n",
    "    \n",
    "    return cleaned_message\n",
    "    # END SOLUTION"
   ]
  },
  {
   "cell_type": "code",
   "execution_count": null,
   "id": "5ba7c3cb",
   "metadata": {
    "deletable": false,
    "editable": false
   },
   "outputs": [],
   "source": [
    "grader.check(\"q4\")"
   ]
  },
  {
   "cell_type": "markdown",
   "id": "1eae7286",
   "metadata": {
    "id": "818f883a-9f28-4826-95a6-b783c9530815"
   },
   "source": [
    "### Inverse matrices\n",
    "\n",
    "Constructing the multiplicative inverse of a matrix can easily be done using `numpy`, however, `numpy` is not concerned about ensuring the resulting matrix contains only integer values. For example:"
   ]
  },
  {
   "cell_type": "code",
   "execution_count": null,
   "id": "8bc19497",
   "metadata": {
    "id": "28bd95d5-fe03-4f17-9ca0-f27de6dc6761",
    "outputId": "ed8d175f-34ee-494e-fdc6-540a957d53a0"
   },
   "outputs": [
    {
     "data": {
      "text/plain": [
       "array([[ 1.        , -2.        ],\n",
       "       [-0.33333333,  1.        ]])"
      ]
     },
     "execution_count": 38,
     "metadata": {},
     "output_type": "execute_result"
    }
   ],
   "source": [
    "K = np.array([[3, 6], [1,3]])\n",
    "np.linalg.inv(K)"
   ]
  },
  {
   "cell_type": "markdown",
   "id": "4eb66645",
   "metadata": {
    "id": "425a1c1a-82c3-468d-bc8c-a218d12bd9ee"
   },
   "source": [
    "Since we want each entry in our keys and messages to be integers (since they need to result in integers that represent characters) we'll need another way to compute the inverse that preserves the integer values. Let's dig into how an inverse matrix is created to learn how this works.\n",
    "\n",
    "The inverse of a square matrix is computed by calculating the determinant of the matrix and multiplying it's reciprocal by the adjugate matrix. If the input matrix is comprised of integers, then the adjugate matrix is guaranteed to contain only integers as well.\n",
    "\n",
    "$$A^{-1} = \\frac{1}{\\det{A}} \\text{adj}(A) = (\\det{A})^{-1} \\text{adj}(A) $$\n",
    "\n",
    "We've seen that `numpy` can compute the determinant with the `np.linalg.det()` function. Unfortunately, `numpy` doesn't have a way to directly compute the adjugate matrix. However, we can \"trick\" it into computing one. Rearranging the equation from above:\n",
    "\n",
    "$$\\text{adj}(A) = \\det(A) A^{-1}$$\n",
    "\n"
   ]
  },
  {
   "cell_type": "code",
   "execution_count": null,
   "id": "48a52266",
   "metadata": {
    "id": "5f0f0e51-e225-4d63-a7f5-44c0fc3aafa3",
    "outputId": "002b2705-99c4-4f18-eedb-bbbf7d2e453f"
   },
   "outputs": [
    {
     "data": {
      "text/plain": [
       "array([[ 3., -6.],\n",
       "       [-1.,  3.]])"
      ]
     },
     "execution_count": 39,
     "metadata": {},
     "output_type": "execute_result"
    }
   ],
   "source": [
    "K = np.array([[3, 6], [1,3]])\n",
    "K_adj = np.linalg.det(K) * np.linalg.inv(K)\n",
    "K_adj"
   ]
  },
  {
   "cell_type": "markdown",
   "id": "5270b5b6",
   "metadata": {
    "id": "69792c87-fa99-450b-91b0-97366c2e3876"
   },
   "source": [
    "**Note:** To ensure that each element is an integer (notice the . after each number indicating the computation resulted in a float), you must round it using the `numpy` matrix rounding function `np.round_()` and *then* convert the matrix to integers using the `.astype(int)` command.\n",
    "\n",
    "See below:"
   ]
  },
  {
   "cell_type": "code",
   "execution_count": null,
   "id": "22de79fd",
   "metadata": {
    "id": "c869eb09-4885-4244-beb2-62435d5b30c2",
    "outputId": "6628578a-2ede-42b8-e0c6-6ff3292e3e4b"
   },
   "outputs": [
    {
     "data": {
      "text/plain": [
       "array([[ 3, -6],\n",
       "       [-1,  3]])"
      ]
     },
     "execution_count": 40,
     "metadata": {},
     "output_type": "execute_result"
    }
   ],
   "source": [
    "K_adj = np.round_(K_adj).astype(int)\n",
    "K_adj"
   ]
  },
  {
   "cell_type": "markdown",
   "id": "e2c42d94",
   "metadata": {
    "id": "a01b56f0-d3c1-4fac-a093-c612ca2ab510"
   },
   "source": [
    "To finish the process off, you'll need to compute the determinant, convert it to an integer, and then find it's multiplicative inverse in the correct modulo."
   ]
  },
  {
   "cell_type": "code",
   "execution_count": null,
   "id": "cebf9c46",
   "metadata": {
    "id": "9813398b-4dbc-4abf-a31c-a6680a00cd9b",
    "outputId": "253bf818-188b-49cd-8e98-54a9f0d47816"
   },
   "outputs": [
    {
     "data": {
      "text/plain": [
       "9"
      ]
     },
     "execution_count": 41,
     "metadata": {},
     "output_type": "execute_result"
    }
   ],
   "source": [
    "determinant = int(round(np.linalg.det(K)))\n",
    "det_inv = multiplicative_inverse( determinant, 26 )\n",
    "det_inv"
   ]
  },
  {
   "cell_type": "markdown",
   "id": "521faddd",
   "metadata": {
    "id": "08ef729d-a3ad-496c-8565-7038fac868d4"
   },
   "source": [
    "Lastly, multiply the multiplicative inverse of the determinant, `det_inv` by the adjugate matrix, `K_adj`, and reduce by the appropriate modulo."
   ]
  },
  {
   "cell_type": "code",
   "execution_count": null,
   "id": "726ca00c",
   "metadata": {
    "id": "659192fa-4fd2-4cdf-80df-4cf6c98414c8",
    "outputId": "9179be25-7895-4202-c3fc-48891667c29a"
   },
   "outputs": [
    {
     "data": {
      "text/plain": [
       "array([[ 1, 24],\n",
       "       [17,  1]])"
      ]
     },
     "execution_count": 42,
     "metadata": {},
     "output_type": "execute_result"
    }
   ],
   "source": [
    "K_inv = (det_inv * K_adj) % 26\n",
    "K_inv"
   ]
  },
  {
   "cell_type": "markdown",
   "id": "b1a8184a",
   "metadata": {
    "id": "25eef07a-82c6-4974-b85a-f2a35bdf8591"
   },
   "source": [
    "We can confirm that `K` and `K_inv` are inverses of each other by finding their dot product and verifying that it's equivalent to the identity matrix, $I$, which contains the number 0 everywhere except on the diagonal from the top left corner to the bottom right corner whose elements are 1. The size of the identity matrix is the same as the key. So, for our example:\n",
    "\n",
    "$$\n",
    "I = \\begin{bmatrix}\n",
    "   1 & 0 \\\\\n",
    "   0 & 1 \n",
    "\\end{bmatrix}\n",
    "$$"
   ]
  },
  {
   "cell_type": "code",
   "execution_count": null,
   "id": "3773d186",
   "metadata": {
    "id": "607b9c5b-90c1-4ad2-8d3a-af4e0d8dec9b",
    "outputId": "0acd987b-be47-4354-9553-f4eeb93bf305"
   },
   "outputs": [
    {
     "data": {
      "text/plain": [
       "array([[1, 0],\n",
       "       [0, 1]])"
      ]
     },
     "execution_count": 43,
     "metadata": {},
     "output_type": "execute_result"
    }
   ],
   "source": [
    "np.dot(K, K_inv) % 26"
   ]
  },
  {
   "cell_type": "markdown",
   "id": "828c6fc6",
   "metadata": {
    "id": "8357cccc-6e41-48a1-b3ac-28e3f8b945e6"
   },
   "source": [
    "### Question 5: Compute the \"Hill Inverse\"\n",
    "\n",
    "Write the function `hill_inverse` that computes the inverse of a provided square matrix, `K`, in the provided modulus `n`. You can assume that only valid keys will be passed to this function."
   ]
  },
  {
   "cell_type": "code",
   "execution_count": null,
   "id": "5ea0a778",
   "metadata": {
    "id": "57473b73-fa3f-4482-b1ed-91b80d63daf7",
    "tags": [
     "otter_assign_solution_cell"
    ]
   },
   "outputs": [],
   "source": [
    "def hill_inverse(K, n):\n",
    "    K_adj = np.round_(np.linalg.det(K) * np.linalg.inv(K)).astype(int) # SOLUTION\n",
    "    determinant = int(round(np.linalg.det(K))) # SOLUTION\n",
    "    det_inv = multiplicative_inverse( determinant, n ) # SOLUTION\n",
    "    return (det_inv * K_adj) % n # SOLUTION"
   ]
  },
  {
   "cell_type": "code",
   "execution_count": null,
   "id": "ce230ab7",
   "metadata": {
    "deletable": false,
    "editable": false
   },
   "outputs": [],
   "source": [
    "grader.check(\"q5\")"
   ]
  },
  {
   "cell_type": "markdown",
   "id": "7967fb30",
   "metadata": {
    "id": "cc412ab1-c342-4dad-9022-ffa885857594"
   },
   "source": [
    "### Question 6: Encryption / Decryption\n",
    "\n",
    "At this point you should now be able write a function `hill` that implements the Hill cipher using a provided keyword, block size, and message. The function should also accept a boolean value to `encipher` that when set to `True` encrypts the `message` with the `key` and when set to `False` decrypts the `message` with the `key`."
   ]
  },
  {
   "cell_type": "code",
   "execution_count": null,
   "id": "0baca212",
   "metadata": {
    "id": "e1f79d44-c93f-4b89-ada5-92850946650d",
    "tags": [
     "otter_assign_solution_cell"
    ]
   },
   "outputs": [],
   "source": [
    "def hill(keyword, block_size, message, encipher=True, LETTERS='ABCDEFGHIJKLMNOPQRSTUVWXYZ'):\n",
    "    \n",
    "    key = keygen(keyword, LETTERS) # SOLUTION\n",
    "    \n",
    "    # This code checks if the key is valid! If not, returns False\n",
    "    if valid_key(key) == False:\n",
    "        return False\n",
    "        \n",
    "    cleaned_message = hill_textclean(message, block_size, LETTERS) # SOLUTION\n",
    "    output = ''\n",
    "    \n",
    "    # BEGIN SOLUTION NO PROMPT\n",
    "    if encipher==False:\n",
    "        key = hill_inverse(key, len(LETTERS))\n",
    "            \n",
    "    for i in range(0, len(cleaned_message), block_size):\n",
    "        flat_block = []\n",
    "        for j in range(i, i+block_size):\n",
    "            flat_block.append(LETTERS.find(cleaned_message[j]))\n",
    "\n",
    "        block = np.array(flat_block).reshape(block_size,1)\n",
    "\n",
    "        output_block = np.dot(key, block) % len(LETTERS)\n",
    "\n",
    "        for j in range(0,block_size):\n",
    "            output += LETTERS[ output_block[j][0] ]           \n",
    "\n",
    "    if encipher == False:\n",
    "        return output.lower()\n",
    "    else:\n",
    "        return text_block(output, 5)\n",
    "    # END SOLUTION"
   ]
  },
  {
   "cell_type": "code",
   "execution_count": null,
   "id": "b6c7377a",
   "metadata": {
    "deletable": false,
    "editable": false
   },
   "outputs": [],
   "source": [
    "grader.check(\"q6\")"
   ]
  },
  {
   "cell_type": "markdown",
   "id": "91821dfb",
   "metadata": {
    "id": "2ffd40a7-eb84-4c82-96ac-da8bc7309f65"
   },
   "source": [
    "## Ciphertext analysis"
   ]
  },
  {
   "cell_type": "markdown",
   "id": "7a88bada",
   "metadata": {
    "id": "7d28e51b-05b7-458d-8b67-02f50fb10065"
   },
   "source": [
    "There is a file included with this notebook that contains the first chapter of Pride and Prejudice. These responses will only be graded for accuracy once you've submitted your assignment, so make sure you are certain of your answers before submitting!\n",
    "\n",
    "Run the cell below to load the chapter to the string named `plaintext`"
   ]
  },
  {
   "cell_type": "code",
   "execution_count": null,
   "id": "d6fb1ff1",
   "metadata": {
    "id": "3bc21fd3-1318-481e-9f13-f01aa646d3ac"
   },
   "outputs": [],
   "source": [
    "with open('pride-prejudice-chapter-01.txt') as f:\n",
    "    plaintext = f.read()"
   ]
  },
  {
   "cell_type": "markdown",
   "id": "ecfb8ddb",
   "metadata": {
    "id": "b8b26196-9fb6-43a6-90c8-9c3d2a306f7e"
   },
   "source": [
    "<!-- BEGIN QUESTION -->\n",
    "\n",
    "### Question 7: Creating a bar chart\n",
    "\n",
    "Encrypt the plaintext using a keyword of `PRIDEANDP`, and block size `3`, then create a bar chart that shows the single character frequencies of each of the 25 English characters used in the message."
   ]
  },
  {
   "cell_type": "code",
   "execution_count": null,
   "id": "7fda66ad",
   "metadata": {
    "id": "9bf4a23f-cd71-41ff-aa1e-6f3e26f3da24",
    "outputId": "9e25a974-bb3d-44be-bcc2-443742503712",
    "tags": [
     "otter_assign_solution_cell"
    ]
   },
   "outputs": [
    {
     "data": {
      "image/png": "[encoded data removed]",
      "text/plain": [
       "<Figure size 432x288 with 1 Axes>"
      ]
     },
     "metadata": {
      "needs_background": "light"
     },
     "output_type": "display_data"
    }
   ],
   "source": [
    "ciphertext = hill('PRIDEANDP', 3, plaintext) # SOLUTION\n",
    "\n",
    "# BEGIN SOLUTION NO PROMPT\n",
    "import matplotlib.pyplot as plt\n",
    "LETTERS = 'ABCDEFGHIKLMNOPQRSTUVWXYZ'\n",
    "frequencies = []\n",
    "ciphertext_length = len(ciphertext.replace(' ',''))\n",
    "\n",
    "for char in LETTERS:\n",
    "    frequencies.append( ciphertext.count(char) / ciphertext_length )\n",
    "    \n",
    "plt.bar(list(LETTERS), frequencies)\n",
    "plt.xlabel('Letters')\n",
    "plt.ylabel('Frequency')\n",
    "plt.title('Frequency Analysis')\n",
    "\n",
    "plt.show()\n",
    "# END SOLUTION"
   ]
  },
  {
   "cell_type": "markdown",
   "id": "646dccaa",
   "metadata": {
    "id": "6d7f3d2f-ca9d-4eef-a42c-569a5458d293"
   },
   "source": [
    "<!-- END QUESTION -->\n",
    "\n",
    "### Question 8: Index of Coincidence\n",
    "\n",
    "Write a function `index_of_coincidence` to compute the index of coincidence of the ciphertext.\n",
    "\n",
    "**Hint:** Reference Lesson 17 and Lab 04 if you need a refresher!"
   ]
  },
  {
   "cell_type": "code",
   "execution_count": null,
   "id": "fc44bb42",
   "metadata": {
    "id": "931e2a64-6688-477d-b762-e08460d828d8",
    "tags": [
     "otter_assign_solution_cell"
    ]
   },
   "outputs": [],
   "source": [
    "def index_of_coincidence(message, LETTERS='ABCDEFGHIJKLMNOPQRSTUVWXYZ'):\n",
    "    \n",
    "    # BEGIN SOLUTION NO PROMPT    \n",
    "    cleaned_message = text_clean(message, LETTERS)\n",
    "    message_length = len(cleaned_message) \n",
    "    \n",
    "    total = 0\n",
    "    for char in LETTERS:\n",
    "        total += ( cleaned_message.count(char) / message_length ) *  ( (cleaned_message.count(char)-1) / (message_length-1) )\n",
    "    # END SOLUTION\n",
    "    return total # SOLUTION"
   ]
  },
  {
   "cell_type": "code",
   "execution_count": null,
   "id": "2b9dc498",
   "metadata": {
    "deletable": false,
    "editable": false
   },
   "outputs": [],
   "source": [
    "grader.check(\"q8\")"
   ]
  },
  {
   "cell_type": "markdown",
   "id": "b2ef9caa",
   "metadata": {
    "id": "728b26f8-1d4e-449d-b806-8609429ea72c"
   },
   "source": [
    "### Question 9: Classifying the cipher\n",
    "\n",
    "The Hill cipher is what's known as a polygraphic cipher. It's not a monoalphabetic substitution cipher or a polyalphabetic substitution cipher.\n",
    "\n",
    "Based on the coincidence value you computed in Question 8, which of the following does it behave *most* like:\n",
    "\n",
    "1. monoalphabetic substitution cipher\n",
    "2. polyalphabetic substitution cipher\n",
    "\n",
    "Assign the answer choice as an integer to the variable `q9` below."
   ]
  },
  {
   "cell_type": "code",
   "execution_count": null,
   "id": "5e364c46",
   "metadata": {
    "id": "dc6b9635-29fb-49a1-87a4-3dd84d7652a7",
    "tags": [
     "otter_assign_solution_cell"
    ]
   },
   "outputs": [],
   "source": [
    "q9 = 2 # SOLUTION"
   ]
  },
  {
   "cell_type": "markdown",
   "id": "7a251794",
   "metadata": {
    "deletable": false,
    "editable": false
   },
   "source": [
    "## Submission\n",
    "\n",
    "Make sure you have run all cells in your notebook in order before running the cell below, so that all images/graphs appear in the output. The cell below will generate a zip file for you to submit. **Please save before exporting!**\n",
    "\n",
    "Before exporting, SAVE your notebook, then RESTART AND RUN ALL CELLS. This will run the export cell. Make sure you submit the most recent copy by using the date-time stamp on the file."
   ]
  },
  {
   "cell_type": "code",
   "execution_count": null,
   "id": "a0247c8b",
   "metadata": {
    "deletable": false,
    "editable": false
   },
   "outputs": [],
   "source": [
    "# Save your notebook first, then run this cell to export your submission.\n",
    "grader.export(pdf=False)"
   ]
  },
  {
   "cell_type": "markdown",
   "id": "36e00ee2",
   "metadata": {},
   "source": [
    " "
   ]
  }
 ],
 "metadata": {
  "colab": {
   "provenance": []
  },
  "kernelspec": {
   "display_name": "Python 3 (ipykernel)",
   "language": "python",
   "name": "python3"
  },
  "language_info": {
   "codemirror_mode": {
    "name": "ipython",
    "version": 3
   },
   "file_extension": ".py",
   "mimetype": "text/x-python",
   "name": "python",
   "nbconvert_exporter": "python",
   "pygments_lexer": "ipython3",
   "version": "3.10.5"
  },
  "otter": {
   "tests": {
    "q1": {
     "name": "q1",
     "points": 1,
     "suites": [
      {
       "cases": [
        {
         "code": ">>> import numpy\n>>> type(A) == numpy.ndarray\nTrue",
         "hidden": false,
         "locked": false,
         "points": 0
        },
        {
         "code": ">>> np.shape(A)\n(2, 2)",
         "hidden": false,
         "locked": false,
         "points": 0
        },
        {
         "code": ">>> np.shape(B)\n(2, 5)",
         "hidden": false,
         "locked": false,
         "points": 0
        },
        {
         "code": ">>> A\narray([[ 6,  0],\n       [14, 22]])",
         "hidden": false,
         "locked": false,
         "points": 0.5
        },
        {
         "code": ">>> B\narray([[2, 5, 7, 1, 2],\n       [4, 2, 8, 6, 3]])",
         "hidden": false,
         "locked": false,
         "points": 0.5
        }
       ],
       "scored": true,
       "setup": "",
       "teardown": "",
       "type": "doctest"
      }
     ]
    },
    "q2": {
     "name": "q2",
     "points": 2,
     "suites": [
      {
       "cases": [
        {
         "code": ">>> valid_key(np.array([[3,6],[1,3]])) != None\nTrue",
         "failure_message": "Make sure you're using a return statement",
         "hidden": false,
         "locked": false,
         "points": 0
        },
        {
         "code": ">>> valid_key(np.array([[3,6],[1,3]]))\nTrue",
         "hidden": false,
         "locked": false,
         "points": 0.5
        },
        {
         "code": ">>> valid_key(np.array([[3,6,1],[1,3,2]]))\nFalse",
         "hidden": false,
         "locked": false,
         "points": 0.5
        },
        {
         "code": ">>> valid_key(np.array([[6, 24, 1],[13, 16, 10], [20, 17, 15]]))\nTrue",
         "hidden": false,
         "locked": false,
         "points": 0.5
        },
        {
         "code": ">>> valid_key(np.array([[6, 0, 1],[0, 17, 10], [20, 17, 15]]))\nFalse",
         "hidden": false,
         "locked": false,
         "points": 0.5
        },
        {
         "code": ">>> valid_key(np.array([[19, 16,  6, 17, 23], [ 6,  5,  4,  2,  8], [ 6, 22, 25,  2,  8], [ 7,  2, 17, 22,  5], [ 5,  4,  5, 25, 14]]) )\nTrue",
         "failure_message": "Make sure you are reducing mod len(LETTERS) before you find the multiplicative inverse",
         "hidden": false,
         "locked": false,
         "points": 0
        }
       ],
       "scored": true,
       "setup": "",
       "teardown": "",
       "type": "doctest"
      }
     ]
    },
    "q3": {
     "name": "q3",
     "points": 2,
     "suites": [
      {
       "cases": [
        {
         "code": ">>> type(keygen('HELP')) != None\nTrue",
         "failure_message": "Make sure you're using a return statement",
         "hidden": false,
         "locked": false,
         "points": 0
        },
        {
         "code": ">>> keygen('HELPABCD', LETTERS='ABCD')\narray([[0, 1],\n       [2, 3]])",
         "failure_message": "Make sure you're cleaning the message using LETTERS",
         "hidden": false,
         "locked": false,
         "points": 0
        },
        {
         "code": ">>> keygen('HELP')\narray([[ 7,  4],\n       [11, 15]])",
         "hidden": false,
         "locked": false,
         "points": 0.5
        },
        {
         "code": ">>> keygen('MATH')\narray([[12,  0],\n       [19,  7]])",
         "hidden": false,
         "locked": false,
         "points": 0.5
        },
        {
         "code": ">>> keygen('GYBNQKURP')\narray([[ 6, 24,  1],\n       [13, 16, 10],\n       [20, 17, 15]])",
         "hidden": false,
         "locked": false,
         "points": 0.5
        },
        {
         "code": ">>> keygen('MATHMATHM')\narray([[12,  0, 19],\n       [ 7, 12,  0],\n       [19,  7, 12]])",
         "hidden": false,
         "locked": false,
         "points": 0.5
        }
       ],
       "scored": true,
       "setup": "",
       "teardown": "",
       "type": "doctest"
      }
     ]
    },
    "q4": {
     "name": "q4",
     "points": 3,
     "suites": [
      {
       "cases": [
        {
         "code": ">>> hill_textclean('ET PHONE HOME', 2) != None\nTrue",
         "failure_message": "Make sure you're using a return statement",
         "hidden": false,
         "locked": false,
         "points": 0
        },
        {
         "code": ">>> hill_textclean('ABDFGHABBABBDBBBCBBDF', 4, LETTERS='ABCX')\n'ABABBABBBBBCBBXX'",
         "failure_message": "Make sure you're cleaning the message using LETTERS",
         "hidden": false,
         "locked": false,
         "points": 0
        },
        {
         "code": ">>> hill_textclean('ET PHONE HOME', 2)\n'ETPHONEHOMEX'",
         "hidden": false,
         "locked": false,
         "points": 1
        },
        {
         "code": ">>> hill_textclean('et phone home', 3)\n'ETPHONEHOMEX'",
         "hidden": false,
         "locked": false,
         "points": 1
        },
        {
         "code": ">>> hill_textclean('et phone home', 5)\n'ETPHONEHOMEXXXX'",
         "hidden": false,
         "locked": false,
         "points": 1
        }
       ],
       "scored": true,
       "setup": "",
       "teardown": "",
       "type": "doctest"
      }
     ]
    },
    "q5": {
     "name": "q5",
     "points": 2,
     "suites": [
      {
       "cases": [
        {
         "code": ">>> type(hill_inverse(np.array([[3, 6], [1,3]]), 26)) != None\nTrue",
         "failure_message": "Make sure you're using a return statement",
         "hidden": false,
         "locked": false,
         "points": 0
        },
        {
         "code": ">>> hill_inverse(np.array([[3, 6], [1,3]]), 26)\narray([[ 1, 24],\n       [17,  1]])",
         "hidden": false,
         "locked": false,
         "points": 1
        },
        {
         "code": ">>> hill_inverse(np.array([[6, 24, 1], [13, 16, 10], [20, 17, 15]]), 26)\narray([[ 8,  5, 10],\n       [21,  8, 21],\n       [21, 12,  8]])",
         "hidden": false,
         "locked": false,
         "points": 1
        }
       ],
       "scored": true,
       "setup": "",
       "teardown": "",
       "type": "doctest"
      }
     ]
    },
    "q6": {
     "name": "q6",
     "points": 6,
     "suites": [
      {
       "cases": [
        {
         "code": ">>> hill('DGBD', 2, 'ETPHONEHOME') != None\nTrue",
         "failure_message": "Make sure you're using a return statement",
         "hidden": false,
         "locked": false,
         "points": 0
        },
        {
         "code": ">>> hill('DGBD', 2, 'ETPHONEHOME', LETTERS='ABCDEFGHIJKLMNOQRSTUVWXYZ')\n'VIFZN AFZKZ'",
         "failure_message": "Make sure you're using LETTERS when cleaning your messages!",
         "hidden": false,
         "locked": false,
         "points": 0
        },
        {
         "code": ">>> hill('DGBD', 2, 'ETPHONEHOME')\n'WJJKQ BCZKY UV'",
         "hidden": false,
         "locked": false,
         "points": 0.5
        },
        {
         "code": ">>> hill('MATH', 2, 'ETPHONEHOME')\nFalse",
         "hidden": false,
         "locked": false,
         "points": 0.5
        },
        {
         "code": ">>> hill('DGBD', 2, 'WJJKQ BCZKY UV', encipher=False)\n'etphonehomex'",
         "hidden": false,
         "locked": false,
         "points": 0.5
        },
        {
         "code": ">>> hill('GYBNQKURP', 3, 'ACT')\n'POH'",
         "hidden": false,
         "locked": false,
         "points": 0.5
        },
        {
         "code": ">>> hill('GYBNQKURP', 3, 'POH', encipher=False)\n'act'",
         "hidden": false,
         "locked": false,
         "points": 1
        },
        {
         "code": ">>> hill('CEFJCBDRH', 3, 'ATTACKATDAWN')\n'PFOGO ANPGX FX'",
         "hidden": false,
         "locked": false,
         "points": 1
        },
        {
         "code": ">>> hill('CEFJCBDRH', 3, 'PFOGO ANPGX FX', encipher=False)\n'attackatdawn'",
         "hidden": false,
         "locked": false,
         "points": 1
        },
        {
         "code": ">>> hill('FGGI CCCI GGCI CDGH', 4, 'ATTACKATDAWN')\nFalse",
         "hidden": false,
         "locked": false,
         "points": 0.5
        },
        {
         "code": ">>> hill('TQGRX GFECI GWZCI HCRWF FEFZO', 5, \"THISISALONGMESSAGELETSHOPEITWORKS\")\n'XVWRX JYVKB KGIWU JWAEL AQBVI AKZLJ DMOAU'",
         "hidden": false,
         "locked": false,
         "points": 0.5
        }
       ],
       "scored": true,
       "setup": "",
       "teardown": "",
       "type": "doctest"
      }
     ]
    },
    "q8": {
     "name": "q8",
     "points": 2,
     "suites": [
      {
       "cases": [
        {
         "code": ">>> index_of_coincidence('test message') != None\nTrue",
         "failure_message": "Make sure you're using a return statement",
         "hidden": false,
         "locked": false,
         "points": 0
        },
        {
         "code": ">>> round(index_of_coincidence('test message'), 5) == round(index_of_coincidence('TESTMESSAGE'), 5)\nTrue",
         "failure_message": "Make sure you are cleaning your message before computing the IC",
         "hidden": false,
         "locked": false,
         "points": 0
        },
        {
         "code": ">>> round(index_of_coincidence('test message'), 5)\n0.12727",
         "hidden": false,
         "locked": false,
         "points": 1
        },
        {
         "code": ">>> round(index_of_coincidence(ciphertext), 5)\n0.03889",
         "hidden": true,
         "locked": false,
         "points": 1
        }
       ],
       "scored": true,
       "setup": "",
       "teardown": "",
       "type": "doctest"
      }
     ]
    },
    "q9": {
     "name": "q9",
     "points": 1,
     "suites": [
      {
       "cases": [
        {
         "code": ">>> q9\n2",
         "hidden": true,
         "locked": false,
         "points": 1
        }
       ],
       "scored": true,
       "setup": "",
       "teardown": "",
       "type": "doctest"
      }
     ]
    }
   }
  }
 },
 "nbformat": 4,
 "nbformat_minor": 5
}

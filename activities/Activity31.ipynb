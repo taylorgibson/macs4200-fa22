{
 "cells": [
  {
   "cell_type": "markdown",
   "id": "f10997b7-fca4-4587-8bcd-200084d9345f",
   "metadata": {},
   "source": [
    "## Activity 31: Double Baby Block ##\n",
    "Double baby block is a block cipher that works on 4 bit blocks. Any binary stream can be enciphered with this system. It is based on baby block which takes a 4-bit key. Double baby block enciphers first with an arbitrary 4-bit key and then with a second arbitrary key."
   ]
  },
  {
   "cell_type": "markdown",
   "id": "ed767f13-0c3c-4a56-9033-9299d359efd8",
   "metadata": {},
   "source": [
    "You have intercepted the following message from adversaries in a secret organization working closely with agents in a foreign government."
   ]
  },
  {
   "cell_type": "code",
   "execution_count": 25,
   "id": "0f32bb9c-3f55-483e-b1ba-8e1d60fb7f31",
   "metadata": {},
   "outputs": [],
   "source": [
    "message = 'MNAGZQFCYD.U#TFYZCMWPJOBZIUV#Q?,SEI?CLERHTFH,OSR#BZTBC.RG@QHAJAERIMBWEGKWIZJBDIF,ZCMVJAFSHFASHGYAD!FT@OKZL,,YAPCQLFL.R\\\n",
    "EVMPEMGNCMZJCMQYXYGYTUIDF?BM@YIAZIA@YKYLQIZJYBS!,,WKGACFNASF,QSFHK,Z#YIE?WZINA.?G,S?NA#!YYJRYQEIZJAAWKBAFFF#GKGYH?#AJDUP,ICUAEG,P\\\n",
    "Y@IZK#IOKQIZIIRM'"
   ]
  },
  {
   "cell_type": "markdown",
   "id": "eb1bdcdc-3324-40c3-864c-6277d8f9bb64",
   "metadata": {},
   "source": [
    "You have reason to believe that the first letter of the ciphertext represents a \"W\" in the plaintext. In this activity, we will break the cipher using the Meet in the Middle Attack. Run the following cell to load every possible four digit key into a list called _potential keys_."
   ]
  },
  {
   "cell_type": "code",
   "execution_count": 26,
   "id": "1f92a786-90ab-4aa1-98f0-f962f1551000",
   "metadata": {},
   "outputs": [],
   "source": [
    "potential_keys = ['0000','0001','0010','0011','0100','0101','0110','0111','1000','1001','1010','1011','1100','1101',\n",
    "                  '1110','1111']"
   ]
  },
  {
   "cell_type": "markdown",
   "id": "c4767285-fce6-4c7d-9c75-4c863b3d6b0e",
   "metadata": {},
   "source": [
    "W is 10110 in our binary alphabet and M is 01100, therefore we need to encipher W and _*decipher*_ M. Run the cell below so that we can organize our results into a table."
   ]
  },
  {
   "cell_type": "code",
   "execution_count": 27,
   "id": "dd7db392-b3e4-4f36-be7d-5f1a1039c8dd",
   "metadata": {},
   "outputs": [
    {
     "name": "stdout",
     "output_type": "stream",
     "text": [
      "Requirement already satisfied: tabulate in /opt/conda/lib/python3.10/site-packages (0.9.0)\n",
      "Note: you may need to restart the kernel to use updated packages.\n"
     ]
    }
   ],
   "source": [
    "%pip install tabulate\n",
    "from tabulate import tabulate"
   ]
  },
  {
   "cell_type": "markdown",
   "id": "7b709a8a-5b24-4762-9094-6fd9f3da0f36",
   "metadata": {},
   "source": [
    "Run the cells below to create a list of the resulting four bit strings that result from enciphering *1011*"
   ]
  },
  {
   "cell_type": "code",
   "execution_count": 28,
   "id": "87662796-cd4c-45a9-962d-3ee3ad59cda1",
   "metadata": {},
   "outputs": [],
   "source": [
    "def simple_baby_block(message,key):\n",
    " # both message and key are a four digit binary strings.\n",
    " # this program doesn't do any flipping, so the last two bits are always unchanged\n",
    "    \n",
    "  key = int((key),2)\n",
    "  \n",
    "  blocks = [message]\n",
    "\n",
    "  sbox = [\n",
    "          ['10', '10', '00', '11'], #0\n",
    "          ['00', '11', '10', '00'],\n",
    "          ['00', '10', '01', '00'],\n",
    "          ['01', '00', '11', '11'],\n",
    "          ['11', '00', '10', '01'],\n",
    "          ['10', '11', '01', '10'],#5\n",
    "          ['11', '01', '11', '10'],\n",
    "          ['10', '01', '00', '01'],\n",
    "          ['00', '01', '11', '10'],#8\n",
    "          ['01', '00', '01', '11'],#9\n",
    "          ['11', '11', '00', '00'],\n",
    "          ['11', '10', '01', '01'],#11\n",
    "          ['01', '11', '10', '10'],\n",
    "          ['00', '01', '11', '00'],\n",
    "          ['10', '00', '00', '01'],#14\n",
    "          ['01', '10', '10', '11']]\n",
    "  \n",
    "  y = (sbox[key]) \n",
    "  r = blocks[0]\n",
    "  sbox_output = r[2:4]\n",
    "  sbox_output = sbox\n",
    "  z = len(blocks)\n",
    "  output = ''  \n",
    "  for i in range(0,z):\n",
    "    a = (blocks[i][2:4])\n",
    "    b = int(a,2)\n",
    "    b = y[b]\n",
    "    c = str(int(b)^int(blocks[i][0:2]))\n",
    "    while len(c) < 2:\n",
    "        c = \"0\" + c\n",
    "    c = c + blocks[i][2:4]    \n",
    "    output += c\n",
    "                     \n",
    "  return(output)  "
   ]
  },
  {
   "cell_type": "code",
   "execution_count": 29,
   "id": "4b1857f1-3722-4f24-ab12-bd16ea5238b2",
   "metadata": {},
   "outputs": [],
   "source": [
    "def simple_baby_block_thrice(message,key):\n",
    " # both message and key are a four digit binary strings.\n",
    " # this program swaps the first two and last two bits twice, after the first and second key are used\n",
    " \n",
    "    key2 = key[1:4] + key[0] #rotates the key once\n",
    "    key3 = key2[1:4] + key2[0] #rotates the key twice\n",
    "    once = simple_baby_block(message,key)\n",
    "    once = once[2:4] + once[0:2] #swap\n",
    "    twice = simple_baby_block(once,key2)\n",
    "    twice = twice[2:4] + twice[0:2] #swap\n",
    "    thrice = simple_baby_block(twice,key3)\n",
    "\n",
    "    return(thrice)   \n",
    "  "
   ]
  },
  {
   "cell_type": "code",
   "execution_count": 30,
   "id": "245ff1c1-4a62-4187-8468-e289724029af",
   "metadata": {},
   "outputs": [
    {
     "name": "stdout",
     "output_type": "stream",
     "text": [
      "['1101', '0010', '1101', '1110', '0001', '1000', '0110', '0010', '0011', '1111', '1010', '1110', '1110', '1010', '1011', '1101']\n"
     ]
    }
   ],
   "source": [
    "encipher_list = []\n",
    "for i in range(16):\n",
    " encipher_list.append(simple_baby_block_thrice(\"1011\",potential_keys[i]))\n",
    "print(encipher_list)"
   ]
  },
  {
   "cell_type": "markdown",
   "id": "7c0c3b1f-4354-4546-bf55-732216f837e8",
   "metadata": {},
   "source": [
    "The letter M is represented in our alphabet as _01100_, but for our purposes we only need decipher the first four bits. Run the cells below to create a list that results from deciphering \"M\" with baby block."
   ]
  },
  {
   "cell_type": "code",
   "execution_count": 31,
   "id": "44642049-aa16-457a-a9cd-09cfec2dabd1",
   "metadata": {},
   "outputs": [],
   "source": [
    "def simple_unbaby_block_thrice(message, key):\n",
    "    \n",
    "    key2 = key[1:4] + key[0]\n",
    "    key3 = key[2:4] + key[0:2]\n",
    "    a = simple_baby_block(message,key3)\n",
    "    a = a[2:4] + a[0:2]\n",
    "    b = simple_baby_block(a,key2)\n",
    "    b = b[2:4] + b[0:2]\n",
    "    c = simple_baby_block(b,key)\n",
    "    \n",
    "    return(c)\n",
    "    "
   ]
  },
  {
   "cell_type": "code",
   "execution_count": 32,
   "id": "3c9db7b8-54e6-4cda-b1ae-7ca45eda7653",
   "metadata": {},
   "outputs": [
    {
     "name": "stdout",
     "output_type": "stream",
     "text": [
      "['1100', '0110', '1000', '1000', '0000', '1101', '1011', '1010', '1110', '1001', '1001', '0011', '0011', '0100', '0010', '0101']\n"
     ]
    }
   ],
   "source": [
    "decipher_list = []\n",
    "for i in range(16):\n",
    "    decipher_list.append(simple_unbaby_block_thrice(\"0110\",potential_keys[i]))\n",
    "print(decipher_list)    "
   ]
  },
  {
   "cell_type": "markdown",
   "id": "ef459db3-e73e-4af4-8661-9b9576273003",
   "metadata": {},
   "source": [
    "Now, run the cell below to create a table to organize this information and look for keys that meet in the middle."
   ]
  },
  {
   "cell_type": "code",
   "execution_count": 33,
   "id": "b97a6426-677e-466f-9e0d-9c1722b2dfcf",
   "metadata": {},
   "outputs": [
    {
     "name": "stdout",
     "output_type": "stream",
     "text": [
      "[['0000', '1101', '     ', '1100'], ['0001', '0010', '     ', '0110'], ['0010', '1101', '     ', '1000'], ['0011', '1110', '     ', '1000'], ['0100', '0001', '     ', '0000'], ['0101', '1000', '     ', '1101'], ['0110', '0110', '     ', '1011'], ['0111', '0010', '     ', '1010'], ['1000', '0011', '     ', '1110'], ['1001', '1111', '     ', '1001'], ['1010', '1010', '     ', '1001'], ['1011', '1110', '     ', '0011'], ['1100', '1110', '     ', '0011'], ['1101', '1010', '     ', '0100'], ['1110', '1011', '     ', '0010'], ['1111', '1101', '     ', '0101']]\n",
      "----  ----    ----\n",
      "0000  1101    1100\n",
      "0001  0010    0110\n",
      "0010  1101    1000\n",
      "0011  1110    1000\n",
      "0100  0001    0000\n",
      "0101  1000    1101\n",
      "0110  0110    1011\n",
      "0111  0010    1010\n",
      "1000  0011    1110\n",
      "1001  1111    1001\n",
      "1010  1010    1001\n",
      "1011  1110    0011\n",
      "1100  1110    0011\n",
      "1101  1010    0100\n",
      "1110  1011    0010\n",
      "1111  1101    0101\n",
      "----  ----    ----\n"
     ]
    }
   ],
   "source": [
    "mydata = []\n",
    "for i in range(0,16):\n",
    "    mydata.append([potential_keys[i],encipher_list[i],'     ',decipher_list[i]])\n",
    "print((mydata))\n",
    "print(tabulate(mydata))\n",
    "\n"
   ]
  },
  {
   "cell_type": "markdown",
   "id": "306571cb-297e-4803-b0c1-84be78709641",
   "metadata": {},
   "source": [
    "Find matching pairs in the second and third columns. One possible eight digit key will consist of the four bits immediately to the right of the four bits in the second column paired with the four bits two to the left of the match in the third column.\n",
    "\n",
    "For example, find 1101 at the top of the second column and sixth down on the third column. One possible key is \"0000 0101\".\n",
    "\n",
    "Use the table to find every possible key and enter them into the cell below in a list called _possible_.\n",
    "\n",
    "Hint: There are 15 (unless I missed one)."
   ]
  },
  {
   "cell_type": "code",
   "execution_count": 34,
   "id": "bd4c2c38-c12f-404d-8ced-ab1382047684",
   "metadata": {},
   "outputs": [],
   "source": [
    "possible = [\"00000101\",...]"
   ]
  },
  {
   "cell_type": "markdown",
   "id": "2d2645f6-9364-425a-8057-c22e7a49f285",
   "metadata": {},
   "source": [
    "Run the cell below. Use the function to run all fifteen possible keys with our message and decipher our message."
   ]
  },
  {
   "cell_type": "code",
   "execution_count": 35,
   "id": "1531d3f9-f2d0-4216-a2bc-4dd6dde7d98d",
   "metadata": {},
   "outputs": [],
   "source": [
    "def unbaby_block(message,key,LETTERS = \"ABCDEFGHIJKLMNOPQRSTUVWXYZ,.?!@#\"):\n",
    "  output = ''\n",
    "  outputfinal = ''\n",
    "  message = message.upper()\n",
    "  cl_message = ''  \n",
    "  for char in message:\n",
    "    if char in LETTERS:\n",
    "      cl_message += char\n",
    "  binary = {\"A\":\"00000\",\"B\":\"00001\",\"C\":\"00010\", \"D\":\"00011\",\"E\":\"00100\",\"F\":\"00101\",\"G\":\"00110\",\n",
    "            \"H\":\"00111\",\"I\":\"01000\",\"J\":\"01001\",\"K\":\"01010\",\"L\":\"01011\",\"M\":\"01100\",\"N\":\"01101\",\n",
    "            \"O\":\"01110\",\"P\":\"01111\",\"Q\":\"10000\",\"R\":\"10001\",\"S\":\"10010\",\"T\":\"10011\",\"U\":\"10100\",\n",
    "            \"V\":\"10101\",\"W\":\"10110\",\"X\":\"10111\",\"Y\":\"11000\",\"Z\":\"11001\",\",\":\"11010\",\".\":\"11011\",\n",
    "            \"?\":\"11100\",\"!\":\"11101\",\"@\":\"11110\",\"#\":\"11111\"}\n",
    "  rev_binary = {v: k for k, v in binary.items()}\n",
    "  binary_message = \"\"\n",
    "  for char in cl_message:\n",
    "    binary_message += binary[char]  \n",
    "  blocks = []\n",
    "  for i in range(0,len(binary_message),4):\n",
    "    blocks.append(binary_message[i:i+4])\n",
    "    \n",
    "  for j in range(0,len(blocks)):\n",
    "    a = blocks[j]\n",
    "    a = simple_baby_block(a,key[6:8]+key[4:6])\n",
    "    a = a[2:] + a[0:2]\n",
    "    b = simple_baby_block(a,key[5:8]+key[4])\n",
    "    b = b[2:] + b[0:2]\n",
    "    c = simple_baby_block(b,key[4:8])\n",
    "    d = simple_baby_block(c,key[2:4]+key[0:2])\n",
    "    d = d[2:] + d[0:2]\n",
    "    e = simple_baby_block(d,key[1:4]+key[0])\n",
    "    e = e[2:] + e[0:2]\n",
    "    f = simple_baby_block(e,key[0:4])\n",
    "    output += f\n",
    "  for k in range(0,len(output),5):\n",
    "    outputfinal += rev_binary[output[k:k+5]]\n",
    "  return(outputfinal.lower())  \n",
    "    "
   ]
  },
  {
   "cell_type": "code",
   "execution_count": null,
   "id": "dcb7517f-f660-4302-8c33-1123d6bdec00",
   "metadata": {},
   "outputs": [],
   "source": [
    "for i in range(15):\n",
    "    ...      "
   ]
  },
  {
   "cell_type": "markdown",
   "id": "f6b2c069-d3f3-4e06-b10c-584b1f089a4a",
   "metadata": {},
   "source": [
    "# To receive credit for this assignment, post one or two words from the plaintext to the Activity 31 on EdStem."
   ]
  },
  {
   "cell_type": "code",
   "execution_count": null,
   "id": "73ad34b0-747a-4db0-b138-adf1166fa92b",
   "metadata": {},
   "outputs": [],
   "source": []
  }
 ],
 "metadata": {
  "kernelspec": {
   "display_name": "Python 3 (ipykernel)",
   "language": "python",
   "name": "python3"
  },
  "language_info": {
   "codemirror_mode": {
    "name": "ipython",
    "version": 3
   },
   "file_extension": ".py",
   "mimetype": "text/x-python",
   "name": "python",
   "nbconvert_exporter": "python",
   "pygments_lexer": "ipython3",
   "version": "3.10.5"
  }
 },
 "nbformat": 4,
 "nbformat_minor": 5
}

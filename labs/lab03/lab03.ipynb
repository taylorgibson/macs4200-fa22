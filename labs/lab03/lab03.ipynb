{
 "cells": [
  {
   "cell_type": "code",
   "execution_count": null,
   "id": "7686f68c",
   "metadata": {
    "deletable": false,
    "editable": false
   },
   "outputs": [],
   "source": [
    "# Initialize Otter\n",
    "import otter\n",
    "grader = otter.Notebook(\"lab03.ipynb\")"
   ]
  },
  {
   "cell_type": "markdown",
   "id": "3b901d58",
   "metadata": {},
   "source": [
    "# Lab 03: Caesar Cipher with Larger Alphabets\n",
    "\n",
    "In today's lab, you'll learn how to implement Caesar cipher using alphabets with more than 26 characters.\n",
    "\n",
    "This lab covers parts of [Chapter 4](https://macs4200.org/chapters/04/2/caesar-cipher.html) and [Chapter 5](https://macs4200.org/chapters/05/3/file-io.html) of the online textbook. Let's get started!"
   ]
  },
  {
   "cell_type": "markdown",
   "id": "93d19d00",
   "metadata": {},
   "source": [
    "## Big Alphabets\n",
    "\n",
    "In this section you'll complete the Caesar cipher on alphabets that contain more than 26 characters."
   ]
  },
  {
   "cell_type": "markdown",
   "id": "b2556d61",
   "metadata": {},
   "source": [
    "Suppose we extend the alphabet to include uppercase letters and lowercase letters. We'll now have 52 characters to work with. Let's agree that capital letters will come first and use the positional numbers of 0 - 25, and then lowercase letters will come second and use the position numbers 26 - 51."
   ]
  },
  {
   "cell_type": "code",
   "execution_count": null,
   "id": "cb8caee7",
   "metadata": {},
   "outputs": [],
   "source": [
    "BIG_LETTERS = 'ABCDEFGHIJKLMNOPQRSTUVWXYZabcdefghijklmnopqrstuvwxyz'"
   ]
  },
  {
   "cell_type": "markdown",
   "id": "320f67b8",
   "metadata": {},
   "source": [
    "Remember, to Python 'Q' and 'q' are two different characters. They'll have different numerical values in our system as well."
   ]
  },
  {
   "cell_type": "code",
   "execution_count": null,
   "id": "54a0e745",
   "metadata": {},
   "outputs": [],
   "source": [
    "print( BIG_LETTERS[16] )"
   ]
  },
  {
   "cell_type": "code",
   "execution_count": null,
   "id": "ece42758",
   "metadata": {},
   "outputs": [],
   "source": [
    "print( BIG_LETTERS[42] )"
   ]
  },
  {
   "cell_type": "markdown",
   "id": "62ef4909",
   "metadata": {},
   "source": [
    "### Question 1.1\n",
    "\n",
    "Below you'll find similar code used in an earlier problem. You'll even find the same plaintext message. However, since we now want to consider uppercase and lowercase letters as valid, you'll need to change the way you clean the text. Additionally, the alphabet is now larger. What else will you need to change to ensure that all 52 possible plaintext letters are mapped to 52 different ciphertext letters.\n",
    "\n",
    "**Note:** Don't forget, the alphabet is now stored to `BIG_LETTERS`, not `LETTERS` so adjust accordingly!\n",
    "\n",
    "**Note #2:** Don't forget to clean the message. It should not contain spaces, exclamation points, periods, question marks, or commas."
   ]
  },
  {
   "cell_type": "code",
   "execution_count": null,
   "id": "6d7e0f05",
   "metadata": {
    "tags": []
   },
   "outputs": [],
   "source": [
    "BIG_LETTERS = 'ABCDEFGHIJKLMNOPQRSTUVWXYZabcdefghijklmnopqrstuvwxyz'\n",
    "plaintext = 'What is the answer, you ask? I will tell you!'\n",
    "clean_plaintext = ...\n",
    "key = 37 # Don't change this key or it will break the test\n",
    "\n",
    "# Creating an empty string that will eventually store your ciphertext\n",
    "ciphertext = ''\n",
    "\n",
    "for char in clean_plaintext:\n",
    "    plaintext_numerical = ...\n",
    "    ciphertext_numerical = ...\n",
    "    ciphertext = ...\n",
    "    \n",
    "print(ciphertext)"
   ]
  },
  {
   "cell_type": "code",
   "execution_count": null,
   "id": "928d2711",
   "metadata": {
    "deletable": false,
    "editable": false
   },
   "outputs": [],
   "source": [
    "grader.check(\"q1_1\")"
   ]
  },
  {
   "cell_type": "markdown",
   "id": "26fbd299",
   "metadata": {},
   "source": [
    "It's important to realize that we could define the alphabet to contain as many characters as we want! For most messages up through the introduction of computers, English messages contained only the 26 character alphabet we've been using so far. However, there's no mathematical reason why the alphabets couldn't be larger or smaller, as long as we tend to modulus of our calculations. We'll explore other sized alphabets throughout the course.\n",
    "\n",
    "Now that you've got a good handle on implementing the Caesar cipher for various size alphabets, let's turn our attention to formatting the ciphertext. Ciphertext is conventionally printed grouped into blocks of length 5, so let's see if we can figure out how to take an unblocked message and group it appropriately. "
   ]
  },
  {
   "cell_type": "markdown",
   "id": "a80b626e",
   "metadata": {},
   "source": [
    "### `if` statements\n",
    "\n",
    "To help out with this task, you may find `if` statements to be helpful. These allow you to run a line of code only **`if`** a certain criteria is met. Run the example below for different values of x and take note of the structure of the statement."
   ]
  },
  {
   "cell_type": "code",
   "execution_count": null,
   "id": "617c1a6b",
   "metadata": {},
   "outputs": [],
   "source": [
    "x = 5\n",
    "if x > 3:\n",
    "    print('x is larger than 3')"
   ]
  },
  {
   "cell_type": "markdown",
   "id": "2a83d3d9",
   "metadata": {},
   "source": [
    "The `print` statement is only run with the numerical value stored to `x` meets the criteria of `x > 3`. If `x` does not meet that criteria, then no additional code is run."
   ]
  },
  {
   "cell_type": "markdown",
   "id": "6d6ae893",
   "metadata": {},
   "source": [
    "### Question 2.2\n",
    "\n",
    "Below you'll find some starter code that will iterate over the string `unformatted`. You should add to this code so that when completed the string `formatted` contains the same characters as `unformatted` but grouped into blocks of length 5. If the last block doesn't have 5 characters, that's okay!\n",
    "\n",
    "For this code, try using the following strategy inside the loop:\n",
    "* append `char` to the `formatted` string\n",
    "* check to see if `formatted` has a multiple of 5 characters in it (not counting spaces)\n",
    "  * if it does, also append a space\n",
    "  * if it doesn't, do nothing!"
   ]
  },
  {
   "cell_type": "code",
   "execution_count": null,
   "id": "1b035e2d",
   "metadata": {
    "tags": []
   },
   "outputs": [],
   "source": [
    "unformatted = 'HELLOTHISISFORTESTING'\n",
    "formatted = ''\n",
    "\n",
    "for char in unformatted:\n",
    "    ...\n",
    "\n",
    "print(formatted)"
   ]
  },
  {
   "cell_type": "code",
   "execution_count": null,
   "id": "b1f0b15b",
   "metadata": {
    "deletable": false,
    "editable": false
   },
   "outputs": [],
   "source": [
    "grader.check(\"q1_2\")"
   ]
  },
  {
   "cell_type": "markdown",
   "id": "35d77b27",
   "metadata": {},
   "source": [
    "# Submitting your work\n",
    "You're done with this Lab! All assignments in the course will be distributed as notebooks like this one, and you will submit your work by doing the following:\n",
    "* Save your notebook\n",
    "* Restart the kernel and run up to this cell.\n",
    "* Run all the tests by running the cell containing `grader.check_all()`. Make sure they pass the way you expect them to.\n",
    "* Run the cell below with the code `grader.export(...)`.\n",
    "* Download the file named `labXX.zip`, found in the explorer pane on the left side of the screen.\n",
    "* Upload `labXX-<date-time stamp>.zip` to the corresponding lab assignment on Canvas."
   ]
  },
  {
   "cell_type": "markdown",
   "id": "640ca47f",
   "metadata": {
    "deletable": false,
    "editable": false
   },
   "source": [
    "## Submission\n",
    "\n",
    "Make sure you have run all cells in your notebook in order before running the cell below, so that all images/graphs appear in the output. The cell below will generate a zip file for you to submit.\n",
    "\n",
    "When done exporting, find the `.zip` file in the left side of the screen in the file browser, right-click, and select **Download**. You'll submit this `.zip` file for the assignment Gradescope for grading."
   ]
  },
  {
   "cell_type": "code",
   "execution_count": null,
   "id": "95571b16",
   "metadata": {
    "deletable": false,
    "editable": false
   },
   "outputs": [],
   "source": [
    "grader.export(pdf=False, force_save=True)"
   ]
  },
  {
   "cell_type": "markdown",
   "id": "3a287faf",
   "metadata": {},
   "source": [
    " "
   ]
  }
 ],
 "metadata": {
  "kernelspec": {
   "display_name": "Python 3 (ipykernel)",
   "language": "python",
   "name": "python3"
  },
  "language_info": {
   "codemirror_mode": {
    "name": "ipython",
    "version": 3
   },
   "file_extension": ".py",
   "mimetype": "text/x-python",
   "name": "python",
   "nbconvert_exporter": "python",
   "pygments_lexer": "ipython3",
   "version": "3.10.5"
  },
  "otter": {
   "tests": {
    "q1_1": {
     "name": "q1_1",
     "points": 1,
     "suites": [
      {
       "cases": [
        {
         "code": ">>> any( bad_chars in clean_plaintext for bad_chars in ['?', '!', ' ', '.', ','] )\nFalse",
         "failure_message": "You still have some punctuation in your message after cleaning",
         "hidden": false,
         "locked": false
        },
        {
         "code": ">>> ciphertext\n'HSLeTdeSPLYdhPcjZfLdVthTWWePWWjZf'",
         "hidden": false,
         "locked": false
        }
       ],
       "scored": true,
       "setup": "",
       "teardown": "",
       "type": "doctest"
      }
     ]
    },
    "q1_2": {
     "name": "q1_2",
     "points": 1,
     "suites": [
      {
       "cases": [
        {
         "code": ">>> formatted.count(' ')\n4",
         "failure_message": "There should be 4 spaces (5 blocks) in this message",
         "hidden": false,
         "locked": false
        },
        {
         "code": ">>> len(formatted)\n25",
         "failure_message": "There should be 25 total characters in the string (including spaces)",
         "hidden": false,
         "locked": false
        },
        {
         "code": ">>> formatted\n'HELLO THISI SFORT ESTIN G'",
         "hidden": false,
         "locked": false
        }
       ],
       "scored": true,
       "setup": "",
       "teardown": "",
       "type": "doctest"
      }
     ]
    }
   }
  }
 },
 "nbformat": 4,
 "nbformat_minor": 5
}

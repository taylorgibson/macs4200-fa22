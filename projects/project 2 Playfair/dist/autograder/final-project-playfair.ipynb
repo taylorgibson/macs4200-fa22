{
 "cells": [
  {
   "cell_type": "code",
   "execution_count": null,
   "id": "e072eb31",
   "metadata": {
    "deletable": false,
    "editable": false
   },
   "outputs": [],
   "source": [
    "# Initialize Otter\n",
    "import otter\n",
    "grader = otter.Notebook(\"final-project-playfair.ipynb\")"
   ]
  },
  {
   "cell_type": "markdown",
   "id": "b2661b47",
   "metadata": {
    "id": "59942f50-e654-4c22-97c1-2fcc3bce2731"
   },
   "source": [
    "# Final Project: Playfair cipher\n",
    "\n",
    "This choice for the final project will focus on the [Playfair cipher](https://en.wikipedia.org/wiki/Playfair_cipher).\n",
    "\n",
    "From Wikipedia:\n",
    ">The technique encrypts pairs of letters (bigrams or digrams), instead of single letters as in the simple substitution cipher and rather more complex Vigenère cipher systems then in use. The Playfair is thus significantly harder to break since the frequency analysis used for simple substitution ciphers does not work with it. The frequency analysis of bigrams is possible, but considerably more difficult. With 600 possible bigrams rather than the 26 possible monograms (single symbols, usually letters in this context), a considerably larger cipher text is required in order to be useful.\n",
    "\n",
    "You will investigate how to create the key and implement the encryption / decryption algorithms in Python."
   ]
  },
  {
   "cell_type": "markdown",
   "id": "c838cf5b",
   "metadata": {
    "id": "6a061529-fac8-4af4-a8ac-50c0c8c1e14c"
   },
   "source": [
    "## Import your toolkit\n",
    "\n",
    "You are provided the following functions to help complete this assignment:\n",
    "* `text_clean`\n",
    "* `text_block`\n",
    "\n",
    "Run the cell below to import these assignments"
   ]
  },
  {
   "cell_type": "code",
   "execution_count": null,
   "id": "75b43c12",
   "metadata": {
    "id": "0ac13037-2609-4788-9c29-ee64f7383ee7"
   },
   "outputs": [],
   "source": [
    "from finaltoolkit import text_clean, text_block"
   ]
  },
  {
   "cell_type": "markdown",
   "id": "51333276",
   "metadata": {
    "id": "2f4c8394-1784-4de3-bf29-85ea6cce4da2"
   },
   "source": [
    "## The Polybius square\n",
    "\n",
    "The Playfair cipher uses a Polybius square as the substitution key, similar to the ADFGVX and bifid ciphers.\n",
    "\n",
    "From Wikipedia:\n",
    "\n",
    ">The Polybius square, also known as the Polybius checkerboard, is a device invented by the ancient Greeks Cleoxenus and Democleitus, and made famous by the historian and scholar Polybius. The device is used for fractionating plaintext characters so that they can be represented by a smaller set of symbols, which is useful for telegraphy, steganography, and cryptography. The device was originally used for fire signalling, allowing for the coded transmission of any message, not just a finite amount of predetermined options as was the convention before.\n",
    "\n",
    "To create a Polybius square, first create an empty 5x5 grid. Then, fill it with each of the 26 English characters, with `I` and `J` sharing a square (`I` is only shown when displayed). There are $25!$ different ways to fill the square, which makes it very unlikely that someone would be able to guess your key at random.\n",
    "\n",
    "In practice, however, a keyword is often used to create the square. The letters of the key (without duplicates) are placed from left to right starting in the top row, moving from top to bottom. When the letters in the keyword are used up, the rest of the alphabet follows in regular order. \n",
    "\n",
    "For example, the keyword `playfair example` would result in square below, where duplicate letters are omitted from the square, but still shown in red:\n",
    "\n",
    "![](https://upload.wikimedia.org/wikipedia/commons/e/ef/Playfair_Cipher_building_grid_omitted_letters.png)"
   ]
  },
  {
   "cell_type": "markdown",
   "id": "ad6b22cd",
   "metadata": {
    "id": "959543e4-fcbf-4b65-a4c1-db4ea842c63e"
   },
   "source": [
    "For this assignment, the polybius square must be represented as a string, which is constructed by reading the square left to right, top to bottom.\n",
    "\n",
    "For example, polybius square from the keyword `playfair example` would be represented as:"
   ]
  },
  {
   "cell_type": "code",
   "execution_count": null,
   "id": "ebf89626",
   "metadata": {
    "id": "9e37ac92-b3cd-4452-9a04-2cdf68bc41c3",
    "outputId": "3c834f28-ecdc-4767-e605-7cf32b515666"
   },
   "outputs": [
    {
     "data": {
      "text/plain": [
       "'PLAYFIREXMBCDGHKNOQSTUVWZ'"
      ]
     },
     "execution_count": 2,
     "metadata": {},
     "output_type": "execute_result"
    }
   ],
   "source": [
    "example_keyword = 'PLAYFIREXMBCDGHKNOQSTUVWZ'\n",
    "example_keyword"
   ]
  },
  {
   "cell_type": "markdown",
   "id": "a914e35c",
   "metadata": {
    "id": "488d9b3d-dc31-4332-a0c4-ca5543422aff"
   },
   "source": [
    "**Note**: When creating keys, only the character `I` was stored to the list, not `I/J`. For this assignment, both `I` and `J` should be treated as the character `I`. This will create some odd plaintext messages when deciphering, but humans are good at reading `I`'s as `J`'s when needed. For example, the phrase \"Now stop and give me `10 Iumping Iacks`!\" would likely be readable to most people."
   ]
  },
  {
   "cell_type": "markdown",
   "id": "7a476c78",
   "metadata": {
    "id": "1999bfb2-16eb-4ce7-88e3-8508ac59b1b3"
   },
   "source": [
    "### Question 1: Accessing elements of the key\n",
    "The operations needed to encipher and decipher messages require knowing the row and column number for each character in the key. Write a function `get_character` which returns the character at an indicated row and column in the square. You will need to determine how to use the values for `row` and `col` to compute a corresponding index value in the string `key`.\n",
    "\n",
    "**Note:** The top row will be numbered as row 0, and the last row will be numbered as row 4. The same numbering system applies to the columns.\n",
    "\n",
    "**Sample Test Cases:**\n",
    "```\n",
    ">> get_character('PLAYFIREXMBCDGHKNOQSTUVWZ', row=0, col=0)\n",
    "'P'\n",
    "\n",
    ">> get_character('PLAYFIREXMBCDGHKNOQSTUVWZ', row=1, col=4)\n",
    "'M'\n",
    "\n",
    ">> get_character('PLAYFIREXMBCDGHKNOQSTUVWZ', row=4, col=3)\n",
    "'W'\n",
    "```"
   ]
  },
  {
   "cell_type": "code",
   "execution_count": null,
   "id": "e30e3f23",
   "metadata": {
    "id": "588dd326-da2e-4f3a-817f-3a285ac9e9b2",
    "tags": [
     "otter_assign_solution_cell"
    ]
   },
   "outputs": [],
   "source": [
    "def get_character(key, row, col):\n",
    "    # BEGIN SOLUTION NO PROMPT\n",
    "    index = (row)*5 + (col)\n",
    "    # END SOLUTION\n",
    "    return key[index] # SOLUTION"
   ]
  },
  {
   "cell_type": "code",
   "execution_count": null,
   "id": "935f0c94",
   "metadata": {
    "deletable": false,
    "editable": false
   },
   "outputs": [],
   "source": [
    "grader.check(\"q1\")"
   ]
  },
  {
   "cell_type": "markdown",
   "id": "0f4b72b6",
   "metadata": {
    "id": "db50461e-744a-4350-b6a1-219dc8db4cd9"
   },
   "source": [
    "### Question 2\n",
    "\n",
    "It is also required to determine the row and column number for a given character. Write the functions `get_row` and `get_col` that return an integer that represents the row and column numbers respectively when provided a key and a character contained in the key."
   ]
  },
  {
   "cell_type": "markdown",
   "id": "f4ed1ee0",
   "metadata": {
    "id": "8f4dfcbd-8533-4f76-a558-c1528a68e91d"
   },
   "source": [
    "#### Part A: `get_row`\n",
    "\n",
    "**Sample Test Cases:**\n",
    "\n",
    "```\n",
    ">> get_row('PLAYFIREXMBCDGHKNOQSTUVWZ', 'P')\n",
    "0\n",
    "\n",
    ">> get_row('PLAYFIREXMBCDGHKNOQSTUVWZ', 'M')\n",
    "1\n",
    "\n",
    ">> get_row('PLAYFIREXMBCDGHKNOQSTUVWZ', 'W')\n",
    "4\n",
    "```"
   ]
  },
  {
   "cell_type": "code",
   "execution_count": null,
   "id": "451eb943",
   "metadata": {
    "id": "b2d37bfb-c77e-4b3b-bb40-6398303b1581",
    "tags": [
     "otter_assign_solution_cell"
    ]
   },
   "outputs": [],
   "source": [
    "def get_row(key, char):\n",
    "    return key.find(char) // 5 # SOLUTION"
   ]
  },
  {
   "cell_type": "code",
   "execution_count": null,
   "id": "d4b2e073",
   "metadata": {
    "deletable": false,
    "editable": false
   },
   "outputs": [],
   "source": [
    "grader.check(\"q2a\")"
   ]
  },
  {
   "cell_type": "markdown",
   "id": "3bbf36b3",
   "metadata": {
    "id": "8cbf08e7-5a7b-40a4-ba7e-ccf3c0575fae"
   },
   "source": [
    "#### Part B: `get_col`\n",
    "\n",
    "**Sample Test Cases:**\n",
    "\n",
    "```\n",
    ">> get_col('PLAYFIREXMBCDGHKNOQSTUVWZ', 'P')\n",
    "0\n",
    "\n",
    ">> get_col('PLAYFIREXMBCDGHKNOQSTUVWZ', 'M')\n",
    "4\n",
    "\n",
    ">> get_col('PLAYFIREXMBCDGHKNOQSTUVWZ', 'W')\n",
    "3\n",
    "```"
   ]
  },
  {
   "cell_type": "code",
   "execution_count": null,
   "id": "3c60b2a4",
   "metadata": {
    "id": "da349ed5-a8f8-4b65-87fd-d16f940ebef4",
    "tags": [
     "otter_assign_solution_cell"
    ]
   },
   "outputs": [],
   "source": [
    "def get_col(key, char):\n",
    "    return key.find(char) % 5 # SOLUTION"
   ]
  },
  {
   "cell_type": "code",
   "execution_count": null,
   "id": "074d70c1",
   "metadata": {
    "deletable": false,
    "editable": false
   },
   "outputs": [],
   "source": [
    "grader.check(\"q2b\")"
   ]
  },
  {
   "cell_type": "markdown",
   "id": "943315ba",
   "metadata": {
    "id": "8d3d09b8-f60e-46e5-895c-4596a7ceb385"
   },
   "source": [
    "### Question 3: Creating the key\n",
    "\n",
    "Write a function, `keygen` that creates a Polybius square key that is formatted as a list of lists. `keygen` should accept a keyword (as a string) to create the key. If a keyword is not provided, then the square should should be filled with the alphabet in normal order.\n",
    "\n",
    "**Hint:** You can use the Python operator `in` and `not in` to determine if a character is already in a string. For example:"
   ]
  },
  {
   "cell_type": "code",
   "execution_count": null,
   "id": "b24f2dbf",
   "metadata": {
    "id": "7ee91eca-069a-4e32-ab88-0b8852bacb3d",
    "outputId": "a27e0877-7bcb-40d6-e2ec-0607bda5ecf1"
   },
   "outputs": [
    {
     "data": {
      "text/plain": [
       "True"
      ]
     },
     "execution_count": 18,
     "metadata": {},
     "output_type": "execute_result"
    }
   ],
   "source": [
    "'Y' in 'PLAYFAIR'\n"
   ]
  },
  {
   "cell_type": "code",
   "execution_count": null,
   "id": "2944a38b",
   "metadata": {
    "id": "fcc3c944-b186-46d4-915c-7f4c65387928",
    "outputId": "b69b5cb3-26d2-45b9-a9f5-55305592a3af"
   },
   "outputs": [
    {
     "data": {
      "text/plain": [
       "False"
      ]
     },
     "execution_count": 19,
     "metadata": {},
     "output_type": "execute_result"
    }
   ],
   "source": [
    "'L' not in 'PLAYFAIR'"
   ]
  },
  {
   "cell_type": "markdown",
   "id": "4921ce4f",
   "metadata": {
    "id": "020127d7-a52d-4db7-9147-5351d63cfe7a"
   },
   "source": [
    "This could be helpful if you were to implement a strategy that:\n",
    "* constructs a string, `all_characters` that consis of the characters in `keyword` and `LETTERS`\n",
    "* replaces `J` with `I` and saves the result as `all_characters_no_J`\n",
    "* appends each character of `all_characters_no_J` into a new string, `key`, each time checking checking to make sure it's not already in `key`. \n",
    "\n",
    "This should guarantee that `key` only contains the 25 valid characters. Make sure they appear in the correct order!"
   ]
  },
  {
   "cell_type": "markdown",
   "id": "462647ae",
   "metadata": {
    "id": "94e6028f-9bdf-498a-b81b-11644d2ffc03"
   },
   "source": [
    "**Sample Test Cases**:\n",
    "```\n",
    ">> keygen()\n",
    "'ABCDEFGHIKLMNOPQRSTUVWXYZ`\n",
    "\n",
    ">> keygen( 'Polybius Cipher' )\n",
    "'POLYBIUSCHERADFGKMNQTVWXZ\n",
    "\n",
    ">> keygen( keyword = 'Long Jump' )\n",
    "'LONGIUMPABCDEFHKQRSTVWXYZ'\n",
    "```"
   ]
  },
  {
   "cell_type": "code",
   "execution_count": null,
   "id": "589bfce8",
   "metadata": {
    "id": "b9b7dd6c-2f56-487b-aaa2-7ab20ac70e44",
    "tags": [
     "otter_assign_solution_cell"
    ]
   },
   "outputs": [],
   "source": [
    "def keygen(keyword='', LETTERS='ABCDEFGHIKLMNOPQRSTUVWXYZ'):\n",
    "    \n",
    "    all_characters = text_clean(keyword) + LETTERS # SOLUTION\n",
    "    all_characters_no_J = all_characters.replace('J','I') # SOLUTION\n",
    "    key = '' # SOLUTION\n",
    "    \n",
    "    # BEGIN SOLUTION NO PROMPT\n",
    "    for char in all_characters_no_J:\n",
    "        if char not in key:\n",
    "            key += char\n",
    "    # END SOLUTION\n",
    "    \n",
    "    return key # SOLUTION"
   ]
  },
  {
   "cell_type": "code",
   "execution_count": null,
   "id": "3bf5a2e5",
   "metadata": {
    "deletable": false,
    "editable": false
   },
   "outputs": [],
   "source": [
    "grader.check(\"q3\")"
   ]
  },
  {
   "cell_type": "markdown",
   "id": "a36cff74",
   "metadata": {
    "id": "472fdcb4-7367-40ab-a99f-25bfab4467c0"
   },
   "source": [
    "## The Playfair Cipher\n",
    "\n",
    "From Wikipedia:\n",
    "\n",
    "To encrypt a message, one would break the message into digrams (groups of 2 letters) such that, for example, `HelloWorld` becomes `HE LL OW OR LD`. These digrams will be substituted using the key table. \n",
    "\n",
    "Since encryption requires pairs of letters, messages with an odd number of characters usually append an uncommon letter, such as `X`, to complete the final digram. \n",
    "\n",
    "The two letters of the digram are considered opposite corners of a rectangle in the key table. To perform the substitution, apply the following 4 rules, in order, to each pair of letters in the plaintext:\n",
    "\n",
    "1. If both letters are the same (or only one letter is left), add an `X` after the first letter. Encrypt the new pair and continue.\n",
    "2. If the letters appear on the same row of your table, replace them with the letters to their immediate right respectively (wrapping around to the left side of the row if a letter in the original pair was on the right side of the row). <br>![](https://upload.wikimedia.org/wikipedia/commons/2/29/Playfair_Cipher_10_EX_to_XD.png)\n",
    "3. If the letters appear on the same column of your table, replace them with the letters immediately below respectively (wrapping around to the top side of the column if a letter in the original pair was on the bottom side of the column).<br>![](https://upload.wikimedia.org/wikipedia/commons/4/44/Playfair_Cipher_02_DE_to_OD.png)\n",
    "4. If the letters are not on the same row or column, replace them with the letters on the same row respectively but at the other pair of corners of the rectangle defined by the original pair. The order is important – the first letter of the encrypted pair is the one that lies on the same row as the first letter of the plaintext pair.<br>![](https://upload.wikimedia.org/wikipedia/commons/4/40/Playfair_Cipher_01_HI_to_BM.png)\n",
    "\n",
    "To decrypt, use the inverse (opposite) of the two shift rules, selecting the letter to the left or upwards as appropriate. The last rule remains unchanged, as the transformation switches the selected letters of the rectangle to the opposite diagonal, and a repeat of the transformation returns the selection to its original state. The first rule can only be reversed by dropping any extra instances of the chosen insert letter, `X`, that do not make sense in the final message when finished. This is typically done by hand."
   ]
  },
  {
   "cell_type": "markdown",
   "id": "9664988e",
   "metadata": {
    "id": "743a1874-3854-4cc5-85b2-cd357515710e"
   },
   "source": [
    "### Question 4: Cleaning the message\n",
    "\n",
    "When encrypting a message, the Playfair Cipher selects two consecutive plaintext letters and uses the Polybius square to perform a substitution to produce 2 ciphertext characters. The algorithm requires the following:\n",
    "   * There should not be any `J`'s in your message. `J` should replaced with `I`\n",
    "   * Two consecutive letters must be different characters. If they are the same character, insert an 'X' after the first character.\n",
    "   * The message must be even in length so letters can always be taken in pairs.\n",
    "   \n",
    "Write a function `playfair_textclean` that ensures the criteria are met for any provided message.\n",
    "\n",
    "**Sample Test Cases**:\n",
    "```\n",
    ">>> playfair_textclean( 'HEY' )\n",
    "'HEYX'\n",
    "\n",
    ">>> playfair_textclean( 'Jump' )\n",
    "'IUMP'\n",
    "\n",
    ">>> playfair_textclean( 'Hide the gold in the tree stump' )\n",
    "'HIDETHEGOLDINTHETREXESTUMP'\n",
    "\n",
    ">>> playfair_textclean( 'mississippi' )\n",
    "'MISXSISXSIPXPI'\n",
    "```"
   ]
  },
  {
   "cell_type": "code",
   "execution_count": null,
   "id": "1b8106e5",
   "metadata": {
    "id": "ef75962c-1b67-42e7-974a-1f25ed05813c",
    "tags": [
     "otter_assign_solution_cell"
    ]
   },
   "outputs": [],
   "source": [
    "def playfair_textclean(message):\n",
    "    \n",
    "    # Clean the message using text_clean, then replace the Js\n",
    "    cleaned_message = text_clean(message).replace('J', 'I') # SOLUTION\n",
    "    \n",
    "    # Handle any pairs of letters that are the same character\n",
    "    \n",
    "    # BEGIN SOLUTION NO PROMPT\n",
    "    i = 0\n",
    "    while i < len(cleaned_message)-1:\n",
    "        if cleaned_message[i] == cleaned_message[i+1]:\n",
    "            cleaned_message = cleaned_message[0:i+1] + 'X' + cleaned_message[i+1:]\n",
    "        i +=2\n",
    "    # END SOLUTION\n",
    "    \n",
    "    # Determine if the message has an odd number of characters\n",
    "    # and if so, append an 'X' at the end.\n",
    "    \n",
    "    # BEGIN SOLUTION NO PROMPT\n",
    "    if len(cleaned_message) % 2 == 1:\n",
    "        cleaned_message += 'X'\n",
    "    \n",
    "    return cleaned_message\n",
    "    # END SOLUTION"
   ]
  },
  {
   "cell_type": "code",
   "execution_count": null,
   "id": "5f0d3893",
   "metadata": {
    "deletable": false,
    "editable": false
   },
   "outputs": [],
   "source": [
    "grader.check(\"q4\")"
   ]
  },
  {
   "cell_type": "markdown",
   "id": "6e1a272c",
   "metadata": {
    "id": "cc412ab1-c342-4dad-9022-ffa885857594"
   },
   "source": [
    "### Question 5: Encryption / Decryption\n",
    "\n",
    "At this point you should now be able write a function `playfair` that implements the playfair cipher using a provided keyword and message. The function should also accept a boolean value to `encipher` that when set to `True` encrypts the `message` with the `key` and when set to `False` decrypts the `message` with the `key`.\n",
    "\n",
    "**Sample Test Cases**:\n",
    "```\n",
    ">>> playfair('playfair example', 'Hide the gold in the tree stump')\n",
    "'BMODZ BXDNA BEKUD MUIXM MOUVI F'\n",
    "\n",
    ">>> playfair('playfair example', 'BMODZ BXDNA BEKUD MUIXM MOUVI F', False)\n",
    "'hidethegoldinthetrexestump'\n",
    "```"
   ]
  },
  {
   "cell_type": "code",
   "execution_count": null,
   "id": "28abc3f4",
   "metadata": {
    "id": "e1f79d44-c93f-4b89-ada5-92850946650d",
    "tags": [
     "otter_assign_solution_cell"
    ]
   },
   "outputs": [],
   "source": [
    "def playfair(keyword, message, encipher=True):\n",
    "    \n",
    "    key = keygen(keyword) # SOLUTION\n",
    "    cleaned_message = playfair_textclean(message) # SOLUTION\n",
    "    output = ''\n",
    "    \n",
    "    # BEGIN SOLUTION NO PROMPT\n",
    "    if encipher:\n",
    "        for i in range(0, len(cleaned_message), 2):\n",
    "            char1_row = get_row(key, cleaned_message[i])\n",
    "            char1_col = get_col(key, cleaned_message[i])\n",
    "            \n",
    "            char2_row = get_row(key, cleaned_message[i+1])\n",
    "            char2_col = get_col(key, cleaned_message[i+1])\n",
    "            \n",
    "            # If characters are in the same row\n",
    "            if char1_row == char2_row:\n",
    "                output += get_character(key, char1_row, (char1_col + 1) % 5)\n",
    "                output += get_character(key, char2_row, (char2_col + 1) % 5)\n",
    "            \n",
    "            # If same column\n",
    "            elif char1_col == char2_col:\n",
    "                output += get_character(key, (char1_row + 1) % 5, char1_col )\n",
    "                output += get_character(key, (char2_row + 1) % 5, char2_col )\n",
    "            \n",
    "            # If different rows and columns\n",
    "            else:\n",
    "                output += get_character(key, char1_row, char2_col)\n",
    "                output += get_character(key, char2_row, char1_col)\n",
    "    else:\n",
    "        for i in range(0, len(cleaned_message), 2):\n",
    "            char1_row = get_row(key, cleaned_message[i])\n",
    "            char1_col = get_col(key, cleaned_message[i])\n",
    "            \n",
    "            char2_row = get_row(key, cleaned_message[i+1])\n",
    "            char2_col = get_col(key, cleaned_message[i+1])\n",
    "            \n",
    "            # If characters are in the same row\n",
    "            if char1_row == char2_row:\n",
    "                output += get_character(key, char1_row, (char1_col - 1) % 5)\n",
    "                output += get_character(key, char2_row, (char2_col - 1) % 5)\n",
    "            \n",
    "            # If same column\n",
    "            elif char1_col == char2_col:\n",
    "                output += get_character(key, (char1_row - 1) % 5, char1_col )\n",
    "                output += get_character(key, (char2_row - 1) % 5, char2_col )\n",
    "            \n",
    "            # If different rows and columns\n",
    "            else:\n",
    "                output += get_character(key, char1_row, char2_col)\n",
    "                output += get_character(key, char2_row, char1_col)\n",
    "    # END SOLUTION\n",
    "    \n",
    "    return text_block(output, 5) # SOLUTION"
   ]
  },
  {
   "cell_type": "code",
   "execution_count": null,
   "id": "81440b40",
   "metadata": {
    "deletable": false,
    "editable": false
   },
   "outputs": [],
   "source": [
    "grader.check(\"q5\")"
   ]
  },
  {
   "cell_type": "markdown",
   "id": "0f76e706",
   "metadata": {
    "id": "2ffd40a7-eb84-4c82-96ac-da8bc7309f65"
   },
   "source": [
    "## Ciphertext analysis"
   ]
  },
  {
   "cell_type": "markdown",
   "id": "62b54b90",
   "metadata": {
    "id": "7d28e51b-05b7-458d-8b67-02f50fb10065"
   },
   "source": [
    "There is a file included with this notebook that contains the first chapter of Pride and Prejudice. The questions below will ask you to analyze a ciphertext that uses this chapter as the plaintext. Each question will ask you to replace `...`'s in a code cell with your answer, either a multiple choice response (`'A'`, `'B'`, etc) or a free response. These responses will only be graded for accuracy once you've submitted your assignment, so make sure you are certain of your answers before submitting!\n",
    "\n",
    "Run the cell below to load the chapter to the string named `plaintext`"
   ]
  },
  {
   "cell_type": "code",
   "execution_count": null,
   "id": "7ac8feee",
   "metadata": {
    "id": "3bc21fd3-1318-481e-9f13-f01aa646d3ac"
   },
   "outputs": [],
   "source": [
    "with open('pride-prejudice-chapter-01.txt') as f:\n",
    "    plaintext = f.read()"
   ]
  },
  {
   "cell_type": "markdown",
   "id": "2304f109",
   "metadata": {
    "id": "b8b26196-9fb6-43a6-90c8-9c3d2a306f7e"
   },
   "source": [
    "<!-- BEGIN QUESTION -->\n",
    "\n",
    "### Question 6: Creating a bar chart\n",
    "\n",
    "Encrypt the plaintext using a keyword of `Jane Austen`, then create a bar chart that shows the single character frequencies of each of the 25 English characters used in the message."
   ]
  },
  {
   "cell_type": "code",
   "execution_count": null,
   "id": "f02678f2",
   "metadata": {
    "id": "9bf4a23f-cd71-41ff-aa1e-6f3e26f3da24",
    "outputId": "f23cf3a6-911b-4839-ba61-54f57b31ffe2",
    "tags": [
     "otter_assign_solution_cell"
    ]
   },
   "outputs": [
    {
     "data": {
      "image/png": "[encoded data removed]",
      "text/plain": [
       "<Figure size 432x288 with 1 Axes>"
      ]
     },
     "metadata": {
      "needs_background": "light"
     },
     "output_type": "display_data"
    }
   ],
   "source": [
    "ciphertext = playfair('Jane Austen', plaintext) # SOLUTION\n",
    "\n",
    "# BEGIN SOLUTION NO PROMPT\n",
    "import matplotlib.pyplot as plt\n",
    "LETTERS = 'ABCDEFGHIKLMNOPQRSTUVWXYZ'\n",
    "frequencies = []\n",
    "ciphertext_length = len(ciphertext.replace(' ',''))\n",
    "\n",
    "for char in LETTERS:\n",
    "    frequencies.append( ciphertext.count(char) / ciphertext_length )\n",
    "    \n",
    "plt.bar(list(LETTERS), frequencies)\n",
    "plt.xlabel('Letters')\n",
    "plt.ylabel('Frequency')\n",
    "plt.title('Frequency Analysis')\n",
    "\n",
    "plt.show()\n",
    "# END SOLUTION"
   ]
  },
  {
   "cell_type": "markdown",
   "id": "f6cde1c4",
   "metadata": {
    "id": "6d7f3d2f-ca9d-4eef-a42c-569a5458d293"
   },
   "source": [
    "<!-- END QUESTION -->\n",
    "\n",
    "### Question 7: Index of Coincidence\n",
    "\n",
    "Write a function `index_of_coincidence` to compute the index of coincidence of the ciphertext.\n",
    "\n",
    "**Hint:** Reference Lesson 17 and Lab 04 if you need a refresher!"
   ]
  },
  {
   "cell_type": "code",
   "execution_count": null,
   "id": "d41a7724",
   "metadata": {
    "id": "931e2a64-6688-477d-b762-e08460d828d8",
    "tags": [
     "otter_assign_solution_cell"
    ]
   },
   "outputs": [],
   "source": [
    "def index_of_coincidence(message, LETTERS='ABCDEFGHIKLMNOPQRSTUVWXYZ'):\n",
    "    \n",
    "    # BEGIN SOLUTION NO PROMPT    \n",
    "    cleaned_message = text_clean(message, LETTERS)\n",
    "    message_length = len(cleaned_message) \n",
    "    \n",
    "    total = 0\n",
    "    for char in LETTERS:\n",
    "        total += ( cleaned_message.count(char) / message_length ) *  ( (cleaned_message.count(char)-1) / (message_length-1) )\n",
    "    # END SOLUTION\n",
    "    return total # SOLUTION"
   ]
  },
  {
   "cell_type": "code",
   "execution_count": null,
   "id": "fe5c3b2c",
   "metadata": {
    "deletable": false,
    "editable": false
   },
   "outputs": [],
   "source": [
    "grader.check(\"q7\")"
   ]
  },
  {
   "cell_type": "markdown",
   "id": "7cf9e4bc",
   "metadata": {
    "id": "728b26f8-1d4e-449d-b806-8609429ea72c"
   },
   "source": [
    "### Question 8: Classifying the cipher\n",
    "\n",
    "The Playfair cipher is what's known as a polygraphic cipher. It's not a monoalphabetic substitution cipher or a polyalphabetic substitution cipher.\n",
    "\n",
    "Based on the coincidence value you computed in Question 7, which of the following does it behave *most* like:\n",
    "\n",
    "1. monoalphabetic substitution cipher\n",
    "2. polyalphabetic substitution cipher\n",
    "\n",
    "Assign the answer choice as an integer to the variable `q8` below."
   ]
  },
  {
   "cell_type": "code",
   "execution_count": null,
   "id": "bd9e8b9b",
   "metadata": {
    "id": "dc6b9635-29fb-49a1-87a4-3dd84d7652a7",
    "tags": [
     "otter_assign_solution_cell"
    ]
   },
   "outputs": [],
   "source": [
    "q8 = 2 # SOLUTION"
   ]
  },
  {
   "cell_type": "markdown",
   "id": "c6a7ca86",
   "metadata": {
    "deletable": false,
    "editable": false
   },
   "source": [
    "## Submission\n",
    "\n",
    "Make sure you have run all cells in your notebook in order before running the cell below, so that all images/graphs appear in the output. The cell below will generate a zip file for you to submit. **Please save before exporting!**\n",
    "\n",
    "Before exporting, SAVE your notebook, then RESTART AND RUN ALL CELLS. This will run the export cell. Make sure you submit the most recent copy by using the date-time stamp on the file."
   ]
  },
  {
   "cell_type": "code",
   "execution_count": null,
   "id": "bafb03bc",
   "metadata": {
    "deletable": false,
    "editable": false
   },
   "outputs": [],
   "source": [
    "# Save your notebook first, then run this cell to export your submission.\n",
    "grader.export(pdf=False)"
   ]
  },
  {
   "cell_type": "markdown",
   "id": "f1b08d91",
   "metadata": {},
   "source": [
    " "
   ]
  }
 ],
 "metadata": {
  "colab": {
   "provenance": []
  },
  "kernelspec": {
   "display_name": "Python 3 (ipykernel)",
   "language": "python",
   "name": "python3"
  },
  "language_info": {
   "codemirror_mode": {
    "name": "ipython",
    "version": 3
   },
   "file_extension": ".py",
   "mimetype": "text/x-python",
   "name": "python",
   "nbconvert_exporter": "python",
   "pygments_lexer": "ipython3",
   "version": "3.9.6"
  },
  "otter": {
   "tests": {
    "q1": {
     "name": "q1",
     "points": 1,
     "suites": [
      {
       "cases": [
        {
         "code": ">>> get_character('PLAYFIREXMBCDGHKNOQSTUVWZ', row=0, col=0) != None\nTrue",
         "failure_message": "Make sure you're using a return statement",
         "hidden": false,
         "locked": false,
         "points": 0
        },
        {
         "code": ">>> get_character('PLAYFIREXMBCDGHKNOQSTUVWZ', row=0, col=0)\n'P'",
         "hidden": false,
         "locked": false,
         "points": 0
        },
        {
         "code": ">>> get_character('PLAYFIREXMBCDGHKNOQSTUVWZ', row=1, col=4)\n'M'",
         "hidden": false,
         "locked": false,
         "points": 0.5
        },
        {
         "code": ">>> get_character('PLAYFIREXMBCDGHKNOQSTUVWZ', row=4, col=3)\n'W'",
         "hidden": false,
         "locked": false,
         "points": 0.5
        }
       ],
       "scored": true,
       "setup": "",
       "teardown": "",
       "type": "doctest"
      }
     ]
    },
    "q2a": {
     "name": "q2a",
     "points": 1,
     "suites": [
      {
       "cases": [
        {
         "code": ">>> get_row('PLAYFIREXMBCDGHKNOQSTUVWZ', 'P') != None\nTrue",
         "failure_message": "Make sure you're using a return statement",
         "hidden": false,
         "locked": false,
         "points": 0
        },
        {
         "code": ">>> get_row('PLAYFIREXMBCDGHKNOQSTUVWZ', 'P')\n0",
         "hidden": false,
         "locked": false,
         "points": 0
        },
        {
         "code": ">>> get_row('PLAYFIREXMBCDGHKNOQSTUVWZ', 'M')\n1",
         "hidden": false,
         "locked": false,
         "points": 0.5
        },
        {
         "code": ">>> get_row('PLAYFIREXMBCDGHKNOQSTUVWZ', 'W')\n4",
         "hidden": false,
         "locked": false,
         "points": 0.5
        }
       ],
       "scored": true,
       "setup": "",
       "teardown": "",
       "type": "doctest"
      }
     ]
    },
    "q2b": {
     "name": "q2b",
     "points": 1,
     "suites": [
      {
       "cases": [
        {
         "code": ">>> get_col('PLAYFIREXMBCDGHKNOQSTUVWZ', 'P') != None\nTrue",
         "failure_message": "Make sure you're using a return statement",
         "hidden": false,
         "locked": false,
         "points": 0
        },
        {
         "code": ">>> get_col('PLAYFIREXMBCDGHKNOQSTUVWZ', 'P')\n0",
         "hidden": false,
         "locked": false,
         "points": 0
        },
        {
         "code": ">>> get_col('PLAYFIREXMBCDGHKNOQSTUVWZ', 'M')\n4",
         "hidden": false,
         "locked": false,
         "points": 0.5
        },
        {
         "code": ">>> get_col('PLAYFIREXMBCDGHKNOQSTUVWZ', 'W')\n3",
         "hidden": false,
         "locked": false,
         "points": 0.5
        }
       ],
       "scored": true,
       "setup": "",
       "teardown": "",
       "type": "doctest"
      }
     ]
    },
    "q3": {
     "name": "q3",
     "points": 2,
     "suites": [
      {
       "cases": [
        {
         "code": ">>> keygen() != None\nTrue",
         "failure_message": "Make sure you're using a return statement",
         "hidden": false,
         "locked": false,
         "points": 0
        },
        {
         "code": ">>> keygen()\n'ABCDEFGHIKLMNOPQRSTUVWXYZ'",
         "hidden": false,
         "locked": false,
         "points": 0
        },
        {
         "code": ">>> keygen('Polybius Cipher')\n'POLYBIUSCHERADFGKMNQTVWXZ'",
         "hidden": false,
         "locked": false,
         "points": 0
        },
        {
         "code": ">>> keygen( keyword = 'Long Jump' )\n'LONGIUMPABCDEFHKQRSTVWXYZ'",
         "hidden": false,
         "locked": false,
         "points": 1
        },
        {
         "code": ">>> keygen( keyword = 'Ultra the Unicorn Jumps High' )\n'ULTRAHENICOMPSGBDFKQVWXYZ'",
         "hidden": true,
         "locked": false,
         "points": 1
        },
        {
         "code": ">>> keygen( 'catalyst' )\n'CATLYSBDEFGHIKMNOPQRUVWXZ'",
         "hidden": true,
         "locked": false,
         "points": 0
        },
        {
         "code": ">>> keygen( 'Jane Austen' )\n'IANEUSTBCDFGHKLMOPQRVWXYZ'",
         "hidden": true,
         "locked": false,
         "points": 0
        }
       ],
       "scored": true,
       "setup": "",
       "teardown": "",
       "type": "doctest"
      }
     ]
    },
    "q4": {
     "name": "q4",
     "points": 3,
     "suites": [
      {
       "cases": [
        {
         "code": ">>> playfair_textclean( 'HEY' ) != None\nTrue",
         "failure_message": "Make sure you're using a return statement",
         "hidden": false,
         "locked": false,
         "points": 0
        },
        {
         "code": ">>> playfair_textclean( 'HEY' )\n'HEYX'",
         "hidden": false,
         "locked": false,
         "points": 0
        },
        {
         "code": ">>> playfair_textclean( 'Jump' )\n'IUMP'",
         "hidden": false,
         "locked": false,
         "points": 0
        },
        {
         "code": ">>> playfair_textclean( 'Hide the gold in the tree stump' )\n'HIDETHEGOLDINTHETREXESTUMP'",
         "hidden": false,
         "locked": false,
         "points": 0
        },
        {
         "code": ">>> playfair_textclean( 'mississippi' )\n'MISXSISXSIPXPI'",
         "hidden": false,
         "locked": false,
         "points": 1
        },
        {
         "code": ">>> playfair_textclean('catalyst')\n'CATALYST'",
         "hidden": true,
         "locked": false,
         "points": 1
        },
        {
         "code": ">>> playfair_textclean('Jane Austen')\n'IANEAUSTEN'",
         "hidden": true,
         "locked": false,
         "points": 1
        }
       ],
       "scored": true,
       "setup": "",
       "teardown": "",
       "type": "doctest"
      }
     ]
    },
    "q5": {
     "name": "q5",
     "points": 6,
     "suites": [
      {
       "cases": [
        {
         "code": ">>> playfair('playfair example', 'Hide the gold in the tree stump' ) != None\nTrue",
         "failure_message": "Make sure you're using a return statement",
         "hidden": false,
         "locked": false,
         "points": 0
        },
        {
         "code": ">>> playfair('playfair example', 'BM OD ZB XD NA BE KU DM UI XM MO UV IF', False ) != None\nTrue",
         "failure_message": "Make sure you're using a return statement",
         "hidden": false,
         "locked": false,
         "points": 0
        },
        {
         "code": ">>> playfair('playfair example', 'Hide the gold in the tree stump' )\n'BMODZ BXDNA BEKUD MUIXM MOUVI F'",
         "hidden": false,
         "locked": false,
         "points": 1
        },
        {
         "code": ">>> playfair('playfair example', 'BM OD ZB XD NA BE KU DM UI XM MO UV IF', False )\n'HIDET HEGOL DINTH ETREX ESTUM P'",
         "hidden": false,
         "locked": false,
         "points": 1
        },
        {
         "code": ">>> playfair('catalyst', 'Accept the greater challenge HHH' )\n'TALSW DAISK QFTLF QAGTY EKUNB KKVKV'",
         "hidden": true,
         "locked": false,
         "points": 2
        },
        {
         "code": ">>> playfair('catalyst', 'TALSW DAISK QFTLF QAGTY EKUNB KKVKV', False )\n'ACCEP TTHEG REATE RCHAL LENGE HHXHX'",
         "hidden": true,
         "locked": false,
         "points": 2
        }
       ],
       "scored": true,
       "setup": "",
       "teardown": "",
       "type": "doctest"
      }
     ]
    },
    "q7": {
     "name": "q7",
     "points": 2,
     "suites": [
      {
       "cases": [
        {
         "code": ">>> index_of_coincidence('test message') != None\nTrue",
         "failure_message": "Make sure you're using a return statement",
         "hidden": false,
         "locked": false,
         "points": 0
        },
        {
         "code": ">>> round(index_of_coincidence('test message'), 5) == round(index_of_coincidence('TESTMESSAGE'), 5)\nTrue",
         "failure_message": "Make sure you are cleaning your message before computing the IC",
         "hidden": false,
         "locked": false,
         "points": 0
        },
        {
         "code": ">>> round(index_of_coincidence('test message'), 5)\n0.12727",
         "hidden": false,
         "locked": false,
         "points": 1
        },
        {
         "code": ">>> round(index_of_coincidence(ciphertext), 5)\n0.05051",
         "hidden": true,
         "locked": false,
         "points": 1
        }
       ],
       "scored": true,
       "setup": "",
       "teardown": "",
       "type": "doctest"
      }
     ]
    },
    "q8": {
     "name": "q8",
     "points": 1,
     "suites": [
      {
       "cases": [
        {
         "code": ">>> q8\n2",
         "hidden": true,
         "locked": false,
         "points": 1
        }
       ],
       "scored": true,
       "setup": "",
       "teardown": "",
       "type": "doctest"
      }
     ]
    }
   }
  }
 },
 "nbformat": 4,
 "nbformat_minor": 5
}

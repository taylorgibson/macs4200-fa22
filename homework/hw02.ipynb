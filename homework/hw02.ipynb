{
 "cells": [
  {
   "cell_type": "raw",
   "id": "eeba95dd-adf9-4409-9562-c9236b1f92ad",
   "metadata": {},
   "source": [
    "# ASSIGNMENT CONFIG\n",
    "check_all_cell: false\n",
    "export_cell:\n",
    "  pdf: false\n",
    "  force_save: false\n",
    "generate: true\n",
    "files: \n",
    "    - hw01.txt"
   ]
  },
  {
   "cell_type": "markdown",
   "id": "13c843fe-8d34-414e-96f4-78c58156bf43",
   "metadata": {},
   "source": [
    "# Homework 02: Monoalphabetic Ciphers and Cryptanalysis\n",
    "\n",
    "At this point, we know enough about monoalphabetic substitution ciphers and how to analyze them to complete a homework to showcase you also know enough Python to program them. If you've been keeping up with the activities for each lesson, this homework should not take you long at all to complete!"
   ]
  },
  {
   "cell_type": "markdown",
   "id": "174dcf20-3e09-49d5-8430-34471538216c",
   "metadata": {},
   "source": [
    "## Part 1: Programming With Loops, Functions, and Conditional Branches"
   ]
  },
  {
   "cell_type": "raw",
   "id": "759fc45e-0706-4015-9a82-4a740397cae8",
   "metadata": {},
   "source": [
    "# BEGIN QUESTION\n",
    "name: q1_1\n",
    "points: 1"
   ]
  },
  {
   "cell_type": "markdown",
   "id": "120000d8-26e7-418e-94d2-79891404b6e3",
   "metadata": {},
   "source": [
    "### Question 1.1: Triangular Numbers\n",
    "\n",
    "A *triangular number*, $T_n$ is a number obtained by adding all positive integers less than or equal to $n$. For example:\n",
    "  * $T_1 = 1$ \n",
    "  * $T_2 = 3 = 1 + 2$\n",
    "  * $T_3 = 6 = 1 + 2 + 3$\n",
    "  * $T_4 = 10 = 1 + 2 + 3 + 4$\n",
    "\n",
    "are all triangular numbers.\n",
    "\n",
    "In the code cell below write a function named `triangular_number` that generates triangular numbers and **returns** them as integers. The function only needs to work for non-negative integer inputs (0 or above).\n",
    "\n",
    "**Hint:** A loop should make short work of this!"
   ]
  },
  {
   "cell_type": "raw",
   "id": "722ae637-8ed9-4e69-abfd-8af0cd0a2624",
   "metadata": {},
   "source": [
    "# BEGIN SOLUTION"
   ]
  },
  {
   "cell_type": "code",
   "execution_count": 1,
   "id": "96562cb2-99b4-463b-bbba-9aa66158f9ce",
   "metadata": {},
   "outputs": [],
   "source": [
    "def triangular_number(n):\n",
    "    # YOUR CODE GOES BELOW THIS LINE\n",
    "    \n",
    "    # BEGIN SOLUTION NO PROMPT\n",
    "    sum = 0\n",
    "    for i in range(n+1):\n",
    "        sum += i\n",
    "    return sum\n",
    "    # END SOLUTION"
   ]
  },
  {
   "cell_type": "raw",
   "id": "a4726ba4-9f6f-423f-956f-81d4deaaa7d0",
   "metadata": {},
   "source": [
    "# END SOLUTION"
   ]
  },
  {
   "cell_type": "raw",
   "id": "14f2e0f5-ceb0-4d30-8811-d379abd50914",
   "metadata": {},
   "source": [
    "# BEGIN TESTS"
   ]
  },
  {
   "cell_type": "code",
   "execution_count": 2,
   "id": "adeb584f-f7d6-49f2-b5b7-f3c9b7dc1f31",
   "metadata": {},
   "outputs": [
    {
     "data": {
      "text/plain": [
       "True"
      ]
     },
     "execution_count": 2,
     "metadata": {},
     "output_type": "execute_result"
    }
   ],
   "source": [
    "\"\"\" # BEGIN TEST CONFIG\n",
    "failure_message: Make sure you are using a return statement in your function\n",
    "\"\"\" # END TEST CONFIG\n",
    "triangular_number(0) != None"
   ]
  },
  {
   "cell_type": "code",
   "execution_count": 3,
   "id": "5f7d4aa5-0a67-4e70-b635-d058f4322278",
   "metadata": {},
   "outputs": [
    {
     "data": {
      "text/plain": [
       "0"
      ]
     },
     "execution_count": 3,
     "metadata": {},
     "output_type": "execute_result"
    }
   ],
   "source": [
    "triangular_number(0)"
   ]
  },
  {
   "cell_type": "code",
   "execution_count": 4,
   "id": "c1f367b0-1e5e-433a-a38a-2439b92fa7ce",
   "metadata": {},
   "outputs": [
    {
     "data": {
      "text/plain": [
       "1"
      ]
     },
     "execution_count": 4,
     "metadata": {},
     "output_type": "execute_result"
    }
   ],
   "source": [
    "triangular_number(1)"
   ]
  },
  {
   "cell_type": "code",
   "execution_count": 5,
   "id": "02c0f771-52b2-4cb2-92f3-3dbcbe5bfcd6",
   "metadata": {},
   "outputs": [
    {
     "data": {
      "text/plain": [
       "6"
      ]
     },
     "execution_count": 5,
     "metadata": {},
     "output_type": "execute_result"
    }
   ],
   "source": [
    "triangular_number(3)"
   ]
  },
  {
   "cell_type": "code",
   "execution_count": 6,
   "id": "807e2317-7e8f-4d7e-b5c5-22dec44d9651",
   "metadata": {},
   "outputs": [
    {
     "data": {
      "text/plain": [
       "55"
      ]
     },
     "execution_count": 6,
     "metadata": {},
     "output_type": "execute_result"
    }
   ],
   "source": [
    "triangular_number(10)"
   ]
  },
  {
   "cell_type": "raw",
   "id": "22b9e658-194c-4d58-984b-5b32439ed528",
   "metadata": {},
   "source": [
    "# END TESTS"
   ]
  },
  {
   "cell_type": "raw",
   "id": "f6e2a30b-0e23-4859-8d0b-549a25ea1523",
   "metadata": {},
   "source": [
    "# END QUESTION"
   ]
  },
  {
   "cell_type": "raw",
   "id": "15dff777-a8ed-402b-8ff5-0065c6d107e6",
   "metadata": {},
   "source": [
    "# BEGIN QUESTION\n",
    "name: q1_2\n",
    "points: 1"
   ]
  },
  {
   "cell_type": "markdown",
   "id": "9425e901-3c4d-4cf8-82f0-eb0d9f7617be",
   "metadata": {},
   "source": [
    "### Question 1.2: Conditional Branches\n",
    "\n",
    "In the code cell below, write a function named `integer_compare()` that compares two integer values and returns a string depending on their relative size.\n",
    "\n",
    "The string the function should **return** should be:\n",
    "  * `'x is larger than y'` if $x \\gt y$\n",
    "  * `'y is larger than x'` if $x \\lt y$ \n",
    "  * `'x and y are equal'` if $x = y$"
   ]
  },
  {
   "cell_type": "raw",
   "id": "0f8c9c90-1994-46d8-a1b4-9260ecf67155",
   "metadata": {},
   "source": [
    "# BEGIN SOLUTION"
   ]
  },
  {
   "cell_type": "code",
   "execution_count": 7,
   "id": "c42852d0-1d50-4aa4-8e64-826e0fe47442",
   "metadata": {},
   "outputs": [],
   "source": [
    "def integer_compare(x, y):\n",
    "    # YOUR CODE GOES BELOW THIS LINE\n",
    "    \n",
    "    # BEGIN SOLUTION NO PROMPT\n",
    "    if x > y: \n",
    "        return 'x is larger than y'\n",
    "    elif y > x:\n",
    "        return 'y is larger than x'\n",
    "    elif x == y:\n",
    "        return 'x and y are equal'\n",
    "    # END SOLUTION"
   ]
  },
  {
   "cell_type": "raw",
   "id": "73524640-49a8-459c-8086-e0f6d0d92ad9",
   "metadata": {},
   "source": [
    "# END SOLUTION"
   ]
  },
  {
   "cell_type": "code",
   "execution_count": 8,
   "id": "52a08809-fd97-4919-9f44-9204fc95b537",
   "metadata": {},
   "outputs": [
    {
     "name": "stdout",
     "output_type": "stream",
     "text": [
      "y is larger than x\n"
     ]
    }
   ],
   "source": [
    "# try out your code here\n",
    "print( integer_compare(3, 7) )"
   ]
  },
  {
   "cell_type": "raw",
   "id": "19da714d-10ad-4a35-9eb8-e5c7d81316d5",
   "metadata": {},
   "source": [
    "# BEGIN TESTS"
   ]
  },
  {
   "cell_type": "code",
   "execution_count": 9,
   "id": "4e2ccf45-f4dc-4f6a-89f5-3d6ab96c7d68",
   "metadata": {},
   "outputs": [
    {
     "data": {
      "text/plain": [
       "'y is larger than x'"
      ]
     },
     "execution_count": 9,
     "metadata": {},
     "output_type": "execute_result"
    }
   ],
   "source": [
    "integer_compare(3, 7)"
   ]
  },
  {
   "cell_type": "code",
   "execution_count": 10,
   "id": "b08575e5-c124-490d-9f89-87dd8a99308f",
   "metadata": {},
   "outputs": [
    {
     "data": {
      "text/plain": [
       "'x is larger than y'"
      ]
     },
     "execution_count": 10,
     "metadata": {},
     "output_type": "execute_result"
    }
   ],
   "source": [
    "integer_compare(5, 1)"
   ]
  },
  {
   "cell_type": "code",
   "execution_count": 11,
   "id": "cdd535ee-f7b6-452e-aa12-769e1c29b51b",
   "metadata": {},
   "outputs": [
    {
     "data": {
      "text/plain": [
       "'x and y are equal'"
      ]
     },
     "execution_count": 11,
     "metadata": {},
     "output_type": "execute_result"
    }
   ],
   "source": [
    "integer_compare(4, 4)"
   ]
  },
  {
   "cell_type": "raw",
   "id": "0939955d-0a56-468d-bbff-bef284c9ee0c",
   "metadata": {},
   "source": [
    "# END TESTS"
   ]
  },
  {
   "cell_type": "raw",
   "id": "5bcaa2d4-9446-45f3-af16-c68b1e1ce175",
   "metadata": {},
   "source": [
    "# END QUESTION"
   ]
  },
  {
   "cell_type": "markdown",
   "id": "c2c55b25-4ade-4a0f-acae-e441b3b0c2cc",
   "metadata": {},
   "source": [
    "## Part Two: Function Checkpoint"
   ]
  },
  {
   "cell_type": "markdown",
   "id": "983cc253-6f77-4ed3-bfba-4f81fc7006b5",
   "metadata": {},
   "source": [
    "You've been asked to write several functions throughout the course so far. Please use that work to quickly provide code for the following functions."
   ]
  },
  {
   "cell_type": "raw",
   "id": "75d15b45-4d62-46fa-a2d5-4920dd42f706",
   "metadata": {},
   "source": [
    "# BEGIN QUESTION\n",
    "name: q2_1\n",
    "points: 1"
   ]
  },
  {
   "cell_type": "markdown",
   "id": "985be606-03a0-434b-9265-f0deb1449362",
   "metadata": {},
   "source": [
    "### Question 2.1: `text_clean`\n",
    "\n",
    "Text clean is the function we use to prepare text for enciphering / deciphering. As a reminder, this function takes in a string `text`, makes all of the characters uppercase,  then only returns those characters that are also in the `LETTERS` string. By default, `LETTERS` only contains the 26 uppercase English letters but this value could be overridden by providing an argument to the `LETTERS` parameter."
   ]
  },
  {
   "cell_type": "raw",
   "id": "d7cc8c60-9aef-4bb0-95fb-2504e08ef627",
   "metadata": {},
   "source": [
    "# BEGIN SOLUTION"
   ]
  },
  {
   "cell_type": "code",
   "execution_count": 12,
   "id": "5cb7365e-7389-41a8-99ab-7dbfe2dfd922",
   "metadata": {},
   "outputs": [],
   "source": [
    "def text_clean( text, LETTERS = 'ABCDEFGHIJKLMNOPQRSTUVWXYZ'):\n",
    "    \"\"\"\n",
    "    Arguments:\n",
    "        text (str): a piece of text for cleaning\n",
    "        LETTERS (str, optional): defines the alphabet of allowable characters\n",
    "    Returns:\n",
    "        (str): text with only the characters also found in LETTERS\n",
    "               lower-case letters in text will be made upper-case  \n",
    "    \"\"\"\n",
    "    # YOUR CODE GOES BELOW THIS LINE\n",
    "    \n",
    "    # BEGIN SOLUTION NO PROMPT\n",
    "    cleaned_text = '' \n",
    "    \n",
    "    for character in text: \n",
    "        if character.upper() in LETTERS:\n",
    "            cleaned_text += character.upper()\n",
    "    \n",
    "    return cleaned_text \n",
    "    # END SOLUTION"
   ]
  },
  {
   "cell_type": "raw",
   "id": "f6aace46-34bc-485f-bb5a-8a64e6b34071",
   "metadata": {},
   "source": [
    "# END SOLUTION"
   ]
  },
  {
   "cell_type": "raw",
   "id": "420827bd-6ad1-4ae9-8d92-45a702b4b4d1",
   "metadata": {},
   "source": [
    "# BEGIN TESTS"
   ]
  },
  {
   "cell_type": "code",
   "execution_count": 13,
   "id": "4916803d-993b-4bf6-844e-84267062b065",
   "metadata": {},
   "outputs": [
    {
     "data": {
      "text/plain": [
       "'HELLO'"
      ]
     },
     "execution_count": 13,
     "metadata": {},
     "output_type": "execute_result"
    }
   ],
   "source": [
    "\"\"\" # BEGIN TEST CONFIG\n",
    "failure_message: Make sure your output is uppercase letters only.\n",
    "\"\"\" # END TEST CONFIG\n",
    "text_clean('heLlO')"
   ]
  },
  {
   "cell_type": "code",
   "execution_count": 14,
   "id": "e5fb8927-20d9-4612-a63b-9dd5d2ce064a",
   "metadata": {},
   "outputs": [
    {
     "data": {
      "text/plain": [
       "'THISISAMSSAGE'"
      ]
     },
     "execution_count": 14,
     "metadata": {},
     "output_type": "execute_result"
    }
   ],
   "source": [
    "\"\"\" # BEGIN TEST CONFIG\n",
    "failure_message: non letter characters (digits and punctuation) should be removed\n",
    "\"\"\" # END TEST CONFIG\n",
    "text_clean('this is a m3ssage!?')"
   ]
  },
  {
   "cell_type": "code",
   "execution_count": 15,
   "id": "7783ff12-69cd-4b3d-9e53-6a667b10c171",
   "metadata": {},
   "outputs": [
    {
     "data": {
      "text/plain": [
       "'HE'"
      ]
     },
     "execution_count": 15,
     "metadata": {},
     "output_type": "execute_result"
    }
   ],
   "source": [
    "\"\"\" # BEGIN TEST CONFIG\n",
    "failure_message: Only letters specified in the LETTERS string should remain in the output\n",
    "\"\"\" # END TEST CONFIG\n",
    "text_clean('hello', LETTERS='ABCDEFGH')"
   ]
  },
  {
   "cell_type": "raw",
   "id": "a98d2b23-76a4-4f99-a028-2a1492c61213",
   "metadata": {},
   "source": [
    "# END TESTS"
   ]
  },
  {
   "cell_type": "raw",
   "id": "4ae24862-b0e8-4b05-942e-f2eb21a3a9fe",
   "metadata": {},
   "source": [
    "# END QUESTION"
   ]
  },
  {
   "cell_type": "raw",
   "id": "a99f298e-99b3-416a-882b-04485af45f17",
   "metadata": {},
   "source": [
    "# BEGIN QUESTION\n",
    "name: q2_2\n",
    "points: 1"
   ]
  },
  {
   "cell_type": "markdown",
   "id": "14feb753-e7e3-4aeb-a169-cb0727abdb6d",
   "metadata": {},
   "source": [
    "### Question 2.2: `text_block`\n",
    "\n",
    "This function should take in a string and return the same exact string, only grouped into blocks of `size` characters. By default it should be blocks of 5 characters, but this could be overridden by passing a different integer argument to the parameter `size`.\n",
    "\n",
    "You can assume that any input to this function is already \"clean\" so you don't need to clean `text` against a `LETTERS` string inside this function."
   ]
  },
  {
   "cell_type": "raw",
   "id": "eb97092f-2aca-4fd9-af9e-eef3f81963ad",
   "metadata": {},
   "source": [
    "# BEGIN SOLUTION"
   ]
  },
  {
   "cell_type": "code",
   "execution_count": 16,
   "id": "70ca5c20-ccc1-4c7a-ad4e-d6b5739d559e",
   "metadata": {},
   "outputs": [],
   "source": [
    "def text_block( text, size = 5 ):\n",
    "    \"\"\"\n",
    "    Arguments:\n",
    "        text (str): text to block\n",
    "        size (int, optional): # of characters in a block\n",
    "    Returns:\n",
    "        (str): text blocked into groups of specified size\n",
    "    \"\"\"\n",
    "    # YOUR CODE GOES BELOW THIS LINE\n",
    "    \n",
    "    # BEGIN SOLUTION NO PROMPT\n",
    "    blocked_text = '' \n",
    "    \n",
    "    for character in text: \n",
    "        if len(blocked_text.replace(' ', '') ) % size == 0 and len(blocked_text) != 0:\n",
    "            blocked_text += ' '\n",
    "\n",
    "        blocked_text += character\n",
    "    \n",
    "    return blocked_text\n",
    "    # END SOLUTION"
   ]
  },
  {
   "cell_type": "raw",
   "id": "da358589-3209-4d17-9c2c-f1ea1a1ec0bd",
   "metadata": {},
   "source": [
    "# END SOLUTION"
   ]
  },
  {
   "cell_type": "raw",
   "id": "4b2cb85e-323f-486b-9be2-18c9e0c7867d",
   "metadata": {},
   "source": [
    "# BEGIN TESTS"
   ]
  },
  {
   "cell_type": "code",
   "execution_count": 17,
   "id": "8022a2b3-248a-4d4e-839b-c4f06b5f16e7",
   "metadata": {},
   "outputs": [
    {
     "data": {
      "text/plain": [
       "'TESTM ESSAG E'"
      ]
     },
     "execution_count": 17,
     "metadata": {},
     "output_type": "execute_result"
    }
   ],
   "source": [
    "\"\"\" # BEGIN TEST CONFIG\n",
    "failure_message: Check to make sure that you meet the basic specifications of this function\n",
    "\"\"\" # END TEST CONFIG\n",
    "text_block('TESTMESSAGE')"
   ]
  },
  {
   "cell_type": "code",
   "execution_count": 18,
   "id": "3b8b636b-2207-411d-b691-0a2f6a4d7834",
   "metadata": {},
   "outputs": [
    {
     "data": {
      "text/plain": [
       "True"
      ]
     },
     "execution_count": 18,
     "metadata": {},
     "output_type": "execute_result"
    }
   ],
   "source": [
    "\"\"\" # BEGIN TEST CONFIG\n",
    "failure_message: If there are a (multiple of size) characters, the message should not end in a space.\n",
    "\"\"\" # END TEST CONFIG\n",
    "text_block('0123456789') != '01234 56789 '"
   ]
  },
  {
   "cell_type": "code",
   "execution_count": 19,
   "id": "c62545a1-96cc-429c-bbdd-9d84884ba21b",
   "metadata": {},
   "outputs": [
    {
     "data": {
      "text/plain": [
       "'0123 45'"
      ]
     },
     "execution_count": 19,
     "metadata": {},
     "output_type": "execute_result"
    }
   ],
   "source": [
    "\"\"\" # BEGIN TEST CONFIG\n",
    "failure_message: Make sure you are using the size parameter to produce your blocks\n",
    "\"\"\" # END TEST CONFIG\n",
    "text_block('012345', size=4)"
   ]
  },
  {
   "cell_type": "code",
   "execution_count": 20,
   "id": "248fd611-b5ae-40bc-b419-7a2db482a6dc",
   "metadata": {},
   "outputs": [
    {
     "data": {
      "text/plain": [
       "False"
      ]
     },
     "execution_count": 20,
     "metadata": {},
     "output_type": "execute_result"
    }
   ],
   "source": [
    "\"\"\" # BEGIN TEST CONFIG\n",
    "failure_message: If there are a (multiple of size) characters, the message should not end in a space.\n",
    "\"\"\" # END TEST CONFIG\n",
    "text_block('01234567', size=4) != '0123 4567'"
   ]
  },
  {
   "cell_type": "raw",
   "id": "2d35f2c4-bd78-48c5-909d-247336830987",
   "metadata": {},
   "source": [
    "# END TESTS"
   ]
  },
  {
   "cell_type": "raw",
   "id": "fc2a322c-a9ff-4e60-9350-91a16448339b",
   "metadata": {},
   "source": [
    "# END QUESTION"
   ]
  },
  {
   "cell_type": "raw",
   "id": "44d5a208-6d60-49b5-ac24-6a744c1524e9",
   "metadata": {},
   "source": [
    "# BEGIN QUESTION\n",
    "name: q2_3\n",
    "points: 1"
   ]
  },
  {
   "cell_type": "markdown",
   "id": "73932e2b-da9f-4d9a-b8f0-dddb7e6fea16",
   "metadata": {},
   "source": [
    "### Question 2.3: `Caesar`\n",
    "\n",
    "The `caesar` function takes in a key and message and returns the enciphered or deciphered version of that message depending on if the parameter `encipher` is set to `True` or `False`. This function should use `text_clean` to clean the message before attempting to encipher or decipher the message.\n",
    "\n",
    "Strings returned that are ciphertext should only contain those characters specified in `LETTERS` and should be blocked into groups of 5 characters.\n",
    "\n",
    "Strings returned that are plaintext should only contain those characters specified in `LETTERS`, but lowercase, and should **not** be blocked into groups."
   ]
  },
  {
   "cell_type": "raw",
   "id": "b6366995-9258-4b9c-82a3-7661ba21d2ba",
   "metadata": {},
   "source": [
    "# BEGIN SOLUTION"
   ]
  },
  {
   "cell_type": "code",
   "execution_count": 21,
   "id": "903ec883-06d7-43f1-a5d3-f97db3b8fb79",
   "metadata": {},
   "outputs": [],
   "source": [
    "def caesar(key, message, encipher=True, LETTERS='ABCDEFGHIJKLMNOPQRSTUVWXYZ'):\n",
    "    \"\"\"\n",
    "    Arguments:\n",
    "        key (int): an integer used as the key to encipher the message\n",
    "        message (str): the message to encipher\n",
    "        encipher (bool, optional): True --> encipher the message, False --> decipher\n",
    "        LETTERS (str, optional): defines the alphabet of allowable characters\n",
    "    Returns:\n",
    "        (str): encrypted / decrypted version of message\n",
    "    \"\"\"\n",
    "    # YOUR CODE GOES BELOW THIS LINE\n",
    "    \n",
    "    # BEGIN SOLUTION NO PROMPT\n",
    "    message = text_clean(message, LETTERS)\n",
    "    output = '' \n",
    "    \n",
    "    if encipher == True:\n",
    "        for plaintext_character in message:\n",
    "            plaintext_numerical = LETTERS.find(plaintext_character)\n",
    "            ciphertext_numerical = (plaintext_numerical + key) % len(LETTERS)\n",
    "            ciphertext_character = LETTERS[ ciphertext_numerical ]\n",
    "            output += ciphertext_character\n",
    "        return text_block( output )\n",
    "    else:\n",
    "        for ciphertext_character in message:\n",
    "            ciphertext_numerical = LETTERS.find( ciphertext_character )\n",
    "            plaintext_numerical = (ciphertext_numerical - key) % len(LETTERS)\n",
    "            plaintext_character = LETTERS[ plaintext_numerical ]\n",
    "            output += plaintext_character   \n",
    "        return output.lower()\n",
    "    # END SOLUTION"
   ]
  },
  {
   "cell_type": "raw",
   "id": "d9226dcc-314e-4aae-9f18-486b3cc9d11f",
   "metadata": {},
   "source": [
    "# END SOLUTION"
   ]
  },
  {
   "cell_type": "raw",
   "id": "af0c9c6e-6acb-457d-9233-1de64e4b7d0e",
   "metadata": {},
   "source": [
    "# BEGIN TESTS"
   ]
  },
  {
   "cell_type": "code",
   "execution_count": 22,
   "id": "095832f3-a274-4885-a425-67ea0bac8766",
   "metadata": {},
   "outputs": [
    {
     "data": {
      "text/plain": [
       "True"
      ]
     },
     "execution_count": 22,
     "metadata": {},
     "output_type": "execute_result"
    }
   ],
   "source": [
    "\"\"\" # BEGIN TEST CONFIG\n",
    "failure_message: Make sure you clean the text before encryption / decryption\n",
    "\"\"\" # END TEST CONFIG\n",
    "caesar(3, 'hello!') == caesar(3, 'HELLO')"
   ]
  },
  {
   "cell_type": "code",
   "execution_count": 23,
   "id": "c1280c8d-8d3b-4b73-810a-4bb3e2a83bc9",
   "metadata": {},
   "outputs": [
    {
     "data": {
      "text/plain": [
       "2"
      ]
     },
     "execution_count": 23,
     "metadata": {},
     "output_type": "execute_result"
    }
   ],
   "source": [
    "\"\"\" # BEGIN TEST CONFIG\n",
    "failure_message: Make sure you are using the LETTERS argument when cleaning text\n",
    "\"\"\" # END TEST CONFIG\n",
    "len(caesar(5, 'hello!', LETTERS='ABCDEFGH'))"
   ]
  },
  {
   "cell_type": "code",
   "execution_count": 24,
   "id": "5761cd49-a469-4594-a8c5-970d51d43df8",
   "metadata": {},
   "outputs": [
    {
     "data": {
      "text/plain": [
       "13"
      ]
     },
     "execution_count": 24,
     "metadata": {},
     "output_type": "execute_result"
    }
   ],
   "source": [
    "\"\"\" # BEGIN TEST CONFIG\n",
    "failure_message: Make sure you are blocking the text when encrypting\n",
    "\"\"\" # END TEST CONFIG\n",
    "len(caesar(17, 'test message'))"
   ]
  },
  {
   "cell_type": "code",
   "execution_count": 25,
   "id": "f5b438b2-5bc7-4619-871d-b59f564971c6",
   "metadata": {},
   "outputs": [
    {
     "data": {
      "text/plain": [
       "'HSGHA SGGOU S'"
      ]
     },
     "execution_count": 25,
     "metadata": {},
     "output_type": "execute_result"
    }
   ],
   "source": [
    "\"\"\" # BEGIN TEST CONFIG\n",
    "failure_message: Not encrypting correctly with default settings\n",
    "\"\"\" # END TEST CONFIG\n",
    "caesar(14, 'test message')"
   ]
  },
  {
   "cell_type": "code",
   "execution_count": 26,
   "id": "006b60b1-3d67-48ef-aad8-c949f423c8d5",
   "metadata": {},
   "outputs": [
    {
     "data": {
      "text/plain": [
       "'testmessage'"
      ]
     },
     "execution_count": 26,
     "metadata": {},
     "output_type": "execute_result"
    }
   ],
   "source": [
    "\"\"\" # BEGIN TEST CONFIG\n",
    "failure_message: Not decrypting correctly with default settings\n",
    "\"\"\" # END TEST CONFIG\n",
    "caesar(14, 'HSGHA SGGOU S', encipher=False)"
   ]
  },
  {
   "cell_type": "code",
   "execution_count": 27,
   "id": "7e700867-6e79-4fed-a3fa-d5ecc468c53a",
   "metadata": {},
   "outputs": [
    {
     "data": {
      "text/plain": [
       "'GFD'"
      ]
     },
     "execution_count": 27,
     "metadata": {},
     "output_type": "execute_result"
    }
   ],
   "source": [
    "\"\"\" # BEGIN TEST CONFIG\n",
    "failure_message: Not encrypting correctly with non-default LETTERS\n",
    "\"\"\" # END TEST CONFIG\n",
    "caesar(5, 'bag', LETTERS='ABCDEFGH')"
   ]
  },
  {
   "cell_type": "code",
   "execution_count": 28,
   "id": "d52cd0af-3162-4dde-acc4-eacb16e706fd",
   "metadata": {},
   "outputs": [
    {
     "data": {
      "text/plain": [
       "'bag'"
      ]
     },
     "execution_count": 28,
     "metadata": {},
     "output_type": "execute_result"
    }
   ],
   "source": [
    "\"\"\" # BEGIN TEST CONFIG\n",
    "failure_message: Not decrypting correctly with non-default LETTERS\n",
    "\"\"\" # END TEST CONFIG\n",
    "caesar(5, 'GFD', encipher=False, LETTERS='ABCDEFGH')"
   ]
  },
  {
   "cell_type": "raw",
   "id": "f769534e-8b72-4bf4-a763-5d3e4340b768",
   "metadata": {},
   "source": [
    "# END TESTS"
   ]
  },
  {
   "cell_type": "raw",
   "id": "e5f45bfb-055a-4de8-b297-af54812c29d9",
   "metadata": {},
   "source": [
    "# END QUESTION"
   ]
  },
  {
   "cell_type": "raw",
   "id": "79fdbf87-093d-4e01-9d85-f79dcb4c92b6",
   "metadata": {},
   "source": [
    "# BEGIN QUESTION\n",
    "name: q2_4\n",
    "points: 1"
   ]
  },
  {
   "cell_type": "markdown",
   "id": "482c0b09-30c5-40d1-8c86-50badec16002",
   "metadata": {
    "tags": []
   },
   "source": [
    "### Question 2.4: `affine`\n",
    "\n",
    "The `affine` function takes in a multiplicative key, an additive key, and message and returns the affine enciphered or deciphered version of that message depending on if the parameter `encipher` is set to `True` or `False`. This function should use `text_clean` to clean the message before attempting to encipher or decipher the message. The decipher process will need to compute a multiplicative inverse in the mod of the length of LETTERS. You can use the provided `multiplicative_inverse` function to perform this step.\n",
    "\n",
    "Strings returned that are ciphertext should only contain those characters specified in `LETTERS` and should be blocked into groups of 5 characters.\n",
    "\n",
    "Strings returned that are plaintext should only contain those characters specified in `LETTERS`, but lowercase, and should **not** be blocked into groups."
   ]
  },
  {
   "cell_type": "code",
   "execution_count": 29,
   "id": "d6edfcfd-a00c-4efd-89e8-c7695ca6983f",
   "metadata": {},
   "outputs": [],
   "source": [
    "def multiplicative_inverse(n, m):\n",
    "    row1 = [m, 1, 0] \n",
    "    row2 = [n, 0, 1] \n",
    "    \n",
    "    while row2[0] != 1: \n",
    "        k = row1[0] // row2[0] \n",
    "\n",
    "        row3 = [ row1[0] - k*row2[0], row1[1] - k*row2[1], row1[2] - k*row2[2] ] \n",
    "\n",
    "        row1 = row2 \n",
    "        row2 = row3 \n",
    "    \n",
    "    inverse = row2[2] % m \n",
    "    \n",
    "    return inverse"
   ]
  },
  {
   "cell_type": "raw",
   "id": "f412d1d0-a2ad-4493-a988-a0b2010a19a7",
   "metadata": {},
   "source": [
    "# BEGIN SOLUTION"
   ]
  },
  {
   "cell_type": "code",
   "execution_count": 30,
   "id": "6910a2e0-cbb6-47ab-ad23-34c0d30dbc4d",
   "metadata": {},
   "outputs": [],
   "source": [
    "def affine(km, ka, message, encipher=True, LETTERS='ABCDEFGHIJKLMNOPQRSTUVWXYZ'):\n",
    "    \"\"\"\n",
    "    Arguments:\n",
    "        km (int): an integer used as the multiplicative key to encipher the message\n",
    "        ka (int): an integer used as the additive key to encipher the message\n",
    "        message (str): the message to encipher\n",
    "        encipher (bool, optional): True --> encipher the message, False -- decipher\n",
    "        LETTERS (str, optional): defines the alphabet of allowable characters\n",
    "    Returns:\n",
    "        (str): encrypted / decrypted version of message\n",
    "    \"\"\"\n",
    "    # YOUR CODE GOES BELOW THIS LINE\n",
    "    \n",
    "    # BEGIN SOLUTION NO PROMPT\n",
    "    message = text_clean(message, LETTERS)\n",
    "    output = ''\n",
    "    \n",
    "    if encipher == True:\n",
    "        for plaintext_character in message:\n",
    "            plaintext_numerical = LETTERS.find(plaintext_character)\n",
    "            ciphertext_numerical = (km * plaintext_numerical + ka) % len(LETTERS)\n",
    "            ciphertext_character = LETTERS[ ciphertext_numerical ]\n",
    "            output += ciphertext_character\n",
    "        return text_block( output )\n",
    "    else:\n",
    "        for ciphertext_character in message:\n",
    "            ciphertext_numerical = LETTERS.find( ciphertext_character )\n",
    "            plaintext_numerical = (ciphertext_numerical - ka) * multiplicative_inverse(km, len(LETTERS)) % len(LETTERS)\n",
    "            plaintext_character = LETTERS[ plaintext_numerical ]\n",
    "            output += plaintext_character   \n",
    "        return output.lower()\n",
    "    # END SOLUTION "
   ]
  },
  {
   "cell_type": "raw",
   "id": "592702f8-ded8-4130-8f1d-2c7ce1762c46",
   "metadata": {},
   "source": [
    "# END SOLUTION"
   ]
  },
  {
   "cell_type": "raw",
   "id": "f330b1cb-f53a-4fe7-b0c5-ece0b6dfb298",
   "metadata": {},
   "source": [
    "# BEGIN TESTS"
   ]
  },
  {
   "cell_type": "code",
   "execution_count": 31,
   "id": "eb4922d4-62e9-4083-9888-142e01f480c9",
   "metadata": {},
   "outputs": [
    {
     "data": {
      "text/plain": [
       "True"
      ]
     },
     "execution_count": 31,
     "metadata": {},
     "output_type": "execute_result"
    }
   ],
   "source": [
    "\"\"\" # BEGIN TEST CONFIG\n",
    "failure_message: Make sure you clean the text before encryption / decryption\n",
    "\"\"\" # END TEST CONFIG\n",
    "affine(3, 10, 'hello!') == affine(3, 10, 'HELLO')"
   ]
  },
  {
   "cell_type": "code",
   "execution_count": 32,
   "id": "52481f96-aa86-48a3-a24c-58f0a80c52a2",
   "metadata": {},
   "outputs": [
    {
     "data": {
      "text/plain": [
       "2"
      ]
     },
     "execution_count": 32,
     "metadata": {},
     "output_type": "execute_result"
    }
   ],
   "source": [
    "\"\"\" # BEGIN TEST CONFIG\n",
    "failure_message: Make sure you are using the LETTERS argument when cleaning text\n",
    "\"\"\" # END TEST CONFIG\n",
    "len(affine(3, 10, 'hello!', LETTERS='ABCDEFGH'))"
   ]
  },
  {
   "cell_type": "code",
   "execution_count": 33,
   "id": "d12dfb52-c1dc-48fa-8566-e1ffcd9d5f5b",
   "metadata": {},
   "outputs": [
    {
     "data": {
      "text/plain": [
       "13"
      ]
     },
     "execution_count": 33,
     "metadata": {},
     "output_type": "execute_result"
    }
   ],
   "source": [
    "\"\"\" # BEGIN TEST CONFIG\n",
    "failure_message: Make sure you are blocking the text when encrypting\n",
    "\"\"\" # END TEST CONFIG\n",
    "len(affine(3, 10, 'test message'))"
   ]
  },
  {
   "cell_type": "code",
   "execution_count": 34,
   "id": "5d31a100-fb25-4b66-b5ea-6d220709a1bd",
   "metadata": {},
   "outputs": [
    {
     "data": {
      "text/plain": [
       "'FEYFI EYYCS E'"
      ]
     },
     "execution_count": 34,
     "metadata": {},
     "output_type": "execute_result"
    }
   ],
   "source": [
    "\"\"\" # BEGIN TEST CONFIG\n",
    "failure_message: Not encrypting correctly with default settings\n",
    "\"\"\" # END TEST CONFIG\n",
    "affine(7, 2, 'test message')"
   ]
  },
  {
   "cell_type": "code",
   "execution_count": 35,
   "id": "836e6a80-af06-480d-a604-2685b03d148c",
   "metadata": {},
   "outputs": [
    {
     "data": {
      "text/plain": [
       "'testmessage'"
      ]
     },
     "execution_count": 35,
     "metadata": {},
     "output_type": "execute_result"
    }
   ],
   "source": [
    "\"\"\" # BEGIN TEST CONFIG\n",
    "failure_message: Not decrypting correctly with default settings\n",
    "\"\"\" # END TEST CONFIG\n",
    "affine(7, 2, 'FEYFI EYYCS E', encipher=False)"
   ]
  },
  {
   "cell_type": "code",
   "execution_count": 36,
   "id": "48a45127-401c-4e86-a1df-53c4870c4827",
   "metadata": {},
   "outputs": [
    {
     "data": {
      "text/plain": [
       "'GDF'"
      ]
     },
     "execution_count": 36,
     "metadata": {},
     "output_type": "execute_result"
    }
   ],
   "source": [
    "\"\"\" # BEGIN TEST CONFIG\n",
    "failure_message: Not encrypting correctly with non-default LETTERS\n",
    "\"\"\" # END TEST CONFIG\n",
    "affine(19, 3, 'bag', LETTERS='ABCDEFGH')"
   ]
  },
  {
   "cell_type": "code",
   "execution_count": 37,
   "id": "12eb1c8c-5646-44ee-8381-8c6a22120222",
   "metadata": {},
   "outputs": [
    {
     "data": {
      "text/plain": [
       "'bag'"
      ]
     },
     "execution_count": 37,
     "metadata": {},
     "output_type": "execute_result"
    }
   ],
   "source": [
    "\"\"\" # BEGIN TEST CONFIG\n",
    "failure_message: Not decrypting correctly with non-default LETTERS\n",
    "\"\"\" # END TEST CONFIG\n",
    "affine(19, 3, 'GDF', encipher=False, LETTERS='ABCDEFGH')"
   ]
  },
  {
   "cell_type": "raw",
   "id": "65144839-6333-45c0-ba96-dc8c499dcae0",
   "metadata": {},
   "source": [
    "# END TESTS"
   ]
  },
  {
   "cell_type": "raw",
   "id": "e1785452-fa52-4739-aad0-ea3c85b7f2ea",
   "metadata": {},
   "source": [
    "# END QUESTION"
   ]
  },
  {
   "cell_type": "raw",
   "id": "2443c55f-c7d9-4d73-af4b-df8372128585",
   "metadata": {},
   "source": [
    "# BEGIN QUESTION\n",
    "name: q2_5\n",
    "points: 1"
   ]
  },
  {
   "cell_type": "markdown",
   "id": "aa39cc35-73fd-4aee-841c-1bac9d06f21b",
   "metadata": {},
   "source": [
    "### Question 2.5: `chi_squared_score`\n",
    "\n",
    "The `chi_squared_score` function should take in a candidate plaintext, clean it, and then score it using the $\\chi^2$ method. Your function should use the provided letter frequencies in the list `standard_frequencies`, since there is no agreed upon set of frequencies of each letter in the English language."
   ]
  },
  {
   "cell_type": "raw",
   "id": "4932bb13-1943-471a-99f5-4151b5a7e629",
   "metadata": {},
   "source": [
    "# BEGIN SOLUTION"
   ]
  },
  {
   "cell_type": "code",
   "execution_count": 38,
   "id": "ca3c0f56-481d-4017-b88b-04e4a224112a",
   "metadata": {},
   "outputs": [],
   "source": [
    "def chi_squared_score( candidate, LETTERS = 'ABCDEFGHIJKLMNOPQRSTUVWXYZ' ):\n",
    "    candidate = text_clean( candidate, LETTERS )\n",
    "    standard_frequencies = [0.08167, 0.01492, 0.02782, 0.04253, 0.12702, 0.02228, 0.02015, 0.06094, 0.06966, 0.00153, 0.00772, 0.04025, 0.02406, 0.06749, 0.07507, 0.01929, 0.00095, 0.05987, 0.06327, 0.09056, 0.02758, 0.00978, 0.02360, 0.00150, 0.01974, 0.00074]\n",
    "    # YOUR CODE GOES BELOW THIS LINE\n",
    "    \n",
    "    # BEGIN SOLUTION NO PROMPT\n",
    "    count = [] \n",
    "    expected  = [] \n",
    "    sub_scores = [] \n",
    "    \n",
    "    length_of_candidate = len(candidate) \n",
    "    \n",
    "    for char in LETTERS: \n",
    "        count.append( candidate.count(char) ) \n",
    "        \n",
    "    for i in standard_frequencies:\n",
    "        expected.append(i * length_of_candidate )\n",
    "        \n",
    "    for i in range(len(LETTERS)):\n",
    "        sub_scores.append( (count[i] - expected[i] )**2 / expected[i])\n",
    "    \n",
    "    score = sum(sub_scores)\n",
    "    \n",
    "    return score\n",
    "\n",
    "    # END SOLUTION"
   ]
  },
  {
   "cell_type": "raw",
   "id": "c73339b2-3144-4a16-9454-7ffe8d41fa67",
   "metadata": {},
   "source": [
    "# END SOLUTION"
   ]
  },
  {
   "cell_type": "raw",
   "id": "f85c0c00-2835-4c6e-8df0-5c7ef1a829c0",
   "metadata": {},
   "source": [
    "# BEGIN TESTS"
   ]
  },
  {
   "cell_type": "code",
   "execution_count": 39,
   "id": "cda52fbd-96c7-4f79-9ffd-d93000e5109d",
   "metadata": {},
   "outputs": [
    {
     "data": {
      "text/plain": [
       "True"
      ]
     },
     "execution_count": 39,
     "metadata": {},
     "output_type": "execute_result"
    }
   ],
   "source": [
    "\"\"\" # BEGIN TEST CONFIG\n",
    "failure_message: Make sure you clean each candidate, just to be safe\n",
    "\"\"\" # END TEST CONFIG\n",
    "chi_squared_score('hello!') == chi_squared_score('HELLO')"
   ]
  },
  {
   "cell_type": "code",
   "execution_count": 40,
   "id": "ba4f5d7b-5012-4d9d-aadc-a1be338b5d8f",
   "metadata": {},
   "outputs": [
    {
     "data": {
      "text/plain": [
       "22.39638"
      ]
     },
     "execution_count": 40,
     "metadata": {},
     "output_type": "execute_result"
    }
   ],
   "source": [
    "\"\"\" # BEGIN TEST CONFIG\n",
    "failure_message: You are not computing the correct score for a small message\n",
    "\"\"\" # END TEST CONFIG\n",
    "round( chi_squared_score('HELLO'), 5)"
   ]
  },
  {
   "cell_type": "code",
   "execution_count": 41,
   "id": "ab3a09a3-fb71-4424-9768-125908f3aa9d",
   "metadata": {},
   "outputs": [
    {
     "data": {
      "text/plain": [
       "703.7612"
      ]
     },
     "execution_count": 41,
     "metadata": {},
     "output_type": "execute_result"
    }
   ],
   "source": [
    "\"\"\" # BEGIN TEST CONFIG\n",
    "failure_message: You are not computing the correct score for a long message\n",
    "\"\"\" # END TEST CONFIG\n",
    "round( chi_squared_score('JDFKJHGKJHSDGKJFHGKEHWBHJBFKJHDSFBDKJHFGKUYEGWYHGKALKJHIUYERIOUWEBVNMCBXMQEORIUE'), 5 )"
   ]
  },
  {
   "cell_type": "raw",
   "id": "3bddcbff-5771-44ac-b6af-93339cd988d5",
   "metadata": {},
   "source": [
    "# END TESTS"
   ]
  },
  {
   "cell_type": "raw",
   "id": "07480d01-f3f2-4cd4-9af5-43b663fc1b89",
   "metadata": {},
   "source": [
    "# END QUESTION"
   ]
  },
  {
   "cell_type": "markdown",
   "id": "86ad8da4-a7c8-4ac9-8975-ab8654d29986",
   "metadata": {},
   "source": [
    "## Part 3: Cryptanalysis\n",
    "\n",
    "You'll be using the ciphertext contained in `hw01.txt` to complete the following questions. Run the cell below to load it as the string `ciphertext`. The first 100 characters will be printed to verify it's been loaded correctly."
   ]
  },
  {
   "cell_type": "code",
   "execution_count": 3,
   "id": "4f98a58d-da71-4a41-9308-da032d3256f3",
   "metadata": {},
   "outputs": [
    {
     "name": "stdout",
     "output_type": "stream",
     "text": [
      "OIJMK IAWJG TFOIJ MKIAW JOJMW FGLMO WAVWQ GAAKC IOVAI JBJMA WFRVG RNKJR VWCKC WTRAV WSIMR WNKJE KRVK ...\n"
     ]
    }
   ],
   "source": [
    "with open('hw01.txt') as f: \n",
    "    ciphertext = f.read() \n",
    "\n",
    "print(ciphertext[0:100], '...')"
   ]
  },
  {
   "cell_type": "raw",
   "id": "75c2e95a-8a94-4f48-83c2-ae82d5638d43",
   "metadata": {},
   "source": [
    "# BEGIN QUESTION\n",
    "name: q3_1\n",
    "points: 0"
   ]
  },
  {
   "cell_type": "markdown",
   "id": "da39a366-a44b-43bf-aa29-21b42ef8b09d",
   "metadata": {},
   "source": [
    "### Question 3.1\n",
    "\n",
    "In the cell below, create a list of frequencies for each character in `LETTERS`. Then, use that list to create a bar chart that displays the frequency of the 26 English letters in the current `ciphertext` message. Each frequency should be between 0 and 1 (a proportion, not a percentage) and the bar chart should have labels for both the x-axis and y-axis, as well as a title for the entire chart.\n",
    "\n",
    "This question will be graded manually, but there are a few grader checks provided to help you check for some common mistakes."
   ]
  },
  {
   "cell_type": "raw",
   "id": "ee5b7c8d-865e-4c6a-a772-df4e7a3d1a50",
   "metadata": {},
   "source": [
    "# BEGIN SOLUTION"
   ]
  },
  {
   "cell_type": "code",
   "execution_count": 7,
   "id": "90e0c474-90cd-4785-ac06-ef009741decd",
   "metadata": {},
   "outputs": [
    {
     "data": {
      "image/png": "[encoded data removed]",
      "text/plain": [
       "<Figure size 432x288 with 1 Axes>"
      ]
     },
     "metadata": {
      "needs_background": "light"
     },
     "output_type": "display_data"
    }
   ],
   "source": [
    "import matplotlib.pyplot as plt\n",
    "LETTERS = 'ABCDEFGHIJKLMNOPQRSTUVWXYZ'\n",
    "frequencies = []\n",
    "ciphertext_length = len(ciphertext.replace(' ','')) # SOLUTION\n",
    "# YOUR CODE GOES BELOW THIS LINE\n",
    "\n",
    "# BEGIN SOLUTION NO PROMPT\n",
    "for char in LETTERS:\n",
    "    frequencies.append( ciphertext.count(char) / ciphertext_length )\n",
    "# END SOLUTION    \n",
    "    \n",
    "# Everything above this comment should be about computing the frequencies    \n",
    "# Everything below this comment should be about creating the bar chart\n",
    "\n",
    "plt.bar(list(LETTERS), frequencies, color = \"lime\") # SOLUTION\n",
    "plt.xlabel('Letters') # SOLUTION\n",
    "plt.ylabel('Frequency') # SOLUTION\n",
    "plt.title('Frequency Analysis') # SOLUTION\n",
    "\n",
    "plt.show() # SOLUTION"
   ]
  },
  {
   "cell_type": "raw",
   "id": "71cdafec-ba8a-4c90-a0fa-4512f6bf1e9d",
   "metadata": {},
   "source": [
    "# END SOLUTION"
   ]
  },
  {
   "cell_type": "raw",
   "id": "67f98359-6d03-4925-83d9-8865e22abe19",
   "metadata": {},
   "source": [
    "# BEGIN TESTS"
   ]
  },
  {
   "cell_type": "code",
   "execution_count": 44,
   "id": "58b35f9b-14cb-4726-bec4-8109579bb8f3",
   "metadata": {},
   "outputs": [
    {
     "data": {
      "text/plain": [
       "530"
      ]
     },
     "execution_count": 44,
     "metadata": {},
     "output_type": "execute_result"
    }
   ],
   "source": [
    "\"\"\" # BEGIN TEST CONFIG\n",
    "failure_message: When computing the length of the message, make sure you are removing the spaces before you count.\n",
    "\"\"\" # END TEST CONFIG\n",
    "ciphertext_length"
   ]
  },
  {
   "cell_type": "code",
   "execution_count": 45,
   "id": "1c3fa3cc-9b74-47bd-b032-df4b36830b34",
   "metadata": {},
   "outputs": [
    {
     "data": {
      "text/plain": [
       "1.0"
      ]
     },
     "execution_count": 45,
     "metadata": {},
     "output_type": "execute_result"
    }
   ],
   "source": [
    "\"\"\" # BEGIN TEST CONFIG\n",
    "failure_message: The frequencies list should sum to 1.0. If it doesn't, are you over or under counting?\n",
    "\"\"\" # END TEST CONFIG\n",
    "round( sum(frequencies), 5)"
   ]
  },
  {
   "cell_type": "code",
   "execution_count": 46,
   "id": "2888dfbe-4fcc-4fc4-9068-5e576a971827",
   "metadata": {},
   "outputs": [
    {
     "data": {
      "text/plain": [
       "0.06604"
      ]
     },
     "execution_count": 46,
     "metadata": {},
     "output_type": "execute_result"
    }
   ],
   "source": [
    "\"\"\" # BEGIN TEST CONFIG\n",
    "failure_message: The ciphertext should have 0.06604 (6.604%) of the message as the character A\n",
    "\"\"\" # END TEST CONFIG\n",
    "round( frequencies[0], 5)"
   ]
  },
  {
   "cell_type": "raw",
   "id": "41be82e2-7d96-4d0e-9b58-3f062c12d2a0",
   "metadata": {},
   "source": [
    "# END TESTS"
   ]
  },
  {
   "cell_type": "raw",
   "id": "b0c0dda6-f0bb-48ac-8ce4-0a0e7ddf1733",
   "metadata": {},
   "source": [
    "# END QUESTION"
   ]
  },
  {
   "cell_type": "raw",
   "id": "868b0aa2-c39b-4866-9c86-a59dc48b9f96",
   "metadata": {},
   "source": [
    "# BEGIN QUESTION\n",
    "name: q3_2\n",
    "points: 1"
   ]
  },
  {
   "cell_type": "markdown",
   "id": "7a63be47-ed60-4be8-a42b-7088fdb4e5e3",
   "metadata": {},
   "source": [
    "### Question 3.2\n",
    "\n",
    "Use the `chi_squared_score` function and the provided loops to score all 312 possible candidates for the correct plaintext. Store each of the 312 individual results to a variable named `one_result` in the format:\n",
    "\n",
    "`[<multiplicative-key>, <additive-key>, <chi-squared score>]` \n",
    "\n",
    "which should then appended to the list named `results` which will eventually hold all 312 result lists.\n",
    "\n",
    "The last 4 lines of code will sort `results` by the chi-squared score as long as `results` is constructed correctly, and then extract the most likely km and ka values from the top single result."
   ]
  },
  {
   "cell_type": "raw",
   "id": "f027d778-afa7-4d66-8f1c-5de9c135f575",
   "metadata": {},
   "source": [
    "# BEGIN SOLUTION"
   ]
  },
  {
   "cell_type": "code",
   "execution_count": 47,
   "id": "6cffb64a-c094-40e5-a81e-c10ae7be214e",
   "metadata": {},
   "outputs": [],
   "source": [
    "results = []\n",
    "\n",
    "for km in [1, 3, 5, 7, 9, 11, 15, 17, 19, 21, 23, 25]:\n",
    "    for ka in range(26):\n",
    "        candidate_text = affine(km, ka, ciphertext, encipher=False) # SOLUTION\n",
    "        one_result = [km, ka, chi_squared_score( candidate_text )] # SOLUTION\n",
    "        results.append( one_result ) # SOLUTION\n",
    "        \n",
    "# DON'T CHANGE THE CODE BELOW THIS COMMENT\n",
    "# THE CODE BELOW WILL SORT YOUR RESULTS FOR YOU\n",
    "from operator import itemgetter\n",
    "results = sorted(results, key=itemgetter(2))\n",
    "\n",
    "likely_km = results[0][0]\n",
    "likely_ka = results[0][1]"
   ]
  },
  {
   "cell_type": "code",
   "execution_count": 48,
   "id": "ab74146f-e5de-4105-8117-9e821c4e2836",
   "metadata": {},
   "outputs": [
    {
     "name": "stdout",
     "output_type": "stream",
     "text": [
      "Likely multiplicative key: 17\n",
      "Likely additive key: 6\n"
     ]
    }
   ],
   "source": [
    "print( \"Likely multiplicative key:\", likely_km)\n",
    "print( \"Likely additive key:\", likely_ka )"
   ]
  },
  {
   "cell_type": "raw",
   "id": "9e11a1ca-dc5d-4262-aa54-5fa797da7213",
   "metadata": {},
   "source": [
    "# END SOLUTION"
   ]
  },
  {
   "cell_type": "raw",
   "id": "ebe34b3a-4a95-44bd-ba2c-34f958cea2b3",
   "metadata": {},
   "source": [
    "# BEGIN TESTS"
   ]
  },
  {
   "cell_type": "code",
   "execution_count": 49,
   "id": "44836022-0589-4260-98b3-549417ec53da",
   "metadata": {},
   "outputs": [
    {
     "data": {
      "text/plain": [
       "41.85382"
      ]
     },
     "execution_count": 49,
     "metadata": {},
     "output_type": "execute_result"
    }
   ],
   "source": [
    "\"\"\" # BEGIN TEST CONFIG\n",
    "failure_message: You are not computing the correct lowest score for this message.\n",
    "\"\"\" # END TEST CONFIG\n",
    "round(results[0][2], 5)"
   ]
  },
  {
   "cell_type": "code",
   "execution_count": 50,
   "id": "acec7f81-958e-427d-b02c-e921c6aa4091",
   "metadata": {},
   "outputs": [
    {
     "data": {
      "text/plain": [
       "17"
      ]
     },
     "execution_count": 50,
     "metadata": {},
     "output_type": "execute_result"
    }
   ],
   "source": [
    "\"\"\" # BEGIN TEST CONFIG\n",
    "failure_message: You are not computing the correct multiplicative key\n",
    "\"\"\" # END TEST CONFIG\n",
    "likely_km"
   ]
  },
  {
   "cell_type": "code",
   "execution_count": 51,
   "id": "ce4d2039-65fd-491c-b855-32c24b19d4b7",
   "metadata": {},
   "outputs": [
    {
     "data": {
      "text/plain": [
       "6"
      ]
     },
     "execution_count": 51,
     "metadata": {},
     "output_type": "execute_result"
    }
   ],
   "source": [
    "\"\"\" # BEGIN TEST CONFIG\n",
    "failure_message: You are not computing the correct additive key\n",
    "\"\"\" # END TEST CONFIG\n",
    "likely_ka"
   ]
  },
  {
   "cell_type": "raw",
   "id": "277cd014-4b2f-419a-917e-f658524d2932",
   "metadata": {},
   "source": [
    "# END TESTS"
   ]
  },
  {
   "cell_type": "raw",
   "id": "a3ba7b70-8666-48ba-91bb-b69135422e23",
   "metadata": {},
   "source": [
    "# END QUESTION"
   ]
  }
 ],
 "metadata": {
  "kernelspec": {
   "display_name": "Python 3 (ipykernel)",
   "language": "python",
   "name": "python3"
  },
  "language_info": {
   "codemirror_mode": {
    "name": "ipython",
    "version": 3
   },
   "file_extension": ".py",
   "mimetype": "text/x-python",
   "name": "python",
   "nbconvert_exporter": "python",
   "pygments_lexer": "ipython3",
   "version": "3.10.5"
  }
 },
 "nbformat": 4,
 "nbformat_minor": 5
}
